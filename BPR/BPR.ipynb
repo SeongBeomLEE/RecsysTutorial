{
  "nbformat": 4,
  "nbformat_minor": 0,
  "metadata": {
    "colab": {
      "name": "BPR.ipynb",
      "provenance": [],
      "collapsed_sections": [],
      "mount_file_id": "18FkUoKtn4VKlZsWhkoSrENPSNDbjMG9z",
      "authorship_tag": "ABX9TyNmpkaaKT2rUQgUVXpXXScc",
      "include_colab_link": true
    },
    "kernelspec": {
      "name": "python3",
      "display_name": "Python 3"
    },
    "language_info": {
      "name": "python"
    },
    "accelerator": "GPU"
  },
  "cells": [
    {
      "cell_type": "markdown",
      "metadata": {
        "id": "view-in-github",
        "colab_type": "text"
      },
      "source": [
        "<a href=\"https://colab.research.google.com/github/SeongBeomLEE/RecsysTutorial/blob/main/BPR/BPR.ipynb\" target=\"_parent\"><img src=\"https://colab.research.google.com/assets/colab-badge.svg\" alt=\"Open In Colab\"/></a>"
      ]
    },
    {
      "cell_type": "markdown",
      "source": [
        "- GMF를 가지고 비교\n",
        "- 메트릭은 NDCG, HIT 사용\n",
        "- 동일한 Weigh, 배치마다 동일한 데이터셋으로 비교"
      ],
      "metadata": {
        "id": "qC4xR-8b9V3V"
      }
    },
    {
      "cell_type": "code",
      "source": [
        "# !pip install python-box"
      ],
      "metadata": {
        "id": "dU4Rk5s_-sJV"
      },
      "execution_count": 1,
      "outputs": []
    },
    {
      "cell_type": "code",
      "source": [
        "import random\n",
        "import numpy as np\n",
        "import pandas as pd\n",
        "\n",
        "import torch\n",
        "import torch.nn as nn\n",
        "import torch.nn.functional as F\n",
        "\n",
        "import warnings\n",
        "from tqdm import tqdm\n",
        "\n",
        "from box import Box\n",
        "\n",
        "warnings.filterwarnings(action='ignore')\n",
        "\n",
        "data_dir = '/content/drive/MyDrive/RecsysTutorial/Data/MovieLens/'\n",
        "model_dir = '/content/drive/MyDrive/RecsysTutorial/Model/'"
      ],
      "metadata": {
        "id": "7SbA1rBV8dMW"
      },
      "execution_count": 2,
      "outputs": []
    },
    {
      "cell_type": "code",
      "execution_count": 3,
      "metadata": {
        "id": "G6mDY5ic8S-_"
      },
      "outputs": [],
      "source": [
        "seed = 22\n",
        "random.seed(seed)\n",
        "np.random.seed(seed)"
      ]
    },
    {
      "cell_type": "markdown",
      "source": [
        "# 학습 설정"
      ],
      "metadata": {
        "id": "tj9zZZquHqKK"
      }
    },
    {
      "cell_type": "code",
      "source": [
        "config = {\n",
        "    'top_k' : 10,\n",
        "    'epochs' : 50,\n",
        "    'lr' : 1e-03,\n",
        "    'batch_size' : 256,\n",
        "\n",
        "    'num_factor' :64,\n",
        "    \"reg\" : 1e-5,\n",
        "    'neg_samples' : 3,\n",
        "}\n",
        "\n",
        "config = Box(config)\n",
        "\n",
        "device = torch.device('cuda') if torch.cuda.is_available() else torch.device('cpu')"
      ],
      "metadata": {
        "id": "Ts-KDn8V8r-k"
      },
      "execution_count": 4,
      "outputs": []
    },
    {
      "cell_type": "markdown",
      "source": [
        "# 데이터셋"
      ],
      "metadata": {
        "id": "DcHWD3OVHsyw"
      }
    },
    {
      "cell_type": "code",
      "source": [
        "class MakeDataset():\n",
        "    def __init__(self, config, df : pd.DataFrame):\n",
        "        self.config = config\n",
        "        self.df = df\n",
        "        self.user_encoder, self.user_decoder, self.item_encoder, self.item_decoder = self.get_encoder_decoder()\n",
        "        self.num_users = len(self.user_encoder)\n",
        "        self.num_items = len(self.item_encoder)\n",
        "        self.all_items = [i for i in range(self.num_items)]\n",
        "\n",
        "        self.df['userId'] = self.df['userId'].apply(lambda x : self.user_encoder[x])\n",
        "        self.df['movieId'] = self.df['movieId'].apply(lambda x : self.item_encoder[x])\n",
        "        self.user_neg_candidate = self.get_user_neg_candidate()\n",
        "\n",
        "        self.train_set_user, self.train_set_item, self.train_set_target, self.test_set_user, self.test_set_item, self.test_set_target = self.train_test_data_split()\n",
        "\n",
        "    def train_test_data_split(self):\n",
        "\n",
        "        user_id_li = self.df['userId'].unique()\n",
        "\n",
        "        train_set_item = []\n",
        "        train_set_user = []\n",
        "        train_set_target = []\n",
        "\n",
        "        test_set_item = []\n",
        "        test_set_user = []\n",
        "        test_set_target = []\n",
        "\n",
        "        for user_id in user_id_li:\n",
        "            user_df = self.df[self.df['userId'] == user_id].sort_values('timestamp')\n",
        "            movieId_li = user_df['movieId'].tolist()\n",
        "            \n",
        "            train_item = movieId_li[:-1]\n",
        "            train_user = [user_id] * len(train_item)\n",
        "            train_target = [1] * len(train_item)\n",
        "\n",
        "            test_itme = [movieId_li[-1]] + np.random.choice(self.user_neg_candidate[user_id], 99, replace = False).tolist()\n",
        "            test_user = [user_id] * len(test_itme)\n",
        "            test_target = [1] + [0] * (len(test_itme) - 1)\n",
        "\n",
        "            train_set_item += train_item\n",
        "            train_set_user += train_user\n",
        "            train_set_target += train_target\n",
        "\n",
        "            test_set_item += test_itme\n",
        "            test_set_user += test_user\n",
        "            test_set_target += test_target\n",
        "\n",
        "        return train_set_user, train_set_item, train_set_target, test_set_user, test_set_item, test_set_target\n",
        "\n",
        "    def get_neg_samples(self, n : int, user_id_li):\n",
        "        neg_samples_user = []\n",
        "        neg_samples_item = []\n",
        "        for u in user_id_li:\n",
        "            u_neg_candidate = self.user_neg_candidate[u]\n",
        "            for _ in range(n):\n",
        "                neg_samples_item.append(u_neg_candidate[np.random.randint(len(u_neg_candidate))])\n",
        "                neg_samples_user.append(u)\n",
        "\n",
        "        return neg_samples_user, neg_samples_item\n",
        "\n",
        "    def get_user_neg_candidate(self):\n",
        "        user_candidate = {}\n",
        "        for user_id in self.df['userId'].unique():\n",
        "            movieId_li = self.df[self.df['userId'] == user_id]['movieId'].tolist()\n",
        "            movieId_li = [movieId for movieId in movieId_li]\n",
        "            user_candidate[user_id] = list(set(self.all_items) - set(movieId_li))\n",
        "        \n",
        "        return user_candidate\n",
        "\n",
        "    def get_encoder_decoder(self):\n",
        "        user_encoder, user_decoder = {}, {}\n",
        "        for idx, user_id in enumerate(self.df['userId'].unique()):\n",
        "            user_encoder[user_id] = idx\n",
        "            user_decoder[idx] = user_id\n",
        "\n",
        "        item_encoder, item_decoder = {}, {}\n",
        "        for idx, item_id in enumerate(self.df['movieId'].unique()):\n",
        "            item_encoder[item_id] = idx\n",
        "            item_decoder[idx] = item_id\n",
        "        \n",
        "        return user_encoder, user_decoder, item_encoder, item_decoder\n",
        "    \n",
        "    def get_data(self, train : bool = True):\n",
        "        if train: return self.train_set_user, self.train_set_item, self.train_set_target\n",
        "        else: return self.test_set_user, self.test_set_item, self.test_set_target"
      ],
      "metadata": {
        "id": "Ldv0nAnn-h-L"
      },
      "execution_count": 5,
      "outputs": []
    },
    {
      "cell_type": "code",
      "source": [
        "from torch.utils.data import Dataset\n",
        "from torch.utils.data import DataLoader\n",
        "\n",
        "class CustomDataset(Dataset):\n",
        "    def __init__(self, set_user : list, set_item : list, set_target : list):\n",
        "        self.set_user = set_user\n",
        "        self.set_item = set_item\n",
        "        self.set_target = set_target\n",
        "\n",
        "    def __len__(self):\n",
        "        return len(self.set_user)\n",
        "\n",
        "    def __getitem__(self, idx):\n",
        "        user = self.set_user[idx]\n",
        "        item = self.set_item[idx]\n",
        "        target = self.set_target[idx]\n",
        "\n",
        "        return user, item, target"
      ],
      "metadata": {
        "id": "W-9e--KXHMhb"
      },
      "execution_count": 6,
      "outputs": []
    },
    {
      "cell_type": "markdown",
      "source": [
        "# 모델"
      ],
      "metadata": {
        "id": "o-bgIRfmHy6O"
      }
    },
    {
      "cell_type": "code",
      "source": [
        "class GMF(nn.Module):\n",
        "    def __init__(self, num_user, num_item, num_factor):\n",
        "        super(GMF, self).__init__()\n",
        "        self.user_emb = nn.Embedding(num_user, num_factor)\n",
        "        self.item_emb = nn.Embedding(num_item, num_factor)\n",
        "        \n",
        "        self.predict_layer = nn.Sequential(\n",
        "            nn.Linear(num_factor, 1, bias = False)\n",
        "        )\n",
        "\n",
        "        self._init_weight_()\n",
        "    \n",
        "    def _init_weight_(self):\n",
        "        nn.init.normal_(self.user_emb.weight, std=0.01)\n",
        "        nn.init.normal_(self.item_emb.weight, std=0.01)\n",
        "        for m in self.predict_layer:\n",
        "            if isinstance(m, nn.Linear):\n",
        "                nn.init.kaiming_uniform_(m.weight, a=1, nonlinearity=\"sigmoid\")\n",
        "    \n",
        "    def forward(self, user, item):\n",
        "        user_emb = self.user_emb(user)\n",
        "        item_emb = self.item_emb(item)\n",
        "\n",
        "        output = self.predict_layer(user_emb * item_emb)\n",
        "\n",
        "        return output.view(-1)"
      ],
      "metadata": {
        "id": "mJzXQp1aHzk7"
      },
      "execution_count": 7,
      "outputs": []
    },
    {
      "cell_type": "markdown",
      "source": [
        "# 학습 함수"
      ],
      "metadata": {
        "id": "kNYhN5yRIjB5"
      }
    },
    {
      "cell_type": "code",
      "source": [
        "def hit(target_item, pred_items):\n",
        "    if target_item in pred_items:\n",
        "        return 1\n",
        "    return 0\n",
        "\n",
        "def ndcg(target_item, pred_items):\n",
        "    if target_item in pred_items:\n",
        "        idx = pred_items.index(target_item)\n",
        "        # 초기 인덱스가 0이기 때문에 +2 함\n",
        "        return np.reciprocal(np.log2(idx + 2))\n",
        "    return 0\n",
        "\n",
        "def metrics(model, test_loader, top_k):\n",
        "    model.eval()\n",
        "    HR, NDCG = [], []\n",
        "    with torch.no_grad():\n",
        "        for user, item, _ in test_loader:\n",
        "            user = user.to(device)\n",
        "            item = item.to(device)\n",
        "\n",
        "            predictions = model(user, item)\n",
        "            # 가장 높은 top_k개 선택\n",
        "            _, indices = torch.topk(predictions, top_k)\n",
        "            # 해당 상품 index 선택\n",
        "            recommends = torch.take(item, indices).cpu().numpy().tolist()\n",
        "            # 정답값 선택\n",
        "            target_item = item[0].item()\n",
        "            HR.append(hit(target_item, recommends))\n",
        "            NDCG.append(ndcg(target_item, recommends))\n",
        "\n",
        "    return np.mean(HR), np.mean(NDCG)"
      ],
      "metadata": {
        "id": "HMlxwn8xIkr5"
      },
      "execution_count": 8,
      "outputs": []
    },
    {
      "cell_type": "code",
      "source": [
        "class BPR_Loss(nn.Module):\n",
        "    def __init__(self):\n",
        "        super(BPR_Loss, self).__init__()\n",
        "    \n",
        "    def forward(self, pos, neg):\n",
        "        bpr_loss = -torch.mean(torch.log(torch.sigmoid(pos - neg)))\n",
        "        return bpr_loss"
      ],
      "metadata": {
        "id": "F3PKzgFAOxll"
      },
      "execution_count": 9,
      "outputs": []
    },
    {
      "cell_type": "markdown",
      "source": [
        "# 학습"
      ],
      "metadata": {
        "id": "jXt5O3vgIgqc"
      }
    },
    {
      "cell_type": "code",
      "source": [
        "ratings_df = pd.read_csv(data_dir + 'ratings.csv')\n",
        "\n",
        "dataset = MakeDataset(config = config, df = ratings_df)\n",
        "\n",
        "train_set_user, train_set_item, train_set_target = dataset.get_data(train = True)\n",
        "train_dataset = CustomDataset(set_user = train_set_user, set_item = train_set_item, set_target = train_set_target)\n",
        "train_loader = DataLoader(train_dataset, batch_size = config.batch_size, shuffle = True, drop_last = False)\n",
        "\n",
        "test_set_user, test_set_item, test_set_target = dataset.get_data(train = False)\n",
        "test_dataset = CustomDataset(set_user = test_set_user, set_item = test_set_item, set_target = test_set_target)\n",
        "test_loader = DataLoader(test_dataset, batch_size = 100, shuffle = False, drop_last = False)"
      ],
      "metadata": {
        "id": "nmChH4jvIJoj"
      },
      "execution_count": 10,
      "outputs": []
    },
    {
      "cell_type": "code",
      "source": [
        "import copy\n",
        "# 동일한 Weigh에서 초기화 시키기 위해서 copy 사용\n",
        "\n",
        "gmf = GMF(num_user = dataset.num_users, num_item = dataset.num_items, num_factor = config.num_factor)\n",
        "model = copy.deepcopy(gmf).to(device)\n",
        "optimizer = torch.optim.Adam(model.parameters(), lr = config.lr)\n",
        "loss_func = nn.BCELoss()\n",
        "\n",
        "bpr_model = copy.deepcopy(gmf).to(device)\n",
        "bpr_optimizer = torch.optim.Adam(bpr_model.parameters(), lr = config.lr)\n",
        "bpr_loss_func = BPR_Loss()"
      ],
      "metadata": {
        "id": "q_ewJstzLH-p"
      },
      "execution_count": 11,
      "outputs": []
    },
    {
      "cell_type": "code",
      "source": [
        "non_bpr_model_loss_list = []\n",
        "non_bpr_model_hr_list = []\n",
        "non_bpr_model_ndcg_list = []\n",
        "\n",
        "bpr_model_loss_list = []\n",
        "bpr_model_hr_list = []\n",
        "bpr_model_ndcg_list = []\n",
        "\n",
        "best_metric = 0\n",
        "bpr_best_metric = 0\n",
        "\n",
        "for epoch in range(1, config.epochs + 1):\n",
        "    # 학습\n",
        "    model.train()\n",
        "    bpr_model.train()\n",
        "\n",
        "    train_loss = 0\n",
        "    bpr_train_loss = 0\n",
        "\n",
        "    for user, item, target in train_loader:\n",
        "        # neg_sampling\n",
        "        neg_user, neg_item = dataset.get_neg_samples(n = config.neg_samples, user_id_li = user.numpy().tolist())\n",
        "        neg_target = [0] * len(neg_item)\n",
        "\n",
        "        user, item, target = user.to(device), item.to(device), target.to(device).float()\n",
        "        neg_user, neg_item, neg_target = torch.tensor(neg_user).to(device), torch.tensor(neg_item).to(device), torch.tensor(neg_target).to(device).float()\n",
        "\n",
        "        all_user = torch.concat([user, torch.tensor(neg_user)])\n",
        "        all_item = torch.concat([item, torch.tensor(neg_item)])\n",
        "        all_target = torch.concat([target, torch.tensor(neg_target)])\n",
        "\n",
        "        # BPR X 모델 학습\n",
        "        optimizer.zero_grad()\n",
        "        output = model(all_user, all_item)\n",
        "        loss = loss_func(torch.sigmoid(output), all_target)\n",
        "\n",
        "        loss.backward()\n",
        "        optimizer.step()\n",
        "\n",
        "        train_loss += loss.item()\n",
        "\n",
        "        # BPR O 모델 학습\n",
        "        bpr_optimizer.zero_grad()\n",
        "        output = bpr_model(all_user, all_item)\n",
        "        pos_output, neg_output = torch.split(output, [len(user), len(neg_user)])\n",
        "        pos_output = torch.concat([pos_output.view(-1, 1), pos_output.view(-1, 1), pos_output.view(-1, 1)], dim = 1).view(-1)\n",
        "\n",
        "        loss = bpr_loss_func(pos_output, neg_output)\n",
        "\n",
        "        loss.backward()\n",
        "        bpr_optimizer.step()\n",
        "\n",
        "        bpr_train_loss += loss.item()\n",
        "\n",
        "    train_loss /= len(train_loader)\n",
        "    bpr_train_loss /= len(train_loader)\n",
        "\n",
        "    # 평가\n",
        "    non_bpr_model_hr, non_bpr_model_ndcg = metrics(model = model, test_loader = test_loader, top_k = config.top_k)\n",
        "    bpr_model_hr, bpr_model_ndcg = metrics(model = bpr_model, test_loader = test_loader, top_k = config.top_k)\n",
        "\n",
        "    print(f\"[EPOCH: {epoch}]\")\n",
        "    print(f\"Non-BPR-GMF Train Loss: {train_loss:.4f}, HR: {non_bpr_model_hr:.4f}, NDCG: {non_bpr_model_ndcg:.4f}\")\n",
        "    print(f\"BPR-GMF Train Loss: {bpr_train_loss:.4f}, HR: {bpr_model_hr:.4f}, NDCG: {bpr_model_ndcg:.4f}\\n\")\n",
        "\n",
        "    non_bpr_model_loss_list.append(train_loss)\n",
        "    non_bpr_model_hr_list.append(non_bpr_model_hr)\n",
        "    non_bpr_model_ndcg_list.append(non_bpr_model_ndcg)\n",
        "\n",
        "    bpr_model_loss_list.append(bpr_train_loss)\n",
        "    bpr_model_hr_list.append(bpr_model_hr)\n",
        "    bpr_model_ndcg_list.append(bpr_model_ndcg)\n",
        "\n",
        "    if best_metric < non_bpr_model_hr:\n",
        "        best_metric = non_bpr_model_hr\n",
        "        torch.save(model.state_dict(), model_dir + f'Non-BPR-GMF.pt')\n",
        "\n",
        "    if bpr_best_metric < bpr_model_ndcg:\n",
        "        bpr_best_metric = bpr_model_ndcg\n",
        "        torch.save(bpr_model.state_dict(), model_dir + f'BPR-GMF.pt')"
      ],
      "metadata": {
        "colab": {
          "base_uri": "https://localhost:8080/"
        },
        "id": "3qMDn76jSDDL",
        "outputId": "2c9d3463-b59d-468e-b2ef-4b31da994780"
      },
      "execution_count": 12,
      "outputs": [
        {
          "output_type": "stream",
          "name": "stdout",
          "text": [
            "[EPOCH: 1]\n",
            "Non-BPR-GMF Train Loss: 0.6067, HR: 0.5142, NDCG: 0.3004\n",
            "BPR-GMF Train Loss: 0.5743, HR: 0.5246, NDCG: 0.3059\n",
            "\n",
            "[EPOCH: 2]\n",
            "Non-BPR-GMF Train Loss: 0.3838, HR: 0.5306, NDCG: 0.3099\n",
            "BPR-GMF Train Loss: 0.2970, HR: 0.5440, NDCG: 0.3184\n",
            "\n",
            "[EPOCH: 3]\n",
            "Non-BPR-GMF Train Loss: 0.3564, HR: 0.5395, NDCG: 0.3139\n",
            "BPR-GMF Train Loss: 0.2492, HR: 0.5648, NDCG: 0.3349\n",
            "\n",
            "[EPOCH: 4]\n",
            "Non-BPR-GMF Train Loss: 0.3339, HR: 0.5663, NDCG: 0.3258\n",
            "BPR-GMF Train Loss: 0.2138, HR: 0.5842, NDCG: 0.3511\n",
            "\n",
            "[EPOCH: 5]\n",
            "Non-BPR-GMF Train Loss: 0.3090, HR: 0.5872, NDCG: 0.3418\n",
            "BPR-GMF Train Loss: 0.1903, HR: 0.6080, NDCG: 0.3641\n",
            "\n",
            "[EPOCH: 6]\n",
            "Non-BPR-GMF Train Loss: 0.2877, HR: 0.5961, NDCG: 0.3592\n",
            "BPR-GMF Train Loss: 0.1670, HR: 0.6170, NDCG: 0.3806\n",
            "\n",
            "[EPOCH: 7]\n",
            "Non-BPR-GMF Train Loss: 0.2682, HR: 0.6304, NDCG: 0.3780\n",
            "BPR-GMF Train Loss: 0.1483, HR: 0.6200, NDCG: 0.3849\n",
            "\n",
            "[EPOCH: 8]\n",
            "Non-BPR-GMF Train Loss: 0.2505, HR: 0.6259, NDCG: 0.3852\n",
            "BPR-GMF Train Loss: 0.1312, HR: 0.6334, NDCG: 0.3968\n",
            "\n",
            "[EPOCH: 9]\n",
            "Non-BPR-GMF Train Loss: 0.2321, HR: 0.6334, NDCG: 0.3896\n",
            "BPR-GMF Train Loss: 0.1151, HR: 0.6513, NDCG: 0.4015\n",
            "\n",
            "[EPOCH: 10]\n",
            "Non-BPR-GMF Train Loss: 0.2127, HR: 0.6572, NDCG: 0.4022\n",
            "BPR-GMF Train Loss: 0.1014, HR: 0.6557, NDCG: 0.4070\n",
            "\n",
            "[EPOCH: 11]\n",
            "Non-BPR-GMF Train Loss: 0.1945, HR: 0.6706, NDCG: 0.4162\n",
            "BPR-GMF Train Loss: 0.0893, HR: 0.6692, NDCG: 0.4119\n",
            "\n",
            "[EPOCH: 12]\n",
            "Non-BPR-GMF Train Loss: 0.1756, HR: 0.6811, NDCG: 0.4269\n",
            "BPR-GMF Train Loss: 0.0777, HR: 0.6677, NDCG: 0.4246\n",
            "\n",
            "[EPOCH: 13]\n",
            "Non-BPR-GMF Train Loss: 0.1600, HR: 0.6930, NDCG: 0.4329\n",
            "BPR-GMF Train Loss: 0.0698, HR: 0.6811, NDCG: 0.4264\n",
            "\n",
            "[EPOCH: 14]\n",
            "Non-BPR-GMF Train Loss: 0.1439, HR: 0.6870, NDCG: 0.4362\n",
            "BPR-GMF Train Loss: 0.0613, HR: 0.6855, NDCG: 0.4355\n",
            "\n",
            "[EPOCH: 15]\n",
            "Non-BPR-GMF Train Loss: 0.1306, HR: 0.7094, NDCG: 0.4437\n",
            "BPR-GMF Train Loss: 0.0555, HR: 0.7004, NDCG: 0.4411\n",
            "\n",
            "[EPOCH: 16]\n",
            "Non-BPR-GMF Train Loss: 0.1175, HR: 0.7079, NDCG: 0.4477\n",
            "BPR-GMF Train Loss: 0.0494, HR: 0.7109, NDCG: 0.4510\n",
            "\n",
            "[EPOCH: 17]\n",
            "Non-BPR-GMF Train Loss: 0.1059, HR: 0.7154, NDCG: 0.4528\n",
            "BPR-GMF Train Loss: 0.0442, HR: 0.7064, NDCG: 0.4462\n",
            "\n",
            "[EPOCH: 18]\n",
            "Non-BPR-GMF Train Loss: 0.0956, HR: 0.7094, NDCG: 0.4546\n",
            "BPR-GMF Train Loss: 0.0400, HR: 0.7213, NDCG: 0.4582\n",
            "\n",
            "[EPOCH: 19]\n",
            "Non-BPR-GMF Train Loss: 0.0871, HR: 0.7124, NDCG: 0.4571\n",
            "BPR-GMF Train Loss: 0.0363, HR: 0.7213, NDCG: 0.4618\n",
            "\n",
            "[EPOCH: 20]\n",
            "Non-BPR-GMF Train Loss: 0.0796, HR: 0.7139, NDCG: 0.4535\n",
            "BPR-GMF Train Loss: 0.0331, HR: 0.7124, NDCG: 0.4535\n",
            "\n",
            "[EPOCH: 21]\n",
            "Non-BPR-GMF Train Loss: 0.0731, HR: 0.7183, NDCG: 0.4610\n",
            "BPR-GMF Train Loss: 0.0300, HR: 0.7198, NDCG: 0.4578\n",
            "\n",
            "[EPOCH: 22]\n",
            "Non-BPR-GMF Train Loss: 0.0678, HR: 0.7213, NDCG: 0.4581\n",
            "BPR-GMF Train Loss: 0.0271, HR: 0.7124, NDCG: 0.4614\n",
            "\n",
            "[EPOCH: 23]\n",
            "Non-BPR-GMF Train Loss: 0.0628, HR: 0.7124, NDCG: 0.4591\n",
            "BPR-GMF Train Loss: 0.0251, HR: 0.7168, NDCG: 0.4631\n",
            "\n",
            "[EPOCH: 24]\n",
            "Non-BPR-GMF Train Loss: 0.0588, HR: 0.7228, NDCG: 0.4695\n",
            "BPR-GMF Train Loss: 0.0233, HR: 0.7213, NDCG: 0.4639\n",
            "\n",
            "[EPOCH: 25]\n",
            "Non-BPR-GMF Train Loss: 0.0554, HR: 0.7198, NDCG: 0.4615\n",
            "BPR-GMF Train Loss: 0.0219, HR: 0.7154, NDCG: 0.4614\n",
            "\n",
            "[EPOCH: 26]\n",
            "Non-BPR-GMF Train Loss: 0.0520, HR: 0.7109, NDCG: 0.4664\n",
            "BPR-GMF Train Loss: 0.0200, HR: 0.7124, NDCG: 0.4617\n",
            "\n",
            "[EPOCH: 27]\n",
            "Non-BPR-GMF Train Loss: 0.0486, HR: 0.7139, NDCG: 0.4664\n",
            "BPR-GMF Train Loss: 0.0185, HR: 0.7198, NDCG: 0.4632\n",
            "\n",
            "[EPOCH: 28]\n",
            "Non-BPR-GMF Train Loss: 0.0469, HR: 0.7168, NDCG: 0.4660\n",
            "BPR-GMF Train Loss: 0.0175, HR: 0.7183, NDCG: 0.4663\n",
            "\n",
            "[EPOCH: 29]\n",
            "Non-BPR-GMF Train Loss: 0.0446, HR: 0.7139, NDCG: 0.4699\n",
            "BPR-GMF Train Loss: 0.0164, HR: 0.7228, NDCG: 0.4700\n",
            "\n",
            "[EPOCH: 30]\n",
            "Non-BPR-GMF Train Loss: 0.0421, HR: 0.7049, NDCG: 0.4658\n",
            "BPR-GMF Train Loss: 0.0155, HR: 0.7243, NDCG: 0.4681\n",
            "\n",
            "[EPOCH: 31]\n",
            "Non-BPR-GMF Train Loss: 0.0405, HR: 0.7064, NDCG: 0.4639\n",
            "BPR-GMF Train Loss: 0.0147, HR: 0.7303, NDCG: 0.4691\n",
            "\n",
            "[EPOCH: 32]\n",
            "Non-BPR-GMF Train Loss: 0.0388, HR: 0.7079, NDCG: 0.4698\n",
            "BPR-GMF Train Loss: 0.0136, HR: 0.7228, NDCG: 0.4687\n",
            "\n",
            "[EPOCH: 33]\n",
            "Non-BPR-GMF Train Loss: 0.0372, HR: 0.7124, NDCG: 0.4704\n",
            "BPR-GMF Train Loss: 0.0132, HR: 0.7243, NDCG: 0.4707\n",
            "\n",
            "[EPOCH: 34]\n",
            "Non-BPR-GMF Train Loss: 0.0365, HR: 0.7064, NDCG: 0.4689\n",
            "BPR-GMF Train Loss: 0.0127, HR: 0.7154, NDCG: 0.4742\n",
            "\n",
            "[EPOCH: 35]\n",
            "Non-BPR-GMF Train Loss: 0.0349, HR: 0.7079, NDCG: 0.4674\n",
            "BPR-GMF Train Loss: 0.0121, HR: 0.7213, NDCG: 0.4686\n",
            "\n",
            "[EPOCH: 36]\n",
            "Non-BPR-GMF Train Loss: 0.0337, HR: 0.7064, NDCG: 0.4683\n",
            "BPR-GMF Train Loss: 0.0113, HR: 0.7243, NDCG: 0.4753\n",
            "\n",
            "[EPOCH: 37]\n",
            "Non-BPR-GMF Train Loss: 0.0324, HR: 0.7049, NDCG: 0.4704\n",
            "BPR-GMF Train Loss: 0.0105, HR: 0.7288, NDCG: 0.4792\n",
            "\n",
            "[EPOCH: 38]\n",
            "Non-BPR-GMF Train Loss: 0.0311, HR: 0.7019, NDCG: 0.4655\n",
            "BPR-GMF Train Loss: 0.0103, HR: 0.7213, NDCG: 0.4693\n",
            "\n",
            "[EPOCH: 39]\n",
            "Non-BPR-GMF Train Loss: 0.0297, HR: 0.7034, NDCG: 0.4664\n",
            "BPR-GMF Train Loss: 0.0100, HR: 0.7213, NDCG: 0.4674\n",
            "\n",
            "[EPOCH: 40]\n",
            "Non-BPR-GMF Train Loss: 0.0290, HR: 0.6990, NDCG: 0.4605\n",
            "BPR-GMF Train Loss: 0.0098, HR: 0.7288, NDCG: 0.4737\n",
            "\n",
            "[EPOCH: 41]\n",
            "Non-BPR-GMF Train Loss: 0.0287, HR: 0.6975, NDCG: 0.4609\n",
            "BPR-GMF Train Loss: 0.0093, HR: 0.7154, NDCG: 0.4658\n",
            "\n",
            "[EPOCH: 42]\n",
            "Non-BPR-GMF Train Loss: 0.0282, HR: 0.7094, NDCG: 0.4703\n",
            "BPR-GMF Train Loss: 0.0092, HR: 0.7258, NDCG: 0.4691\n",
            "\n",
            "[EPOCH: 43]\n",
            "Non-BPR-GMF Train Loss: 0.0276, HR: 0.7094, NDCG: 0.4718\n",
            "BPR-GMF Train Loss: 0.0088, HR: 0.7303, NDCG: 0.4704\n",
            "\n",
            "[EPOCH: 44]\n",
            "Non-BPR-GMF Train Loss: 0.0261, HR: 0.7034, NDCG: 0.4691\n",
            "BPR-GMF Train Loss: 0.0086, HR: 0.7198, NDCG: 0.4663\n",
            "\n",
            "[EPOCH: 45]\n",
            "Non-BPR-GMF Train Loss: 0.0260, HR: 0.7019, NDCG: 0.4743\n",
            "BPR-GMF Train Loss: 0.0081, HR: 0.7243, NDCG: 0.4757\n",
            "\n",
            "[EPOCH: 46]\n",
            "Non-BPR-GMF Train Loss: 0.0256, HR: 0.6945, NDCG: 0.4657\n",
            "BPR-GMF Train Loss: 0.0084, HR: 0.7198, NDCG: 0.4733\n",
            "\n",
            "[EPOCH: 47]\n",
            "Non-BPR-GMF Train Loss: 0.0251, HR: 0.6930, NDCG: 0.4619\n",
            "BPR-GMF Train Loss: 0.0079, HR: 0.7198, NDCG: 0.4713\n",
            "\n",
            "[EPOCH: 48]\n",
            "Non-BPR-GMF Train Loss: 0.0234, HR: 0.7034, NDCG: 0.4695\n",
            "BPR-GMF Train Loss: 0.0073, HR: 0.7213, NDCG: 0.4707\n",
            "\n",
            "[EPOCH: 49]\n",
            "Non-BPR-GMF Train Loss: 0.0233, HR: 0.7019, NDCG: 0.4725\n",
            "BPR-GMF Train Loss: 0.0075, HR: 0.7243, NDCG: 0.4753\n",
            "\n",
            "[EPOCH: 50]\n",
            "Non-BPR-GMF Train Loss: 0.0233, HR: 0.6930, NDCG: 0.4650\n",
            "BPR-GMF Train Loss: 0.0074, HR: 0.7139, NDCG: 0.4757\n",
            "\n"
          ]
        }
      ]
    },
    {
      "cell_type": "code",
      "source": [
        "import matplotlib.pyplot as plt\n",
        "\n",
        "fig, ax = plt.subplots(1, 3, figsize = (15, 5))\n",
        "ax = ax.flatten()\n",
        "epochs = [i for i in range(1, config.epochs + 1)]\n",
        "\n",
        "ax[0].plot(epochs, bpr_model_loss_list, label = 'BPR')\n",
        "ax[0].plot(epochs, non_bpr_model_loss_list, label = 'Non-BPR')\n",
        "ax[0].set_title('Loss')\n",
        "ax[0].legend()\n",
        "\n",
        "ax[1].plot(epochs, bpr_model_hr_list, label = 'BPR')\n",
        "ax[1].plot(epochs, non_bpr_model_hr_list, label = 'Non-BPR')\n",
        "ax[1].set_title('HR')\n",
        "ax[1].legend()\n",
        "\n",
        "ax[2].plot(epochs, bpr_model_ndcg_list, label = 'BPR')\n",
        "ax[2].plot(epochs, non_bpr_model_ndcg_list, label = 'Non-BPR')\n",
        "ax[2].set_title('NDCG')\n",
        "ax[2].legend()\n",
        "plt.show()"
      ],
      "metadata": {
        "colab": {
          "base_uri": "https://localhost:8080/",
          "height": 336
        },
        "id": "Z4xvxka9Zcgd",
        "outputId": "6ccc5517-fe5e-473a-e411-ad3add28e605"
      },
      "execution_count": 14,
      "outputs": [
        {
          "output_type": "display_data",
          "data": {
            "text/plain": [
              "<Figure size 1080x360 with 3 Axes>"
            ],
            "image/png": "[encoded data removed]"
          },
          "metadata": {
            "needs_background": "light"
          }
        }
      ]
    },
    {
      "cell_type": "markdown",
      "source": [
        "BPR Loss를 사용하는 것이 성능, 수렴 측면에서 더 좋다는 것을 알 수 있음"
      ],
      "metadata": {
        "id": "qqvhM8p6evEM"
      }
    }
  ]
}