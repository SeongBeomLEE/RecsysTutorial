{
  "nbformat": 4,
  "nbformat_minor": 0,
  "metadata": {
    "colab": {
      "name": "Pixie.ipynb",
      "provenance": [],
      "collapsed_sections": [],
      "mount_file_id": "11Cv8WJq_I6AmFmyM78X4e_BW4LUdgVeX",
      "authorship_tag": "ABX9TyN0I3kAGw6UTOf/gF4k2sWj",
      "include_colab_link": true
    },
    "kernelspec": {
      "name": "python3",
      "display_name": "Python 3"
    },
    "language_info": {
      "name": "python"
    }
  },
  "cells": [
    {
      "cell_type": "markdown",
      "metadata": {
        "id": "view-in-github",
        "colab_type": "text"
      },
      "source": [
        "<a href=\"https://colab.research.google.com/github/SeongBeomLEE/RecsysTutorial/blob/main/Pixie/Pixie.ipynb\" target=\"_parent\"><img src=\"https://colab.research.google.com/assets/colab-badge.svg\" alt=\"Open In Colab\"/></a>"
      ]
    },
    {
      "cell_type": "markdown",
      "source": [
        "- board를 user로 표현\n",
        "- pin을 movie로 표현\n",
        "- user features의 경우 user의 시청한 전체 영화의 genre TF로 표현\n",
        "- user features와 유사하다는 board와 pin은 user features의 cosine similarity로 표현\n",
        "- 최근 유저 영화 시청 10개를 Q로 표현\n",
        "- Q를 시간을 기준으로 1 / log2(rank + 1)를 계산해 wq를 표현\n",
        "- 최근 유저 영화 시청 10개를 이용해 제일 최신에 볼 영화를 예측하는 방향으로 모델의 성능을 평가함"
      ],
      "metadata": {
        "id": "kolnnudSAJJm"
      }
    },
    {
      "cell_type": "code",
      "source": [
        "!pip install python-box"
      ],
      "metadata": {
        "colab": {
          "base_uri": "https://localhost:8080/"
        },
        "id": "SjOnv1NS52ww",
        "outputId": "d78f9f78-950b-4a84-bb95-acb7e3de2f55"
      },
      "execution_count": 1,
      "outputs": [
        {
          "output_type": "stream",
          "name": "stdout",
          "text": [
            "Looking in indexes: https://pypi.org/simple, https://us-python.pkg.dev/colab-wheels/public/simple/\n",
            "Requirement already satisfied: python-box in /usr/local/lib/python3.7/dist-packages (6.0.2)\n"
          ]
        }
      ]
    },
    {
      "cell_type": "code",
      "execution_count": 2,
      "metadata": {
        "id": "LXtBCq174_N1"
      },
      "outputs": [],
      "source": [
        "import os\n",
        "from box import Box\n",
        "from tqdm import tqdm\n",
        "from collections import defaultdict\n",
        "\n",
        "import random\n",
        "import numpy as np\n",
        "import pandas as pd\n",
        "\n",
        "import warnings\n",
        "\n",
        "warnings.filterwarnings(action='ignore')"
      ]
    },
    {
      "cell_type": "markdown",
      "metadata": {
        "id": "vG8uF4zk4_N2"
      },
      "source": [
        "# 1. 학습 설정"
      ]
    },
    {
      "cell_type": "code",
      "execution_count": 3,
      "metadata": {
        "id": "S05ItDiE4-ia"
      },
      "outputs": [],
      "source": [
        "config = {\n",
        "    'data_path' : \"/content/drive/MyDrive/RecsysTutorial/Data/MovieLens\" , # 데이터 경로\n",
        "}\n",
        "\n",
        "config = Box(config)"
      ]
    },
    {
      "cell_type": "markdown",
      "metadata": {
        "id": "2GDUnqgp_irD"
      },
      "source": [
        "# 2. 데이터 전처리"
      ]
    },
    {
      "cell_type": "code",
      "source": [
        "ratings = pd.read_csv(os.path.join(config.data_path, 'ratings.csv'))\n",
        "ratings = ratings.sort_values(['userId', 'timestamp']).reset_index(drop = True)\n",
        "\n",
        "movies = pd.read_csv(os.path.join(config.data_path, 'movies.csv'))"
      ],
      "metadata": {
        "id": "-vil125tXnu-"
      },
      "execution_count": 4,
      "outputs": []
    },
    {
      "cell_type": "code",
      "source": [
        "userId_to_idx = {}\n",
        "idx_to_userId = {}\n",
        "\n",
        "userId_list = ratings['userId'].unique()\n",
        "\n",
        "for idx, userId in enumerate(userId_list):\n",
        "    userId_to_idx[userId] = idx\n",
        "    idx_to_userId[idx] = userId\n",
        "\n",
        "movieId_to_idx = {}\n",
        "idx_to_movieId = {}\n",
        "\n",
        "movieId_list = movies['movieId'].unique()\n",
        "\n",
        "for idx, movieId in enumerate(movieId_list):\n",
        "    movieId_to_idx[movieId] = idx\n",
        "    idx_to_movieId[idx] = movieId"
      ],
      "metadata": {
        "id": "xL9vr531Y4Op"
      },
      "execution_count": 5,
      "outputs": []
    },
    {
      "cell_type": "code",
      "source": [
        "ratings['userId_to_idx'] = ratings['userId'].apply(lambda x : userId_to_idx[x])\n",
        "ratings['movieId_to_idx'] = ratings['movieId'].apply(lambda x : movieId_to_idx[x])\n",
        "\n",
        "movies['movieId_to_idx'] = movies['movieId'].apply(lambda x : movieId_to_idx[x])"
      ],
      "metadata": {
        "id": "tAztBpZYaOEd"
      },
      "execution_count": 6,
      "outputs": []
    },
    {
      "cell_type": "code",
      "source": [
        "group_df = ratings.groupby('userId_to_idx')\n",
        "train_set = {}\n",
        "test_set = {}\n",
        "\n",
        "for idx, g_df in group_df:\n",
        "    total_list = g_df['movieId_to_idx'].tolist()\n",
        "\n",
        "    train_set[idx] = total_list[:-1]\n",
        "    test_set[idx] = [total_list[-1]]"
      ],
      "metadata": {
        "id": "OIPoByvHguIh"
      },
      "execution_count": 7,
      "outputs": []
    },
    {
      "cell_type": "code",
      "source": [
        "movies['genres_list'] = movies['genres'].apply(lambda  x : x.split('|'))"
      ],
      "metadata": {
        "id": "-kRlRbFcxSWn"
      },
      "execution_count": 8,
      "outputs": []
    },
    {
      "cell_type": "code",
      "source": [
        "total_genres = []\n",
        "\n",
        "genres_list = movies['genres_list'].tolist()\n",
        "for genres in genres_list:\n",
        "    total_genres += genres\n",
        "\n",
        "total_genres = list(set(total_genres))\n",
        "\n",
        "genre_to_idx = {}\n",
        "\n",
        "for idx, genre in enumerate(total_genres):\n",
        "    genre_to_idx[genre] = idx\n",
        "\n",
        "movies['pre_genres_list'] = movies['genres_list'].apply(lambda  x : [genre_to_idx[i] for i in x])"
      ],
      "metadata": {
        "id": "ib1AmL9-xob4"
      },
      "execution_count": 9,
      "outputs": []
    },
    {
      "cell_type": "code",
      "source": [
        "'''\n",
        "board -> user\n",
        "pin -> movie\n",
        "'''\n",
        "\n",
        "pins = [i for i in range(len(movieId_to_idx))]\n",
        "boards = [i for i in range(len(userId_to_idx))]"
      ],
      "metadata": {
        "id": "9qIeKYyq_oJT"
      },
      "execution_count": null,
      "outputs": []
    },
    {
      "cell_type": "code",
      "source": [
        "pins_feature = np.zeros((len(movieId_to_idx), len(total_genres)))\n",
        "boards_feature = np.zeros((len(userId_to_idx), len(total_genres)))\n",
        "\n",
        "movies_index_df = movies.set_index('movieId_to_idx')\n",
        "\n",
        "for pin in pins:\n",
        "    pins_feature[pin, movies_index_df.loc[pin, 'pre_genres_list']] = 1\n",
        "\n",
        "for board in boards:\n",
        "    interaction = train_set[board]\n",
        "    boards_feature[board, :] = pins_feature[interaction, :].sum(axis = 0)"
      ],
      "metadata": {
        "id": "t3wN7Vn__pkL"
      },
      "execution_count": null,
      "outputs": []
    },
    {
      "cell_type": "markdown",
      "metadata": {
        "id": "C6DOXpE3_1Hl"
      },
      "source": [
        "# 3. Pixie"
      ]
    },
    {
      "cell_type": "code",
      "source": [
        "G = np.zeros((len(movieId_to_idx), len(userId_to_idx)))\n",
        "\n",
        "for board in boards:\n",
        "    interaction = train_set[board]\n",
        "    G[interaction, board] = 1\n",
        "\n",
        "C = max(G.sum(axis = 1))\n",
        "N = 1000\n",
        "a = 100"
      ],
      "metadata": {
        "id": "s390vMJ7ZfLj"
      },
      "execution_count": 75,
      "outputs": []
    },
    {
      "cell_type": "code",
      "source": [
        "from sklearn.metrics.pairwise import cosine_similarity\n",
        "\n",
        "def PersonalizedRandomSampling(E, U, Board = True):\n",
        "    if Board:\n",
        "        sim = cosine_similarity(U, boards_feature[E, :])\n",
        "    else:\n",
        "        sim = cosine_similarity(U, pins_feature[E, :])\n",
        "\n",
        "    sim = sim.argsort()[::-1][:50][0]\n",
        "    return np.random.choice(E[sim])\n",
        "\n",
        "def RandomSampling(E):\n",
        "    return np.random.choice(E)\n",
        "\n",
        "def PixieRandomWalk(q : int, U = None, G : np.array = G, a : int = a, N : int = N):\n",
        "    totSteps = 0\n",
        "    V = np.zeros((G.shape[0]))\n",
        "\n",
        "    while True:\n",
        "        currPin = q\n",
        "        currSteps = random.randrange(a + 1)\n",
        "        for _ in range(currSteps):\n",
        "            currBoard = np.where(G[currPin, :] == 1)[0]\n",
        "            if isinstance(U, np.ndarray):\n",
        "                currBoard = PersonalizedRandomSampling(currBoard, U, Board = True)\n",
        "            else:\n",
        "                currBoard = RandomSampling(currBoard)\n",
        "\n",
        "            currPin = np.where(G[:, currBoard] == 1)[0]\n",
        "\n",
        "            if isinstance(U, np.ndarray):\n",
        "                currPin = PersonalizedRandomSampling(currPin, U, Board = False)\n",
        "            else:\n",
        "                currPin = RandomSampling(currPin)\n",
        "\n",
        "            V[currPin] += 1\n",
        "\n",
        "        totSteps += currSteps\n",
        "        if totSteps >= N : break\n",
        "\n",
        "    return V\n",
        "\n",
        "def CarculatorS(q : int, C : int = C, G : np.array = G):\n",
        "    s = G[q, :].sum() * (C - np.log2(G[q, :].sum()))\n",
        "    return s\n",
        "\n",
        "def PixieRandomWalkMultiple(Q : list, U = None, G : np.array = G, a : int = a, N : int = N):\n",
        "    sum_s = sum([CarculatorS(q) for q in Q])\n",
        "    V = np.zeros((G.shape[0]))\n",
        "    Vq_list = []\n",
        "\n",
        "    for idx, q in enumerate(Q):\n",
        "        sq = CarculatorS(q)\n",
        "        wq = 1 / np.log2(idx + 2)\n",
        "        Nq = (wq * N * sq) / sum_s\n",
        "\n",
        "        if isinstance(U, np.ndarray): Vq = PixieRandomWalk(q = q, U = U, G = G, a = a, N = Nq)\n",
        "        else: Vq = PixieRandomWalk(q = q, G = G, a = a, N = Nq)\n",
        "        V += np.sqrt(Vq)\n",
        "    \n",
        "    V = V**2\n",
        "\n",
        "    return V"
      ],
      "metadata": {
        "id": "wqqWdifRZ5Sg"
      },
      "execution_count": 76,
      "outputs": []
    },
    {
      "cell_type": "markdown",
      "metadata": {
        "id": "P2Gl2vyp_7eh"
      },
      "source": [
        "# 4. 성능 평가"
      ]
    },
    {
      "cell_type": "code",
      "source": [
        "'''\n",
        "N = 1000\n",
        "a = 100\n",
        "'''\n",
        "\n",
        "hit = 0\n",
        "for board in tqdm(boards):\n",
        "    interaction = train_set[board]\n",
        "    Q = interaction[::-1][:10]\n",
        "    V = PixieRandomWalkMultiple(Q = Q, U = None, G = G, a = a, N = N)\n",
        "\n",
        "    rec = V.argsort()[::-1][:10].tolist()\n",
        "\n",
        "    hit += len(set(rec) & set(test_set[board])) / len(test_set[board])\n",
        "\n",
        "hit /= len(boards)\n",
        "\n",
        "print(f\"개인화 X : {hit}\")"
      ],
      "metadata": {
        "colab": {
          "base_uri": "https://localhost:8080/"
        },
        "id": "rgMNegPMn-mF",
        "outputId": "0101ae49-ed76-47ff-f623-1800bca4217c"
      },
      "execution_count": 21,
      "outputs": [
        {
          "output_type": "stream",
          "name": "stderr",
          "text": [
            "100%|██████████| 671/671 [03:09<00:00,  3.54it/s]"
          ]
        },
        {
          "output_type": "stream",
          "name": "stdout",
          "text": [
            "개인화 X : 0.013412816691505217\n"
          ]
        },
        {
          "output_type": "stream",
          "name": "stderr",
          "text": [
            "\n"
          ]
        }
      ]
    },
    {
      "cell_type": "code",
      "source": [
        "'''\n",
        "N = 5000\n",
        "a = 50\n",
        "'''\n",
        "\n",
        "hit = 0\n",
        "for board in tqdm(boards):\n",
        "    interaction = train_set[board]\n",
        "    Q = interaction[::-1][:10]\n",
        "    V = PixieRandomWalkMultiple(Q = Q, U = None, G = G, a = a, N = N)\n",
        "\n",
        "    rec = V.argsort()[::-1][:10].tolist()\n",
        "\n",
        "    hit += len(set(rec) & set(test_set[board])) / len(test_set[board])\n",
        "\n",
        "hit /= len(boards)\n",
        "\n",
        "print(f\"개인화 X : {hit}\")"
      ],
      "metadata": {
        "colab": {
          "base_uri": "https://localhost:8080/"
        },
        "outputId": "210c3992-a9a2-44ee-ec4d-295c3b0a3661",
        "id": "QScVRYvRHHR1"
      },
      "execution_count": null,
      "outputs": [
        {
          "output_type": "stream",
          "name": "stderr",
          "text": [
            "100%|██████████| 671/671 [05:42<00:00,  1.96it/s]"
          ]
        },
        {
          "output_type": "stream",
          "name": "stdout",
          "text": [
            "개인화 X : 0.01788375558867362\n"
          ]
        },
        {
          "output_type": "stream",
          "name": "stderr",
          "text": [
            "\n"
          ]
        }
      ]
    },
    {
      "cell_type": "code",
      "source": [
        "'''\n",
        "N = 1000\n",
        "a = 100\n",
        "'''\n",
        "\n",
        "hit = 0\n",
        "for board in tqdm(boards):\n",
        "    interaction = train_set[board]\n",
        "    Q = interaction[::-1][:10]\n",
        "    U = boards_feature[[board], :]\n",
        "    V = PixieRandomWalkMultiple(Q = Q, U = U, G = G, a = a, N = N)\n",
        "\n",
        "    rec = V.argsort()[::-1][:10].tolist()\n",
        "\n",
        "    hit += len(set(rec) & set(test_set[board])) / len(test_set[board])\n",
        "\n",
        "hit /= len(boards)\n",
        "\n",
        "print(f\"개인화 O : {hit}\")"
      ],
      "metadata": {
        "colab": {
          "base_uri": "https://localhost:8080/"
        },
        "id": "vGRkMevd8T7N",
        "outputId": "75a4254f-68a0-425f-f389-3e8b87336763"
      },
      "execution_count": 49,
      "outputs": [
        {
          "output_type": "stream",
          "name": "stderr",
          "text": [
            "100%|██████████| 671/671 [14:46<00:00,  1.32s/it]"
          ]
        },
        {
          "output_type": "stream",
          "name": "stdout",
          "text": [
            "개인화 O : 0.020864381520119227\n"
          ]
        },
        {
          "output_type": "stream",
          "name": "stderr",
          "text": [
            "\n"
          ]
        }
      ]
    }
  ]
}