{
  "nbformat": 4,
  "nbformat_minor": 0,
  "metadata": {
    "colab": {
      "name": "Multi-BERT4Rec.ipynb",
      "provenance": [],
      "collapsed_sections": [],
      "mount_file_id": "1x3QSzuAmVlcDqDx1tZ7-l25UtK6rlGWf",
      "authorship_tag": "ABX9TyMjfguz2w1gUwayYRw8Q7g+",
      "include_colab_link": true
    },
    "kernelspec": {
      "name": "python3",
      "display_name": "Python 3"
    },
    "language_info": {
      "name": "python"
    },
    "accelerator": "GPU"
  },
  "cells": [
    {
      "cell_type": "markdown",
      "metadata": {
        "id": "view-in-github",
        "colab_type": "text"
      },
      "source": [
        "<a href=\"https://colab.research.google.com/github/SeongBeomLEE/RecsysTutorial/blob/main/BERT4Rec/Multi_BERT4Rec.ipynb\" target=\"_parent\"><img src=\"https://colab.research.google.com/assets/colab-badge.svg\" alt=\"Open In Colab\"/></a>"
      ]
    },
    {
      "cell_type": "markdown",
      "source": [
        "Multi-BERT4Rec은 BERT4Rec을 임의로 수정한 모델로 Multi-VAE의 sequence한 버전이라고 할 수 있음\n",
        "\n"
      ],
      "metadata": {
        "id": "0QO5y6CdkcAm"
      }
    },
    {
      "cell_type": "code",
      "source": [
        "!pip install python-box"
      ],
      "metadata": {
        "colab": {
          "base_uri": "https://localhost:8080/"
        },
        "id": "xzJgxsrewLBy",
        "outputId": "f3e41645-15cb-4434-ef31-097c314ba3dc"
      },
      "execution_count": 1,
      "outputs": [
        {
          "output_type": "stream",
          "name": "stdout",
          "text": [
            "Requirement already satisfied: python-box in /usr/local/lib/python3.7/dist-packages (6.0.2)\n"
          ]
        }
      ]
    },
    {
      "cell_type": "code",
      "execution_count": 2,
      "metadata": {
        "id": "Ug-br-pPu9vZ"
      },
      "outputs": [],
      "source": [
        "import math\n",
        "import random\n",
        "import numpy as np\n",
        "import pandas as pd\n",
        "from tqdm import tqdm\n",
        "from collections import defaultdict\n",
        "import os\n",
        "\n",
        "import torch\n",
        "import torch.nn as nn\n",
        "import torch.nn.functional as F\n",
        "from torch.utils.data import Dataset, DataLoader\n",
        "\n",
        "from box import Box\n",
        "\n",
        "import warnings\n",
        "\n",
        "warnings.filterwarnings(action='ignore')\n",
        "torch.set_printoptions(sci_mode=True)"
      ]
    },
    {
      "cell_type": "markdown",
      "metadata": {
        "id": "pbRKDSg4u9vc"
      },
      "source": [
        "# 1. 학습 설정"
      ]
    },
    {
      "cell_type": "code",
      "execution_count": 3,
      "metadata": {
        "id": "mlm1UrKvoC_O"
      },
      "outputs": [],
      "source": [
        "config = {\n",
        "    'data_path' : \"/content/drive/MyDrive/RecsysTutorial/Data/MovieLens\" , # 데이터 경로\n",
        "\n",
        "    'hidden_units' : 50, # Embedding size\n",
        "    'num_heads' : 1, # Multi-head layer 의 수 (병렬 처리)\n",
        "    'num_layers': 2, # block의 개수 (encoder layer의 개수)\n",
        "    'dropout_rate' : 0.5, # dropout 비율\n",
        "\n",
        "    'lr' : 0.001,\n",
        "    'batch_size' : 32,\n",
        "    'num_epochs' : 50,\n",
        "    'num_workers' : 2,\n",
        "\n",
        "    'valid_samples' : 10, # 검증에 사용할 sample 수\n",
        "    'seed' : 22,\n",
        "}\n",
        "\n",
        "device = 'cuda' if torch.cuda.is_available() else 'cpu'\n",
        "\n",
        "config = Box(config)"
      ]
    },
    {
      "cell_type": "markdown",
      "metadata": {
        "id": "wjDxy0fJu9vf"
      },
      "source": [
        "# 2. 데이터 전처리"
      ]
    },
    {
      "cell_type": "code",
      "execution_count": 4,
      "metadata": {
        "id": "W64BYWl0u9vg"
      },
      "outputs": [],
      "source": [
        "class MakeSequenceDataSet():\n",
        "    \"\"\"\n",
        "    SequenceData 생성\n",
        "    \"\"\"\n",
        "    def __init__(self, config):\n",
        "        self.config = config\n",
        "        self.df = pd.read_csv(os.path.join(self.config.data_path, 'ratings.csv'))\n",
        "        \n",
        "        self.item_encoder, self.item_decoder = self.generate_encoder_decoder('movieId')\n",
        "        self.user_encoder, self.user_decoder = self.generate_encoder_decoder('userId')\n",
        "        self.num_item, self.num_user = len(self.item_encoder), len(self.user_encoder)\n",
        "\n",
        "        self.df['item_idx'] = self.df['movieId'].apply(lambda x : self.item_encoder[x])\n",
        "        self.df['user_idx'] = self.df['userId'].apply(lambda x : self.user_encoder[x])\n",
        "        self.df = self.df.sort_values(['user_idx', 'timestamp']) # 시간에 따라 정렬\n",
        "        self.user_train, self.user_valid, self.max_len = self.generate_sequence_data()\n",
        "\n",
        "    def generate_encoder_decoder(self, col : str) -> dict:\n",
        "        \"\"\"\n",
        "        encoder, decoder 생성\n",
        "\n",
        "        Args:\n",
        "            col (str): 생성할 columns 명\n",
        "        Returns:\n",
        "            dict: 생성된 user encoder, decoder\n",
        "        \"\"\"\n",
        "\n",
        "        encoder = {}\n",
        "        decoder = {}\n",
        "        ids = self.df[col].unique()\n",
        "\n",
        "        for idx, _id in enumerate(ids):\n",
        "            encoder[_id] = idx\n",
        "            decoder[idx] = _id\n",
        "\n",
        "        return encoder, decoder\n",
        "    \n",
        "    def generate_sequence_data(self) -> dict:\n",
        "        \"\"\"\n",
        "        sequence_data 생성\n",
        "\n",
        "        Returns:\n",
        "            dict: train user sequence / valid user sequence\n",
        "        \"\"\"\n",
        "        users = defaultdict(list)\n",
        "        max_len = 0\n",
        "        user_train = {}\n",
        "        user_valid = {}\n",
        "        group_df = self.df.groupby('user_idx')\n",
        "        for user, item in group_df:\n",
        "            users[user].extend(item['item_idx'].tolist())\n",
        "            if max_len < len(item):\n",
        "                max_len = len(item)\n",
        "        \n",
        "        for user in users:\n",
        "            np.random.seed(self.config.seed)\n",
        "\n",
        "            user_total = users[user] \n",
        "            valid = np.random.choice(user_total, size = self.config.valid_samples, replace = False).tolist()\n",
        "            train = []\n",
        "            # index를 사용하면 속도를 더 빠르게 할 수 있음\n",
        "            for item in user_total:\n",
        "                if item not in valid:\n",
        "                    train.append(item)\n",
        "\n",
        "            user_train[user] = train\n",
        "            user_valid[user] = valid # valid_samples 개수 만큼 검증에 활용 (현재 Task와 가장 유사하게)\n",
        "\n",
        "        return user_train, user_valid, max_len\n",
        "    \n",
        "    def get_train_valid_data(self):\n",
        "        return self.user_train, self.user_valid\n",
        "    \n",
        "    def make_matrix(self, user_list, train = True):\n",
        "        \"\"\"\n",
        "        user_item_dict를 바탕으로 행렬 생성\n",
        "        \"\"\"\n",
        "        mat = torch.zeros(size = (user_list.size(0), self.num_item))\n",
        "        for idx, user in enumerate(user_list):\n",
        "            if train:\n",
        "                mat[idx, self.user_train[user.item()]] = 1\n",
        "            else:\n",
        "                mat[idx, self.user_train[user.item()] + self.user_valid[user.item()]] = 1\n",
        "        return mat"
      ]
    },
    {
      "cell_type": "code",
      "execution_count": 5,
      "metadata": {
        "id": "IldCGmY8u9vh"
      },
      "outputs": [],
      "source": [
        "class MulitBERTRecDataSet(Dataset):\n",
        "    def __init__(self, user_train, num_user, max_len):\n",
        "        self.user_train = user_train\n",
        "        self.num_user = num_user\n",
        "        self.max_len = max_len\n",
        "\n",
        "    def __len__(self):\n",
        "        # 총 user의 수 = 학습에 사용할 sequence의 수\n",
        "        return self.num_user\n",
        "\n",
        "    def __getitem__(self, user): \n",
        "        user_seq = (np.array(self.user_train[user]) + 1).tolist()\n",
        "        mask_len = self.max_len - len(user_seq)\n",
        "        user_seq = [0] * mask_len + user_seq\n",
        "\n",
        "        return torch.LongTensor([user]), torch.LongTensor(user_seq)"
      ]
    },
    {
      "cell_type": "markdown",
      "metadata": {
        "id": "Jtf1I824nx5V"
      },
      "source": [
        "# 3. 모델"
      ]
    },
    {
      "cell_type": "code",
      "source": [
        "class ScaledDotProductAttention(nn.Module):\n",
        "    def __init__(self, hidden_units, dropout_rate):\n",
        "        super(ScaledDotProductAttention, self).__init__()\n",
        "        self.hidden_units = hidden_units\n",
        "        self.dropout = nn.Dropout(dropout_rate)\n",
        "\n",
        "    def forward(self, Q, K, V, mask):\n",
        "        \"\"\"\n",
        "        Q, K, V : (batch_size, num_heads, max_len, hidden_units)\n",
        "        mask : (batch_size, 1, max_len, max_len)\n",
        "        \"\"\"\n",
        "        attn_score = torch.matmul(Q, K.transpose(2, 3)) / math.sqrt(self.hidden_units) # (batch_size, num_heads, max_len, max_len)\n",
        "        attn_score = attn_score.masked_fill(mask == 0, -1e9)  # 유사도가 0인 지점은 -infinity로 보내 softmax 결과가 0이 되도록 함\n",
        "        attn_dist = self.dropout(F.softmax(attn_score, dim=-1))  # attention distribution\n",
        "        output = torch.matmul(attn_dist, V)  # (batch_size, num_heads, max_len, hidden_units) / # dim of output : batchSize x num_head x seqLen x hidden_units\n",
        "        return output, attn_dist\n",
        "\n",
        "\n",
        "class MultiHeadAttention(nn.Module):\n",
        "    def __init__(self, num_heads, hidden_units, dropout_rate):\n",
        "        super(MultiHeadAttention, self).__init__()\n",
        "        self.num_heads = num_heads # head의 수\n",
        "        self.hidden_units = hidden_units\n",
        "        \n",
        "        # query, key, value, output 생성을 위해 Linear 모델 생성\n",
        "        self.W_Q = nn.Linear(hidden_units, hidden_units * num_heads, bias=False)\n",
        "        self.W_K = nn.Linear(hidden_units, hidden_units * num_heads, bias=False)\n",
        "        self.W_V = nn.Linear(hidden_units, hidden_units * num_heads, bias=False)\n",
        "        self.W_O = nn.Linear(hidden_units * num_heads, hidden_units, bias=False)\n",
        "\n",
        "        self.attention = ScaledDotProductAttention(hidden_units, dropout_rate)\n",
        "        self.dropout = nn.Dropout(dropout_rate) # dropout rate\n",
        "        self.layerNorm = nn.LayerNorm(hidden_units, 1e-6) # layer normalization\n",
        "\n",
        "    def forward(self, enc, mask):\n",
        "        \"\"\"\n",
        "        enc : (batch_size, max_len, hidden_units)\n",
        "        mask : (batch_size, 1, max_len, max_len)\n",
        "        \n",
        "        \"\"\"\n",
        "        residual = enc # residual connection을 위해 residual 부분을 저장\n",
        "        batch_size, seqlen = enc.size(0), enc.size(1)\n",
        "\n",
        "        # Query, Key, Value를 (num_head)개의 Head로 나누어 각기 다른 Linear projection을 통과시킴\n",
        "        Q = self.W_Q(enc).view(batch_size, seqlen, self.num_heads, self.hidden_units) # (batch_size, max_len, num_heads, hidden_units)\n",
        "        K = self.W_K(enc).view(batch_size, seqlen, self.num_heads, self.hidden_units) # (batch_size, max_len, num_heads, hidden_units)\n",
        "        V = self.W_V(enc).view(batch_size, seqlen, self.num_heads, self.hidden_units) # (batch_size, max_len, num_heads, hidden_units)\n",
        "\n",
        "        # Head별로 각기 다른 attention이 가능하도록 Transpose 후 각각 attention에 통과시킴\n",
        "        Q, K, V = Q.transpose(1, 2), K.transpose(1, 2), V.transpose(1, 2) # (batch_size, num_heads, max_len, hidden_units)\n",
        "        output, attn_dist = self.attention(Q, K, V, mask) # output : (batch_size, num_heads, max_len, hidden_units) / attn_dist : (batch_size, num_heads, max_len, max_len)\n",
        "\n",
        "        # 다시 Transpose한 후 모든 head들의 attention 결과를 합칩니다.\n",
        "        output = output.transpose(1, 2).contiguous() # (batch_size, max_len, num_heads, hidden_units) / contiguous() : 가변적 메모리 할당\n",
        "        output = output.view(batch_size, seqlen, -1) # (batch_size, max_len, hidden_units * num_heads)\n",
        "\n",
        "        # Linear Projection, Dropout, Residual sum, and Layer Normalization\n",
        "        output = self.layerNorm(self.dropout(self.W_O(output)) + residual) # (batch_size, max_len, hidden_units)\n",
        "        return output, attn_dist\n",
        "\n",
        "\n",
        "class PositionwiseFeedForward(nn.Module):\n",
        "    def __init__(self, hidden_units, dropout_rate):\n",
        "        super(PositionwiseFeedForward, self).__init__()\n",
        "\n",
        "        self.W_1 = nn.Linear(hidden_units, hidden_units)\n",
        "        self.W_2 = nn.Linear(hidden_units, hidden_units)\n",
        "        self.dropout = nn.Dropout(dropout_rate)\n",
        "        self.layerNorm = nn.LayerNorm(hidden_units, 1e-6) # layer normalization\n",
        "\n",
        "    def forward(self, x):\n",
        "        residual = x\n",
        "        output = self.W_2(F.relu(self.dropout(self.W_1(x))))\n",
        "        output = self.layerNorm(self.dropout(output) + residual)\n",
        "        return output\n",
        "\n",
        "\n",
        "class BERT4RecBlock(nn.Module):\n",
        "    def __init__(self, num_heads, hidden_units, dropout_rate):\n",
        "        super(BERT4RecBlock, self).__init__()\n",
        "        self.attention = MultiHeadAttention(num_heads, hidden_units, dropout_rate)\n",
        "        self.pointwise_feedforward = PositionwiseFeedForward(hidden_units, dropout_rate)\n",
        "\n",
        "    def forward(self, input_enc, mask):\n",
        "        output_enc, attn_dist = self.attention(input_enc, mask)\n",
        "        output_enc = self.pointwise_feedforward(output_enc)\n",
        "        return output_enc, attn_dist\n",
        "\n",
        "\n",
        "class MultiBERT4Rec(nn.Module):\n",
        "    def __init__(self, num_user, num_item, hidden_units, num_heads, num_layers, max_len, dropout_rate, device):\n",
        "        super(MultiBERT4Rec, self).__init__()\n",
        "\n",
        "        self.num_user = num_user\n",
        "        self.num_item = num_item\n",
        "        self.hidden_units = hidden_units\n",
        "        self.num_heads = num_heads\n",
        "        self.num_layers = num_layers \n",
        "        self.device = device\n",
        "        \n",
        "        self.item_emb = nn.Embedding(num_item + 1, hidden_units, padding_idx = 0) # padding : 0 / item : 1 ~ num_item + 1\n",
        "        self.dropout = nn.Dropout(dropout_rate)\n",
        "        self.emb_layernorm = nn.LayerNorm(hidden_units, eps=1e-6)\n",
        "        \n",
        "        self.blocks = nn.ModuleList([BERT4RecBlock(num_heads, hidden_units, dropout_rate) for _ in range(num_layers)])\n",
        "        self.out = nn.Linear(hidden_units, num_item)\n",
        "    \n",
        "    def forward(self, log_seqs):\n",
        "        \"\"\"\n",
        "        log_seqs : (batch_size, max_len)\n",
        "\n",
        "        ex)\n",
        "        log_seqs = [\n",
        "                [1, 2, 3, 4, 5],\n",
        "                [0, 0, 0, 1, 2],\n",
        "                [0, 0, 1, 2, 3]\n",
        "        ]\n",
        "        \n",
        "        \"\"\"\n",
        "        seqs = self.item_emb(torch.LongTensor(log_seqs).to(self.device)) # (batch_size, max_len, hidden_units)\n",
        "        seqs = self.emb_layernorm(self.dropout(seqs)) # LayerNorm\n",
        "\n",
        "        mask_pad = torch.BoolTensor(log_seqs > 0).unsqueeze(1).repeat(1, log_seqs.shape[1], 1).unsqueeze(1).to(self.device) # mask for zero pad / (batch_size, 1, max_len, max_len)\n",
        "        for block in self.blocks:\n",
        "            seqs, attn_dist = block(seqs, mask_pad)\n",
        "        out = self.out(seqs) # (batch_size, max_len, num_item) / mean 계산을 다른 방식으로 진행하면 더 좋은 성능을 낼 수 있을 것\n",
        "        return out.mean(dim = 1)"
      ],
      "metadata": {
        "id": "YHtV72JbFX7M"
      },
      "execution_count": 6,
      "outputs": []
    },
    {
      "cell_type": "code",
      "source": [
        "class MultiLoss(nn.Module):\n",
        "    def __init__(self):\n",
        "        super(MultiLoss, self).__init__()\n",
        "        \n",
        "    def forward(self, x_pred, user_ratings):\n",
        "        mll = (F.log_softmax(x_pred, dim=-1) * user_ratings).sum(dim=-1).mean()\n",
        "        return -mll"
      ],
      "metadata": {
        "id": "n1DFht9mmbSW"
      },
      "execution_count": 7,
      "outputs": []
    },
    {
      "cell_type": "markdown",
      "metadata": {
        "id": "dk-bL5p4nx5W"
      },
      "source": [
        "# 4. 학습 함수"
      ]
    },
    {
      "cell_type": "code",
      "source": [
        "def get_ndcg(pred_list, true_list):\n",
        "    idcg = sum((1 / np.log2(rank + 2) for rank in range(1, len(pred_list))))\n",
        "    dcg = 0\n",
        "    for rank, pred in enumerate(pred_list):\n",
        "        if pred in true_list:\n",
        "            dcg += 1 / np.log2(rank + 2)\n",
        "    ndcg = dcg / idcg\n",
        "    return ndcg\n",
        "\n",
        "# hit == recall == precision\n",
        "def get_hit(pred_list, true_list):\n",
        "    hit_list = set(true_list) & set(pred_list)\n",
        "    hit = len(hit_list) / len(true_list)\n",
        "    return hit\n",
        "\n",
        "def train(model, criterion, optimizer, data_loader, make_data_set):\n",
        "    model.train()\n",
        "    loss_val = 0\n",
        "    for users, seq in data_loader:\n",
        "        mat = make_data_set.make_matrix(users)\n",
        "        mat = mat.to(device)\n",
        "        \n",
        "        logits = model(seq)\n",
        "\n",
        "        optimizer.zero_grad()\n",
        "        \n",
        "        loss = criterion(logits, mat)\n",
        "\n",
        "        loss_val += loss.item()\n",
        "\n",
        "        loss.backward()\n",
        "        optimizer.step()\n",
        "    \n",
        "    loss_val /= len(data_loader)\n",
        "\n",
        "    return loss_val\n",
        "\n",
        "def evaluate(model, user_train, user_valid, data_loader, make_data_set):\n",
        "\n",
        "    model.eval()\n",
        "\n",
        "    NDCG = 0.0 # NDCG@10\n",
        "    HIT = 0.0 # HIT@10\n",
        "\n",
        "    with torch.no_grad():\n",
        "        for users, seq in data_loader:\n",
        "            mat = make_data_set.make_matrix(users)\n",
        "            mat = mat.to(device)\n",
        "\n",
        "            recon_mat = model(seq)\n",
        "            recon_mat[mat == 1] = -np.inf\n",
        "            rec_list = recon_mat.argsort(dim = 1)\n",
        "\n",
        "            for user, rec in zip(users, rec_list):\n",
        "                uv = user_valid[user.item()]\n",
        "                up = rec[-10:].cpu().numpy().tolist()[::-1]\n",
        "                NDCG += get_ndcg(pred_list = up, true_list = uv)\n",
        "                HIT += get_hit(pred_list = up, true_list = uv)\n",
        "\n",
        "    NDCG /= len(data_loader.dataset)\n",
        "    HIT /= len(data_loader.dataset)\n",
        "\n",
        "    return NDCG, HIT"
      ],
      "metadata": {
        "id": "9YGrj0ztii9u"
      },
      "execution_count": 8,
      "outputs": []
    },
    {
      "cell_type": "markdown",
      "metadata": {
        "id": "ozBvgarCnx5W"
      },
      "source": [
        "# 5. 학습"
      ]
    },
    {
      "cell_type": "code",
      "source": [
        "make_sequence_dataset = MakeSequenceDataSet(config = config)\n",
        "user_train, user_valid = make_sequence_dataset.get_train_valid_data()"
      ],
      "metadata": {
        "id": "tb8nwGb-Lufv"
      },
      "execution_count": 9,
      "outputs": []
    },
    {
      "cell_type": "code",
      "source": [
        "multi_bert4rec_dataset = MulitBERTRecDataSet(\n",
        "    user_train = user_train, \n",
        "    num_user = make_sequence_dataset.num_user,\n",
        "    max_len = make_sequence_dataset.max_len, \n",
        "    )"
      ],
      "metadata": {
        "id": "6mkKkbLtYYJd"
      },
      "execution_count": 10,
      "outputs": []
    },
    {
      "cell_type": "code",
      "source": [
        "data_loader = DataLoader(\n",
        "    multi_bert4rec_dataset, \n",
        "    batch_size = config.batch_size,\n",
        "    shuffle = True, \n",
        "    pin_memory = True,\n",
        "    num_workers = config.num_workers,\n",
        "    )"
      ],
      "metadata": {
        "id": "hzMIEy4kYY9l"
      },
      "execution_count": 11,
      "outputs": []
    },
    {
      "cell_type": "code",
      "source": [
        "model = MultiBERT4Rec(\n",
        "    num_user = make_sequence_dataset.num_user, \n",
        "    num_item = make_sequence_dataset.num_item, \n",
        "    hidden_units = config.hidden_units, \n",
        "    num_heads = config.num_heads, \n",
        "    num_layers = config.num_layers, \n",
        "    max_len = make_sequence_dataset.max_len, \n",
        "    dropout_rate = config.dropout_rate, \n",
        "    device = device,\n",
        "    ).to(device)\n",
        "\n",
        "criterion = MultiLoss()\n",
        "optimizer = torch.optim.Adam(model.parameters(), lr=config.lr)"
      ],
      "metadata": {
        "id": "FrphMwGbYaFK"
      },
      "execution_count": 12,
      "outputs": []
    },
    {
      "cell_type": "code",
      "source": [
        "loss_list = []\n",
        "ndcg_list = []\n",
        "hit_list = []\n",
        "for epoch in range(1, config.num_epochs + 1):\n",
        "    tbar = tqdm(range(1))\n",
        "    for _ in tbar:\n",
        "        train_loss = train(\n",
        "            model = model, \n",
        "            criterion = criterion, \n",
        "            optimizer = optimizer, \n",
        "            data_loader = data_loader,\n",
        "            make_data_set = make_sequence_dataset)\n",
        "\n",
        "        ndcg, hit = evaluate(\n",
        "            model = model, \n",
        "            user_train = user_train, \n",
        "            user_valid = user_valid,\n",
        "            data_loader = data_loader,\n",
        "            make_data_set = make_sequence_dataset,\n",
        "            )\n",
        "\n",
        "        loss_list.append(train_loss)\n",
        "        ndcg_list.append(ndcg)\n",
        "        hit_list.append(hit)\n",
        "\n",
        "        tbar.set_description(f'Epoch: {epoch:3d}| Train loss: {train_loss:.5f}| NDCG@10: {ndcg:.5f}| HIT@10: {hit:.5f}')"
      ],
      "metadata": {
        "colab": {
          "base_uri": "https://localhost:8080/"
        },
        "id": "OyNfpRIAYdAC",
        "outputId": "27bd0dc5-8e06-4548-9b68-158bf4c6977d"
      },
      "execution_count": 13,
      "outputs": [
        {
          "output_type": "stream",
          "name": "stderr",
          "text": [
            "Epoch:   1| Train loss: 1245.30018| NDCG@10: 0.03046| HIT@10: 0.02355: 100%|██████████| 1/1 [00:35<00:00, 35.63s/it]\n",
            "Epoch:   2| Train loss: 1166.30241| NDCG@10: 0.06658| HIT@10: 0.05142: 100%|██████████| 1/1 [00:33<00:00, 33.47s/it]\n",
            "Epoch:   3| Train loss: 1128.74405| NDCG@10: 0.10057| HIT@10: 0.06721: 100%|██████████| 1/1 [00:33<00:00, 33.63s/it]\n",
            "Epoch:   4| Train loss: 1120.66440| NDCG@10: 0.10325| HIT@10: 0.07124: 100%|██████████| 1/1 [00:33<00:00, 33.48s/it]\n",
            "Epoch:   5| Train loss: 1119.73603| NDCG@10: 0.10463| HIT@10: 0.07392: 100%|██████████| 1/1 [00:33<00:00, 33.38s/it]\n",
            "Epoch:   6| Train loss: 1116.89737| NDCG@10: 0.10762| HIT@10: 0.07645: 100%|██████████| 1/1 [00:33<00:00, 33.52s/it]\n",
            "Epoch:   7| Train loss: 1115.11793| NDCG@10: 0.11134| HIT@10: 0.07928: 100%|██████████| 1/1 [00:33<00:00, 33.48s/it]\n",
            "Epoch:   8| Train loss: 1112.73313| NDCG@10: 0.11251| HIT@10: 0.08152: 100%|██████████| 1/1 [00:33<00:00, 33.50s/it]\n",
            "Epoch:   9| Train loss: 1106.19303| NDCG@10: 0.11587| HIT@10: 0.08212: 100%|██████████| 1/1 [00:33<00:00, 33.38s/it]\n",
            "Epoch:  10| Train loss: 1099.69537| NDCG@10: 0.12712| HIT@10: 0.08912: 100%|██████████| 1/1 [00:33<00:00, 33.39s/it]\n",
            "Epoch:  11| Train loss: 1092.59954| NDCG@10: 0.12573| HIT@10: 0.08703: 100%|██████████| 1/1 [00:33<00:00, 33.62s/it]\n",
            "Epoch:  12| Train loss: 1086.86265| NDCG@10: 0.12971| HIT@10: 0.09016: 100%|██████████| 1/1 [00:33<00:00, 33.44s/it]\n",
            "Epoch:  13| Train loss: 1082.72274| NDCG@10: 0.13050| HIT@10: 0.08912: 100%|██████████| 1/1 [00:33<00:00, 33.53s/it]\n",
            "Epoch:  14| Train loss: 1077.69209| NDCG@10: 0.13422| HIT@10: 0.09270: 100%|██████████| 1/1 [00:33<00:00, 33.68s/it]\n",
            "Epoch:  15| Train loss: 1075.22565| NDCG@10: 0.13994| HIT@10: 0.09732: 100%|██████████| 1/1 [00:33<00:00, 33.64s/it]\n",
            "Epoch:  16| Train loss: 1071.65112| NDCG@10: 0.14042| HIT@10: 0.09657: 100%|██████████| 1/1 [00:33<00:00, 33.55s/it]\n",
            "Epoch:  17| Train loss: 1069.11379| NDCG@10: 0.14026| HIT@10: 0.09732: 100%|██████████| 1/1 [00:33<00:00, 33.55s/it]\n",
            "Epoch:  18| Train loss: 1066.32853| NDCG@10: 0.13800| HIT@10: 0.09613: 100%|██████████| 1/1 [00:33<00:00, 33.51s/it]\n",
            "Epoch:  19| Train loss: 1063.43134| NDCG@10: 0.14415| HIT@10: 0.10045: 100%|██████████| 1/1 [00:33<00:00, 33.54s/it]\n",
            "Epoch:  20| Train loss: 1062.12388| NDCG@10: 0.14205| HIT@10: 0.09836: 100%|██████████| 1/1 [00:33<00:00, 33.50s/it]\n",
            "Epoch:  21| Train loss: 1060.04634| NDCG@10: 0.14678| HIT@10: 0.10164: 100%|██████████| 1/1 [00:33<00:00, 33.56s/it]\n",
            "Epoch:  22| Train loss: 1058.36180| NDCG@10: 0.14580| HIT@10: 0.10134: 100%|██████████| 1/1 [00:33<00:00, 33.53s/it]\n",
            "Epoch:  23| Train loss: 1055.82972| NDCG@10: 0.14599| HIT@10: 0.10134: 100%|██████████| 1/1 [00:33<00:00, 33.49s/it]\n",
            "Epoch:  24| Train loss: 1055.15508| NDCG@10: 0.15231| HIT@10: 0.10760: 100%|██████████| 1/1 [00:33<00:00, 33.46s/it]\n",
            "Epoch:  25| Train loss: 1053.50780| NDCG@10: 0.14721| HIT@10: 0.10328: 100%|██████████| 1/1 [00:33<00:00, 33.49s/it]\n",
            "Epoch:  26| Train loss: 1050.16306| NDCG@10: 0.15341| HIT@10: 0.10969: 100%|██████████| 1/1 [00:33<00:00, 33.63s/it]\n",
            "Epoch:  27| Train loss: 1048.71604| NDCG@10: 0.15816| HIT@10: 0.11222: 100%|██████████| 1/1 [00:33<00:00, 33.56s/it]\n",
            "Epoch:  28| Train loss: 1046.92754| NDCG@10: 0.16204| HIT@10: 0.11416: 100%|██████████| 1/1 [00:33<00:00, 33.66s/it]\n",
            "Epoch:  29| Train loss: 1045.23117| NDCG@10: 0.15921| HIT@10: 0.11311: 100%|██████████| 1/1 [00:33<00:00, 33.64s/it]\n",
            "Epoch:  30| Train loss: 1043.57967| NDCG@10: 0.15646| HIT@10: 0.11267: 100%|██████████| 1/1 [00:33<00:00, 33.82s/it]\n",
            "Epoch:  31| Train loss: 1042.34625| NDCG@10: 0.16198| HIT@10: 0.11520: 100%|██████████| 1/1 [00:33<00:00, 33.72s/it]\n",
            "Epoch:  32| Train loss: 1041.40832| NDCG@10: 0.15981| HIT@10: 0.11431: 100%|██████████| 1/1 [00:33<00:00, 33.73s/it]\n",
            "Epoch:  33| Train loss: 1039.39029| NDCG@10: 0.16796| HIT@10: 0.11908: 100%|██████████| 1/1 [00:33<00:00, 33.91s/it]\n",
            "Epoch:  34| Train loss: 1036.25060| NDCG@10: 0.16687| HIT@10: 0.11937: 100%|██████████| 1/1 [00:33<00:00, 33.77s/it]\n",
            "Epoch:  35| Train loss: 1034.78771| NDCG@10: 0.17257| HIT@10: 0.12131: 100%|██████████| 1/1 [00:33<00:00, 33.83s/it]\n",
            "Epoch:  36| Train loss: 1032.04491| NDCG@10: 0.17934| HIT@10: 0.12548: 100%|██████████| 1/1 [00:33<00:00, 33.82s/it]\n",
            "Epoch:  37| Train loss: 1030.14366| NDCG@10: 0.17615| HIT@10: 0.12519: 100%|██████████| 1/1 [00:33<00:00, 33.88s/it]\n",
            "Epoch:  38| Train loss: 1028.72141| NDCG@10: 0.17752| HIT@10: 0.12563: 100%|██████████| 1/1 [00:33<00:00, 33.73s/it]\n",
            "Epoch:  39| Train loss: 1027.82381| NDCG@10: 0.17715| HIT@10: 0.12370: 100%|██████████| 1/1 [00:33<00:00, 33.72s/it]\n",
            "Epoch:  40| Train loss: 1025.16637| NDCG@10: 0.18168| HIT@10: 0.12876: 100%|██████████| 1/1 [00:33<00:00, 33.78s/it]\n",
            "Epoch:  41| Train loss: 1024.25585| NDCG@10: 0.18099| HIT@10: 0.12876: 100%|██████████| 1/1 [00:33<00:00, 33.76s/it]\n",
            "Epoch:  42| Train loss: 1021.88431| NDCG@10: 0.18169| HIT@10: 0.12876: 100%|██████████| 1/1 [00:33<00:00, 33.82s/it]\n",
            "Epoch:  43| Train loss: 1020.70914| NDCG@10: 0.18092| HIT@10: 0.12727: 100%|██████████| 1/1 [00:33<00:00, 33.83s/it]\n",
            "Epoch:  44| Train loss: 1018.94195| NDCG@10: 0.18714| HIT@10: 0.13100: 100%|██████████| 1/1 [00:33<00:00, 33.73s/it]\n",
            "Epoch:  45| Train loss: 1018.25317| NDCG@10: 0.18691| HIT@10: 0.13159: 100%|██████████| 1/1 [00:33<00:00, 33.71s/it]\n",
            "Epoch:  46| Train loss: 1014.52681| NDCG@10: 0.18023| HIT@10: 0.12712: 100%|██████████| 1/1 [00:33<00:00, 33.80s/it]\n",
            "Epoch:  47| Train loss: 1013.03895| NDCG@10: 0.18678| HIT@10: 0.12936: 100%|██████████| 1/1 [00:33<00:00, 33.74s/it]\n",
            "Epoch:  48| Train loss: 1011.61856| NDCG@10: 0.18316| HIT@10: 0.12876: 100%|██████████| 1/1 [00:33<00:00, 33.77s/it]\n",
            "Epoch:  49| Train loss: 1011.93435| NDCG@10: 0.18559| HIT@10: 0.13040: 100%|██████████| 1/1 [00:34<00:00, 34.31s/it]\n",
            "Epoch:  50| Train loss: 1009.58561| NDCG@10: 0.18147| HIT@10: 0.12683: 100%|██████████| 1/1 [00:35<00:00, 35.77s/it]\n"
          ]
        }
      ]
    },
    {
      "cell_type": "code",
      "source": [
        "import matplotlib.pyplot as plt\n",
        "\n",
        "fig, ax = plt.subplots(1, 3, figsize = (15, 5))\n",
        "ax = ax.flatten()\n",
        "epochs = [i for i in range(1, config.num_epochs + 1)]\n",
        "\n",
        "ax[0].plot(epochs, loss_list)\n",
        "ax[0].set_title('Loss')\n",
        "\n",
        "ax[1].plot(epochs, ndcg_list)\n",
        "ax[1].set_title('NDCG')\n",
        "\n",
        "ax[2].plot(epochs, hit_list)\n",
        "ax[2].set_title('HIT')\n",
        "plt.show()"
      ],
      "metadata": {
        "colab": {
          "base_uri": "https://localhost:8080/",
          "height": 336
        },
        "id": "QR_pOciFYtT7",
        "outputId": "c8336e1f-7803-4ea3-f3b2-419fbb24064e"
      },
      "execution_count": 14,
      "outputs": [
        {
          "output_type": "display_data",
          "data": {
            "text/plain": [
              "<Figure size 1080x360 with 3 Axes>"
            ],
            "image/png": "[encoded data removed]"
          },
          "metadata": {
            "needs_background": "light"
          }
        }
      ]
    },
    {
      "cell_type": "code",
      "source": [
        ""
      ],
      "metadata": {
        "id": "nxKYPdQypBEE"
      },
      "execution_count": null,
      "outputs": []
    }
  ]
}