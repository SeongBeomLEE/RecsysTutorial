{
  "nbformat": 4,
  "nbformat_minor": 0,
  "metadata": {
    "colab": {
      "name": "Matrix_Factorization.ipynb",
      "provenance": [],
      "collapsed_sections": [],
      "mount_file_id": "1hJAqXIf8OirmClathZ8Ue0LY76NuZM4v",
      "authorship_tag": "ABX9TyMfk9+57MECq4Yv9+epiyRf",
      "include_colab_link": true
    },
    "kernelspec": {
      "name": "python3",
      "display_name": "Python 3"
    },
    "language_info": {
      "name": "python"
    },
    "accelerator": "GPU"
  },
  "cells": [
    {
      "cell_type": "markdown",
      "metadata": {
        "id": "view-in-github",
        "colab_type": "text"
      },
      "source": [
        "<a href=\"https://colab.research.google.com/github/SeongBeomLEE/RecsysTutorial/blob/main/MF/Matrix_Factorization.ipynb\" target=\"_parent\"><img src=\"https://colab.research.google.com/assets/colab-badge.svg\" alt=\"Open In Colab\"/></a>"
      ]
    },
    {
      "cell_type": "code",
      "execution_count": 1,
      "metadata": {
        "id": "L3pG4yjI38Q0"
      },
      "outputs": [],
      "source": [
        "import numpy as np\n",
        "import pandas as pd\n",
        "\n",
        "import torch\n",
        "import torch.nn as nn\n",
        "import torch.nn.functional as F\n",
        "\n",
        "import warnings\n",
        "\n",
        "warnings.filterwarnings(action='ignore')\n",
        "\n",
        "data_dir = '/content/drive/MyDrive/RecsysTutorial/Data/MovieLens/'\n",
        "model_dir = '/content/drive/MyDrive/RecsysTutorial/Model/'"
      ]
    },
    {
      "cell_type": "markdown",
      "source": [
        "# 데이터 확인"
      ],
      "metadata": {
        "id": "dLHonyUm5x51"
      }
    },
    {
      "cell_type": "code",
      "source": [
        "ratings_df = pd.read_csv(data_dir + 'ratings.csv')\n",
        "ratings_df.head(10)"
      ],
      "metadata": {
        "colab": {
          "base_uri": "https://localhost:8080/",
          "height": 363
        },
        "id": "xHXEweQq5Xfu",
        "outputId": "9d241128-cf77-4888-f238-cef45de73040"
      },
      "execution_count": 2,
      "outputs": [
        {
          "output_type": "execute_result",
          "data": {
            "text/html": [
              "\n",
              "  <div id=\"df-8343b939-fd3c-4d9d-9de6-1877806fcb81\">\n",
              "    <div class=\"colab-df-container\">\n",
              "      <div>\n",
              "<style scoped>\n",
              "    .dataframe tbody tr th:only-of-type {\n",
              "        vertical-align: middle;\n",
              "    }\n",
              "\n",
              "    .dataframe tbody tr th {\n",
              "        vertical-align: top;\n",
              "    }\n",
              "\n",
              "    .dataframe thead th {\n",
              "        text-align: right;\n",
              "    }\n",
              "</style>\n",
              "<table border=\"1\" class=\"dataframe\">\n",
              "  <thead>\n",
              "    <tr style=\"text-align: right;\">\n",
              "      <th></th>\n",
              "      <th>userId</th>\n",
              "      <th>movieId</th>\n",
              "      <th>rating</th>\n",
              "      <th>timestamp</th>\n",
              "    </tr>\n",
              "  </thead>\n",
              "  <tbody>\n",
              "    <tr>\n",
              "      <th>0</th>\n",
              "      <td>1</td>\n",
              "      <td>31</td>\n",
              "      <td>2.5</td>\n",
              "      <td>1260759144</td>\n",
              "    </tr>\n",
              "    <tr>\n",
              "      <th>1</th>\n",
              "      <td>1</td>\n",
              "      <td>1029</td>\n",
              "      <td>3.0</td>\n",
              "      <td>1260759179</td>\n",
              "    </tr>\n",
              "    <tr>\n",
              "      <th>2</th>\n",
              "      <td>1</td>\n",
              "      <td>1061</td>\n",
              "      <td>3.0</td>\n",
              "      <td>1260759182</td>\n",
              "    </tr>\n",
              "    <tr>\n",
              "      <th>3</th>\n",
              "      <td>1</td>\n",
              "      <td>1129</td>\n",
              "      <td>2.0</td>\n",
              "      <td>1260759185</td>\n",
              "    </tr>\n",
              "    <tr>\n",
              "      <th>4</th>\n",
              "      <td>1</td>\n",
              "      <td>1172</td>\n",
              "      <td>4.0</td>\n",
              "      <td>1260759205</td>\n",
              "    </tr>\n",
              "    <tr>\n",
              "      <th>5</th>\n",
              "      <td>1</td>\n",
              "      <td>1263</td>\n",
              "      <td>2.0</td>\n",
              "      <td>1260759151</td>\n",
              "    </tr>\n",
              "    <tr>\n",
              "      <th>6</th>\n",
              "      <td>1</td>\n",
              "      <td>1287</td>\n",
              "      <td>2.0</td>\n",
              "      <td>1260759187</td>\n",
              "    </tr>\n",
              "    <tr>\n",
              "      <th>7</th>\n",
              "      <td>1</td>\n",
              "      <td>1293</td>\n",
              "      <td>2.0</td>\n",
              "      <td>1260759148</td>\n",
              "    </tr>\n",
              "    <tr>\n",
              "      <th>8</th>\n",
              "      <td>1</td>\n",
              "      <td>1339</td>\n",
              "      <td>3.5</td>\n",
              "      <td>1260759125</td>\n",
              "    </tr>\n",
              "    <tr>\n",
              "      <th>9</th>\n",
              "      <td>1</td>\n",
              "      <td>1343</td>\n",
              "      <td>2.0</td>\n",
              "      <td>1260759131</td>\n",
              "    </tr>\n",
              "  </tbody>\n",
              "</table>\n",
              "</div>\n",
              "      <button class=\"colab-df-convert\" onclick=\"convertToInteractive('df-8343b939-fd3c-4d9d-9de6-1877806fcb81')\"\n",
              "              title=\"Convert this dataframe to an interactive table.\"\n",
              "              style=\"display:none;\">\n",
              "        \n",
              "  <svg xmlns=\"http://www.w3.org/2000/svg\" height=\"24px\"viewBox=\"0 0 24 24\"\n",
              "       width=\"24px\">\n",
              "    <path d=\"M0 0h24v24H0V0z\" fill=\"none\"/>\n",
              "    <path d=\"M18.56 5.44l.94 2.06.94-2.06 2.06-.94-2.06-.94-.94-2.06-.94 2.06-2.06.94zm-11 1L8.5 8.5l.94-2.06 2.06-.94-2.06-.94L8.5 2.5l-.94 2.06-2.06.94zm10 10l.94 2.06.94-2.06 2.06-.94-2.06-.94-.94-2.06-.94 2.06-2.06.94z\"/><path d=\"M17.41 7.96l-1.37-1.37c-.4-.4-.92-.59-1.43-.59-.52 0-1.04.2-1.43.59L10.3 9.45l-7.72 7.72c-.78.78-.78 2.05 0 2.83L4 21.41c.39.39.9.59 1.41.59.51 0 1.02-.2 1.41-.59l7.78-7.78 2.81-2.81c.8-.78.8-2.07 0-2.86zM5.41 20L4 18.59l7.72-7.72 1.47 1.35L5.41 20z\"/>\n",
              "  </svg>\n",
              "      </button>\n",
              "      \n",
              "  <style>\n",
              "    .colab-df-container {\n",
              "      display:flex;\n",
              "      flex-wrap:wrap;\n",
              "      gap: 12px;\n",
              "    }\n",
              "\n",
              "    .colab-df-convert {\n",
              "      background-color: #E8F0FE;\n",
              "      border: none;\n",
              "      border-radius: 50%;\n",
              "      cursor: pointer;\n",
              "      display: none;\n",
              "      fill: #1967D2;\n",
              "      height: 32px;\n",
              "      padding: 0 0 0 0;\n",
              "      width: 32px;\n",
              "    }\n",
              "\n",
              "    .colab-df-convert:hover {\n",
              "      background-color: #E2EBFA;\n",
              "      box-shadow: 0px 1px 2px rgba(60, 64, 67, 0.3), 0px 1px 3px 1px rgba(60, 64, 67, 0.15);\n",
              "      fill: #174EA6;\n",
              "    }\n",
              "\n",
              "    [theme=dark] .colab-df-convert {\n",
              "      background-color: #3B4455;\n",
              "      fill: #D2E3FC;\n",
              "    }\n",
              "\n",
              "    [theme=dark] .colab-df-convert:hover {\n",
              "      background-color: #434B5C;\n",
              "      box-shadow: 0px 1px 3px 1px rgba(0, 0, 0, 0.15);\n",
              "      filter: drop-shadow(0px 1px 2px rgba(0, 0, 0, 0.3));\n",
              "      fill: #FFFFFF;\n",
              "    }\n",
              "  </style>\n",
              "\n",
              "      <script>\n",
              "        const buttonEl =\n",
              "          document.querySelector('#df-8343b939-fd3c-4d9d-9de6-1877806fcb81 button.colab-df-convert');\n",
              "        buttonEl.style.display =\n",
              "          google.colab.kernel.accessAllowed ? 'block' : 'none';\n",
              "\n",
              "        async function convertToInteractive(key) {\n",
              "          const element = document.querySelector('#df-8343b939-fd3c-4d9d-9de6-1877806fcb81');\n",
              "          const dataTable =\n",
              "            await google.colab.kernel.invokeFunction('convertToInteractive',\n",
              "                                                     [key], {});\n",
              "          if (!dataTable) return;\n",
              "\n",
              "          const docLinkHtml = 'Like what you see? Visit the ' +\n",
              "            '<a target=\"_blank\" href=https://colab.research.google.com/notebooks/data_table.ipynb>data table notebook</a>'\n",
              "            + ' to learn more about interactive tables.';\n",
              "          element.innerHTML = '';\n",
              "          dataTable['output_type'] = 'display_data';\n",
              "          await google.colab.output.renderOutput(dataTable, element);\n",
              "          const docLink = document.createElement('div');\n",
              "          docLink.innerHTML = docLinkHtml;\n",
              "          element.appendChild(docLink);\n",
              "        }\n",
              "      </script>\n",
              "    </div>\n",
              "  </div>\n",
              "  "
            ],
            "text/plain": [
              "   userId  movieId  rating   timestamp\n",
              "0       1       31     2.5  1260759144\n",
              "1       1     1029     3.0  1260759179\n",
              "2       1     1061     3.0  1260759182\n",
              "3       1     1129     2.0  1260759185\n",
              "4       1     1172     4.0  1260759205\n",
              "5       1     1263     2.0  1260759151\n",
              "6       1     1287     2.0  1260759187\n",
              "7       1     1293     2.0  1260759148\n",
              "8       1     1339     3.5  1260759125\n",
              "9       1     1343     2.0  1260759131"
            ]
          },
          "metadata": {},
          "execution_count": 2
        }
      ]
    },
    {
      "cell_type": "code",
      "source": [
        "num_user = ratings_df['userId'].nunique()\n",
        "num_item = ratings_df['movieId'].nunique()\n",
        "\n",
        "sparsity = 1 - len(ratings_df) / (num_user * num_item)\n",
        "\n",
        "print(f'전체 User 수: {num_user}')\n",
        "print(f'전체 Item 수: {num_item}')\n",
        "print(f'행렬의 희소성: {sparsity:.4f}')"
      ],
      "metadata": {
        "colab": {
          "base_uri": "https://localhost:8080/"
        },
        "id": "3KKZeIWg6iSp",
        "outputId": "317535da-5076-42ff-e4fe-cd807de7cfbd"
      },
      "execution_count": 3,
      "outputs": [
        {
          "output_type": "stream",
          "name": "stdout",
          "text": [
            "전체 User 수: 671\n",
            "전체 Item 수: 9066\n",
            "행렬의 희소성: 0.9836\n"
          ]
        }
      ]
    },
    {
      "cell_type": "code",
      "source": [
        "import seaborn as sns\n",
        "import matplotlib.pyplot as plt\n",
        "\n",
        "sns.histplot(ratings_df['rating'])\n",
        "plt.title('Rating distribution')"
      ],
      "metadata": {
        "colab": {
          "base_uri": "https://localhost:8080/",
          "height": 313
        },
        "id": "DzYlEJQb64WL",
        "outputId": "a73ad157-4612-47b6-9f21-ae20d2812fe5"
      },
      "execution_count": 4,
      "outputs": [
        {
          "output_type": "execute_result",
          "data": {
            "text/plain": [
              "Text(0.5, 1.0, 'Rating distribution')"
            ]
          },
          "metadata": {},
          "execution_count": 4
        },
        {
          "output_type": "display_data",
          "data": {
            "image/png": "[encoded data removed]",
            "text/plain": [
              "<Figure size 432x288 with 1 Axes>"
            ]
          },
          "metadata": {
            "needs_background": "light"
          }
        }
      ]
    },
    {
      "cell_type": "code",
      "source": [
        "mu = ratings_df['rating'].mean()"
      ],
      "metadata": {
        "id": "COq9caErEPfH"
      },
      "execution_count": 5,
      "outputs": []
    },
    {
      "cell_type": "markdown",
      "source": [
        "# 데이터셋 제작"
      ],
      "metadata": {
        "id": "nfr9ZtE35ze_"
      }
    },
    {
      "cell_type": "code",
      "source": [
        "def split_data(df, test_ratio = 0.1):\n",
        "    user_id_li = df['userId'].unique()\n",
        "    mask = []\n",
        "    for user_id in user_id_li:\n",
        "        _df = df[df['userId'] == user_id]\n",
        "        mask += [True if x == 1 else False for x in np.random.uniform(0, 1, (len(_df))) < 1 - test_ratio]\n",
        "    neg_mask = [not x for x in mask]\n",
        "\n",
        "    train_data, test_data = df[mask], df[neg_mask]\n",
        "    return train_data, test_data\n",
        "\n",
        "train_df, val_df = split_data(df = ratings_df)"
      ],
      "metadata": {
        "id": "RB3UYZR672JL"
      },
      "execution_count": 6,
      "outputs": []
    },
    {
      "cell_type": "code",
      "source": [
        "not_in_val_user_num = len(set(val_df['userId'].unique().tolist()) - set(train_df['userId'].unique().tolist()))\n",
        "not_in_val_item_num = len(set(val_df['movieId'].unique().tolist()) - set(train_df['movieId'].unique().tolist()))\n",
        "\n",
        "print(f'학습용 데이터에 없는 유저의 수 : {not_in_val_user_num}')\n",
        "print(f'학습용 데이터에 없는 영화의 수 : {not_in_val_item_num}')\n",
        "print(f'학습용 데이터의 수: {len(train_df)}, 평가용 데이터의 수: {len(val_df)}')"
      ],
      "metadata": {
        "colab": {
          "base_uri": "https://localhost:8080/"
        },
        "id": "xumdEP6S91Fu",
        "outputId": "3ebc5a82-5689-4e6a-dba7-5c18527a39c0"
      },
      "execution_count": 7,
      "outputs": [
        {
          "output_type": "stream",
          "name": "stdout",
          "text": [
            "학습용 데이터에 없는 유저의 수 : 0\n",
            "학습용 데이터에 없는 영화의 수 : 339\n",
            "학습용 데이터의 수: 90062, 평가용 데이터의 수: 9942\n"
          ]
        }
      ]
    },
    {
      "cell_type": "code",
      "source": [
        "user_encoder, user_decoder = {}, {}\n",
        "for idx, user_id in enumerate(ratings_df['userId'].unique()):\n",
        "    user_encoder[user_id] = idx\n",
        "    user_decoder[idx] = user_id\n",
        "\n",
        "item_encoder, item_decoder = {}, {}\n",
        "for idx, item_id in enumerate(ratings_df['movieId'].unique()):\n",
        "    item_encoder[item_id] = idx\n",
        "    item_decoder[idx] = item_id"
      ],
      "metadata": {
        "id": "ykXlVDHrBhnj"
      },
      "execution_count": 8,
      "outputs": []
    },
    {
      "cell_type": "code",
      "source": [
        "from torch.utils.data import Dataset\n",
        "from torch.utils.data import DataLoader\n",
        "\n",
        "class CustomDataset(Dataset):\n",
        "    def __init__(self, df, user_encoder, item_encoder):\n",
        "        self.df = df\n",
        "        self.user_encoder, self.item_encoder, = user_encoder, item_encoder\n",
        "        self.user = torch.tensor([self.user_encoder[i] for i in self.df['userId'].tolist()])\n",
        "        self.item = torch.tensor([self.item_encoder[i] for i in self.df['movieId'].tolist()])\n",
        "        self.rating = torch.tensor(self.df['rating'].tolist())\n",
        "\n",
        "    def __len__(self):\n",
        "        return len(self.df)\n",
        "\n",
        "    def __getitem__(self, idx):\n",
        "        user = self.user[idx]\n",
        "        item = self.item[idx]\n",
        "        rating = self.rating[idx]\n",
        "\n",
        "        return user, item, rating"
      ],
      "metadata": {
        "id": "nedmoGy55Xj1"
      },
      "execution_count": 9,
      "outputs": []
    },
    {
      "cell_type": "markdown",
      "source": [
        "# 모델 정의"
      ],
      "metadata": {
        "id": "qL2AqX_g51Nq"
      }
    },
    {
      "cell_type": "code",
      "source": [
        "from matplotlib import path\n",
        "class MF(nn.Module):\n",
        "    def __init__(self, num_user, num_item, num_factor, mu):\n",
        "        super(MF, self).__init__()\n",
        "        self.P = nn.Embedding(num_user, num_factor)\n",
        "        self.Q = nn.Embedding(num_item, num_factor)\n",
        "        self.user_bias = nn.Embedding(num_user, 1)\n",
        "        self.item_bias = nn.Embedding(num_item, 1)\n",
        "        self.mu = mu\n",
        "\n",
        "    def forward(self, user, item):\n",
        "        p_u = self.P(user)\n",
        "        q_i = self.Q(item)\n",
        "        b_u = self.user_bias(user)\n",
        "        b_i = self.item_bias(item)\n",
        "        mu = self.mu\n",
        "\n",
        "        output = torch.sum((p_u * q_i), axis = 1) + torch.squeeze(b_u) + torch.squeeze(b_i) + mu\n",
        "        \n",
        "        return output.view(-1)"
      ],
      "metadata": {
        "id": "DxuOh_Fp53HR"
      },
      "execution_count": 11,
      "outputs": []
    },
    {
      "cell_type": "markdown",
      "source": [
        "# 학습 설정"
      ],
      "metadata": {
        "id": "SdSqKIp_52h0"
      }
    },
    {
      "cell_type": "code",
      "source": [
        "def train(model, train_loader):\n",
        "    model.train()\n",
        "    train_loss = 0\n",
        "\n",
        "    for user, item, rating in train_loader:\n",
        "        user = user.to(device)\n",
        "        item = item.to(device)\n",
        "        rating = rating.to(device)\n",
        "\n",
        "        optimizer.zero_grad()\n",
        "        output = model(user, item)\n",
        "\n",
        "        loss = criterion(output, rating)\n",
        "\n",
        "        loss.backward()\n",
        "        optimizer.step()\n",
        "\n",
        "        train_loss += loss.item()\n",
        "    \n",
        "    train_loss = train_loss / len(train_loader)\n",
        "\n",
        "    return train_loss\n",
        "\n",
        "\n",
        "def evaluate(model, test_loader):\n",
        "    model.eval()\n",
        "    test_loss = 0\n",
        "\n",
        "    with torch.no_grad():\n",
        "        for user, item, rating in test_loader:\n",
        "            user = user.to(device)\n",
        "            item = item.to(device)\n",
        "            rating = rating.to(device)\n",
        "\n",
        "            output = model(user, item)\n",
        "\n",
        "            loss = criterion(output, rating)\n",
        "\n",
        "            test_loss += loss.item()\n",
        "\n",
        "    test_loss = test_loss / len(test_loader)\n",
        "\n",
        "    return test_loss"
      ],
      "metadata": {
        "id": "qS0cV36d57Mc"
      },
      "execution_count": 12,
      "outputs": []
    },
    {
      "cell_type": "markdown",
      "source": [
        "# 학습"
      ],
      "metadata": {
        "id": "iejEFFED56s7"
      }
    },
    {
      "cell_type": "code",
      "source": [
        "num_factor = 100\n",
        "batch_size = 128\n",
        "epochs = 30\n",
        "device = torch.device('cuda') if torch.cuda.is_available() else torch.device('cpu')\n",
        "lr = 0.005"
      ],
      "metadata": {
        "id": "M7071jRhJZh_"
      },
      "execution_count": 13,
      "outputs": []
    },
    {
      "cell_type": "code",
      "source": [
        "model = MF(num_user = num_user, num_item = num_item, num_factor = num_factor, mu = mu).to(device)\n",
        "criterion = nn.MSELoss()\n",
        "optimizer = torch.optim.Adam(model.parameters(), lr = lr)\n",
        "\n",
        "train_dataset = CustomDataset(df = ratings_df, user_encoder = user_encoder, item_encoder = item_encoder)\n",
        "val_dataset = CustomDataset(df = val_df, user_encoder = user_encoder, item_encoder = item_encoder)\n",
        "\n",
        "train_loader = DataLoader(train_dataset, batch_size = batch_size, shuffle = True, drop_last = False)\n",
        "val_loader = DataLoader(val_dataset, batch_size = batch_size, shuffle = False, drop_last = False)"
      ],
      "metadata": {
        "id": "LDyroQIN5Xl5"
      },
      "execution_count": 14,
      "outputs": []
    },
    {
      "cell_type": "code",
      "source": [
        "best_metric = 1\n",
        "\n",
        "for epoch in range(1, epochs + 1):\n",
        "    train_loss = train(model, train_loader)\n",
        "    val_loss = evaluate(model, val_loader)\n",
        "\n",
        "    print(f\"[EPOCH: {epoch}], Train Loss: {train_loss:.4f}, Val Loss: {val_loss:.4f}\")\n",
        "\n",
        "    if val_loss < best_metric:\n",
        "        best_metric = val_loss\n",
        "        torch.save(model.state_dict(), model_dir + f'Matrix_Factorization.pt')"
      ],
      "metadata": {
        "colab": {
          "base_uri": "https://localhost:8080/"
        },
        "id": "3Hv2NfRrKa8t",
        "outputId": "4b8c0474-83f5-4849-d681-04c8ba21a033"
      },
      "execution_count": 15,
      "outputs": [
        {
          "output_type": "stream",
          "name": "stdout",
          "text": [
            "[EPOCH: 1], Train Loss: 77.4812, Val Loss: 29.2195\n",
            "[EPOCH: 2], Train Loss: 24.2877, Val Loss: 10.6222\n",
            "[EPOCH: 3], Train Loss: 9.5781, Val Loss: 4.6098\n",
            "[EPOCH: 4], Train Loss: 4.4961, Val Loss: 2.4840\n",
            "[EPOCH: 5], Train Loss: 2.5485, Val Loss: 1.7482\n",
            "[EPOCH: 6], Train Loss: 1.8651, Val Loss: 1.7570\n",
            "[EPOCH: 7], Train Loss: 1.8364, Val Loss: 2.0818\n",
            "[EPOCH: 8], Train Loss: 2.1805, Val Loss: 2.2732\n",
            "[EPOCH: 9], Train Loss: 2.3803, Val Loss: 2.1318\n",
            "[EPOCH: 10], Train Loss: 2.1029, Val Loss: 1.7935\n",
            "[EPOCH: 11], Train Loss: 1.6969, Val Loss: 1.5636\n",
            "[EPOCH: 12], Train Loss: 1.4930, Val Loss: 1.5204\n",
            "[EPOCH: 13], Train Loss: 1.4979, Val Loss: 1.5985\n",
            "[EPOCH: 14], Train Loss: 1.5568, Val Loss: 1.5486\n",
            "[EPOCH: 15], Train Loss: 1.5193, Val Loss: 1.3815\n",
            "[EPOCH: 16], Train Loss: 1.3653, Val Loss: 1.2904\n",
            "[EPOCH: 17], Train Loss: 1.2484, Val Loss: 1.2121\n",
            "[EPOCH: 18], Train Loss: 1.1860, Val Loss: 1.1532\n",
            "[EPOCH: 19], Train Loss: 1.1460, Val Loss: 1.1463\n",
            "[EPOCH: 20], Train Loss: 1.1061, Val Loss: 1.0893\n",
            "[EPOCH: 21], Train Loss: 1.0366, Val Loss: 0.9834\n",
            "[EPOCH: 22], Train Loss: 0.9708, Val Loss: 0.9472\n",
            "[EPOCH: 23], Train Loss: 0.9253, Val Loss: 0.9193\n",
            "[EPOCH: 24], Train Loss: 0.8824, Val Loss: 0.8879\n",
            "[EPOCH: 25], Train Loss: 0.8485, Val Loss: 0.8326\n",
            "[EPOCH: 26], Train Loss: 0.8007, Val Loss: 0.7963\n",
            "[EPOCH: 27], Train Loss: 0.7505, Val Loss: 0.7690\n",
            "[EPOCH: 28], Train Loss: 0.7137, Val Loss: 0.7235\n",
            "[EPOCH: 29], Train Loss: 0.6832, Val Loss: 0.6842\n",
            "[EPOCH: 30], Train Loss: 0.6519, Val Loss: 0.6328\n"
          ]
        }
      ]
    },
    {
      "cell_type": "markdown",
      "source": [
        "본 학습에서 Embedding 한쪽을 고정시킨 후에 학습을 진행하면 ALS 방식이 된다. 그리고 데이터의 구조를 조금더 바꾸면 시간에 대한 역동성도 반영할 수 있고, 신뢰도를 추가하여 학습을 진행할 수도 있다."
      ],
      "metadata": {
        "id": "_175Be4YLWg7"
      }
    },
    {
      "cell_type": "code",
      "source": [
        ""
      ],
      "metadata": {
        "id": "LTUlpfAJLTC6"
      },
      "execution_count": null,
      "outputs": []
    }
  ]
}