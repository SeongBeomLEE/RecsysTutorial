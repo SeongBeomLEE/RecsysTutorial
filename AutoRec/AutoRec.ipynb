{
  "nbformat": 4,
  "nbformat_minor": 0,
  "metadata": {
    "colab": {
      "name": "AutoRec.ipynb",
      "provenance": [],
      "collapsed_sections": [],
      "mount_file_id": "1NR3Q7bKCQaa_LqFUlzXBLu6wIPXHGkAn",
      "authorship_tag": "ABX9TyPOh7HODXWkj4Zw9Ec7pD9j",
      "include_colab_link": true
    },
    "kernelspec": {
      "name": "python3",
      "display_name": "Python 3"
    },
    "language_info": {
      "name": "python"
    },
    "accelerator": "GPU"
  },
  "cells": [
    {
      "cell_type": "markdown",
      "metadata": {
        "id": "view-in-github",
        "colab_type": "text"
      },
      "source": [
        "<a href=\"https://colab.research.google.com/github/SeongBeomLEE/RecsysTutorial/blob/main/AutoRec/AutoRec.ipynb\" target=\"_parent\"><img src=\"https://colab.research.google.com/assets/colab-badge.svg\" alt=\"Open In Colab\"/></a>"
      ]
    },
    {
      "cell_type": "code",
      "execution_count": 1,
      "metadata": {
        "id": "L3pG4yjI38Q0"
      },
      "outputs": [],
      "source": [
        "import numpy as np\n",
        "import pandas as pd\n",
        "\n",
        "import torch\n",
        "import torch.nn as nn\n",
        "import torch.nn.functional as F\n",
        "\n",
        "import warnings\n",
        "\n",
        "warnings.filterwarnings(action='ignore')\n",
        "\n",
        "data_dir = '/content/drive/MyDrive/RecsysTutorial/Data/MovieLens/'\n",
        "model_dir = '/content/drive/MyDrive/RecsysTutorial/Model/'"
      ]
    },
    {
      "cell_type": "markdown",
      "source": [
        "# 데이터 확인"
      ],
      "metadata": {
        "id": "dLHonyUm5x51"
      }
    },
    {
      "cell_type": "code",
      "source": [
        "ratings_df = pd.read_csv(data_dir + 'ratings.csv')\n",
        "ratings_df.head(10)"
      ],
      "metadata": {
        "colab": {
          "base_uri": "https://localhost:8080/",
          "height": 363
        },
        "id": "xHXEweQq5Xfu",
        "outputId": "807281af-375f-431d-8a73-07de902111c1"
      },
      "execution_count": 2,
      "outputs": [
        {
          "output_type": "execute_result",
          "data": {
            "text/html": [
              "\n",
              "  <div id=\"df-23001050-7f51-43f0-9a5a-ac661ecacdfb\">\n",
              "    <div class=\"colab-df-container\">\n",
              "      <div>\n",
              "<style scoped>\n",
              "    .dataframe tbody tr th:only-of-type {\n",
              "        vertical-align: middle;\n",
              "    }\n",
              "\n",
              "    .dataframe tbody tr th {\n",
              "        vertical-align: top;\n",
              "    }\n",
              "\n",
              "    .dataframe thead th {\n",
              "        text-align: right;\n",
              "    }\n",
              "</style>\n",
              "<table border=\"1\" class=\"dataframe\">\n",
              "  <thead>\n",
              "    <tr style=\"text-align: right;\">\n",
              "      <th></th>\n",
              "      <th>userId</th>\n",
              "      <th>movieId</th>\n",
              "      <th>rating</th>\n",
              "      <th>timestamp</th>\n",
              "    </tr>\n",
              "  </thead>\n",
              "  <tbody>\n",
              "    <tr>\n",
              "      <th>0</th>\n",
              "      <td>1</td>\n",
              "      <td>31</td>\n",
              "      <td>2.5</td>\n",
              "      <td>1260759144</td>\n",
              "    </tr>\n",
              "    <tr>\n",
              "      <th>1</th>\n",
              "      <td>1</td>\n",
              "      <td>1029</td>\n",
              "      <td>3.0</td>\n",
              "      <td>1260759179</td>\n",
              "    </tr>\n",
              "    <tr>\n",
              "      <th>2</th>\n",
              "      <td>1</td>\n",
              "      <td>1061</td>\n",
              "      <td>3.0</td>\n",
              "      <td>1260759182</td>\n",
              "    </tr>\n",
              "    <tr>\n",
              "      <th>3</th>\n",
              "      <td>1</td>\n",
              "      <td>1129</td>\n",
              "      <td>2.0</td>\n",
              "      <td>1260759185</td>\n",
              "    </tr>\n",
              "    <tr>\n",
              "      <th>4</th>\n",
              "      <td>1</td>\n",
              "      <td>1172</td>\n",
              "      <td>4.0</td>\n",
              "      <td>1260759205</td>\n",
              "    </tr>\n",
              "    <tr>\n",
              "      <th>5</th>\n",
              "      <td>1</td>\n",
              "      <td>1263</td>\n",
              "      <td>2.0</td>\n",
              "      <td>1260759151</td>\n",
              "    </tr>\n",
              "    <tr>\n",
              "      <th>6</th>\n",
              "      <td>1</td>\n",
              "      <td>1287</td>\n",
              "      <td>2.0</td>\n",
              "      <td>1260759187</td>\n",
              "    </tr>\n",
              "    <tr>\n",
              "      <th>7</th>\n",
              "      <td>1</td>\n",
              "      <td>1293</td>\n",
              "      <td>2.0</td>\n",
              "      <td>1260759148</td>\n",
              "    </tr>\n",
              "    <tr>\n",
              "      <th>8</th>\n",
              "      <td>1</td>\n",
              "      <td>1339</td>\n",
              "      <td>3.5</td>\n",
              "      <td>1260759125</td>\n",
              "    </tr>\n",
              "    <tr>\n",
              "      <th>9</th>\n",
              "      <td>1</td>\n",
              "      <td>1343</td>\n",
              "      <td>2.0</td>\n",
              "      <td>1260759131</td>\n",
              "    </tr>\n",
              "  </tbody>\n",
              "</table>\n",
              "</div>\n",
              "      <button class=\"colab-df-convert\" onclick=\"convertToInteractive('df-23001050-7f51-43f0-9a5a-ac661ecacdfb')\"\n",
              "              title=\"Convert this dataframe to an interactive table.\"\n",
              "              style=\"display:none;\">\n",
              "        \n",
              "  <svg xmlns=\"http://www.w3.org/2000/svg\" height=\"24px\"viewBox=\"0 0 24 24\"\n",
              "       width=\"24px\">\n",
              "    <path d=\"M0 0h24v24H0V0z\" fill=\"none\"/>\n",
              "    <path d=\"M18.56 5.44l.94 2.06.94-2.06 2.06-.94-2.06-.94-.94-2.06-.94 2.06-2.06.94zm-11 1L8.5 8.5l.94-2.06 2.06-.94-2.06-.94L8.5 2.5l-.94 2.06-2.06.94zm10 10l.94 2.06.94-2.06 2.06-.94-2.06-.94-.94-2.06-.94 2.06-2.06.94z\"/><path d=\"M17.41 7.96l-1.37-1.37c-.4-.4-.92-.59-1.43-.59-.52 0-1.04.2-1.43.59L10.3 9.45l-7.72 7.72c-.78.78-.78 2.05 0 2.83L4 21.41c.39.39.9.59 1.41.59.51 0 1.02-.2 1.41-.59l7.78-7.78 2.81-2.81c.8-.78.8-2.07 0-2.86zM5.41 20L4 18.59l7.72-7.72 1.47 1.35L5.41 20z\"/>\n",
              "  </svg>\n",
              "      </button>\n",
              "      \n",
              "  <style>\n",
              "    .colab-df-container {\n",
              "      display:flex;\n",
              "      flex-wrap:wrap;\n",
              "      gap: 12px;\n",
              "    }\n",
              "\n",
              "    .colab-df-convert {\n",
              "      background-color: #E8F0FE;\n",
              "      border: none;\n",
              "      border-radius: 50%;\n",
              "      cursor: pointer;\n",
              "      display: none;\n",
              "      fill: #1967D2;\n",
              "      height: 32px;\n",
              "      padding: 0 0 0 0;\n",
              "      width: 32px;\n",
              "    }\n",
              "\n",
              "    .colab-df-convert:hover {\n",
              "      background-color: #E2EBFA;\n",
              "      box-shadow: 0px 1px 2px rgba(60, 64, 67, 0.3), 0px 1px 3px 1px rgba(60, 64, 67, 0.15);\n",
              "      fill: #174EA6;\n",
              "    }\n",
              "\n",
              "    [theme=dark] .colab-df-convert {\n",
              "      background-color: #3B4455;\n",
              "      fill: #D2E3FC;\n",
              "    }\n",
              "\n",
              "    [theme=dark] .colab-df-convert:hover {\n",
              "      background-color: #434B5C;\n",
              "      box-shadow: 0px 1px 3px 1px rgba(0, 0, 0, 0.15);\n",
              "      filter: drop-shadow(0px 1px 2px rgba(0, 0, 0, 0.3));\n",
              "      fill: #FFFFFF;\n",
              "    }\n",
              "  </style>\n",
              "\n",
              "      <script>\n",
              "        const buttonEl =\n",
              "          document.querySelector('#df-23001050-7f51-43f0-9a5a-ac661ecacdfb button.colab-df-convert');\n",
              "        buttonEl.style.display =\n",
              "          google.colab.kernel.accessAllowed ? 'block' : 'none';\n",
              "\n",
              "        async function convertToInteractive(key) {\n",
              "          const element = document.querySelector('#df-23001050-7f51-43f0-9a5a-ac661ecacdfb');\n",
              "          const dataTable =\n",
              "            await google.colab.kernel.invokeFunction('convertToInteractive',\n",
              "                                                     [key], {});\n",
              "          if (!dataTable) return;\n",
              "\n",
              "          const docLinkHtml = 'Like what you see? Visit the ' +\n",
              "            '<a target=\"_blank\" href=https://colab.research.google.com/notebooks/data_table.ipynb>data table notebook</a>'\n",
              "            + ' to learn more about interactive tables.';\n",
              "          element.innerHTML = '';\n",
              "          dataTable['output_type'] = 'display_data';\n",
              "          await google.colab.output.renderOutput(dataTable, element);\n",
              "          const docLink = document.createElement('div');\n",
              "          docLink.innerHTML = docLinkHtml;\n",
              "          element.appendChild(docLink);\n",
              "        }\n",
              "      </script>\n",
              "    </div>\n",
              "  </div>\n",
              "  "
            ],
            "text/plain": [
              "   userId  movieId  rating   timestamp\n",
              "0       1       31     2.5  1260759144\n",
              "1       1     1029     3.0  1260759179\n",
              "2       1     1061     3.0  1260759182\n",
              "3       1     1129     2.0  1260759185\n",
              "4       1     1172     4.0  1260759205\n",
              "5       1     1263     2.0  1260759151\n",
              "6       1     1287     2.0  1260759187\n",
              "7       1     1293     2.0  1260759148\n",
              "8       1     1339     3.5  1260759125\n",
              "9       1     1343     2.0  1260759131"
            ]
          },
          "metadata": {},
          "execution_count": 2
        }
      ]
    },
    {
      "cell_type": "code",
      "source": [
        "num_user = ratings_df['userId'].nunique()\n",
        "num_item = ratings_df['movieId'].nunique()\n",
        "\n",
        "sparsity = 1 - len(ratings_df) / (num_user * num_item)\n",
        "\n",
        "print(f'전체 User 수: {num_user}')\n",
        "print(f'전체 Item 수: {num_item}')\n",
        "print(f'행렬의 희소성: {sparsity:.4f}')"
      ],
      "metadata": {
        "colab": {
          "base_uri": "https://localhost:8080/"
        },
        "id": "3KKZeIWg6iSp",
        "outputId": "3a89b5aa-8b18-48b1-8f0b-f5ccdfa8f6ac"
      },
      "execution_count": 3,
      "outputs": [
        {
          "output_type": "stream",
          "name": "stdout",
          "text": [
            "전체 User 수: 671\n",
            "전체 Item 수: 9066\n",
            "행렬의 희소성: 0.9836\n"
          ]
        }
      ]
    },
    {
      "cell_type": "code",
      "source": [
        "import seaborn as sns\n",
        "import matplotlib.pyplot as plt\n",
        "\n",
        "sns.histplot(ratings_df['rating'])\n",
        "plt.title('Rating distribution')"
      ],
      "metadata": {
        "colab": {
          "base_uri": "https://localhost:8080/",
          "height": 313
        },
        "id": "DzYlEJQb64WL",
        "outputId": "4aba3aae-52c1-4c34-c051-043c563eb61c"
      },
      "execution_count": 4,
      "outputs": [
        {
          "output_type": "execute_result",
          "data": {
            "text/plain": [
              "Text(0.5, 1.0, 'Rating distribution')"
            ]
          },
          "metadata": {},
          "execution_count": 4
        },
        {
          "output_type": "display_data",
          "data": {
            "image/png": "[encoded data removed]",
            "text/plain": [
              "<Figure size 432x288 with 1 Axes>"
            ]
          },
          "metadata": {
            "needs_background": "light"
          }
        }
      ]
    },
    {
      "cell_type": "markdown",
      "source": [
        "# 데이터셋 제작"
      ],
      "metadata": {
        "id": "nfr9ZtE35ze_"
      }
    },
    {
      "cell_type": "code",
      "source": [
        "def split_data(df, test_ratio = 0.1):\n",
        "    user_id_li = df['userId'].unique()\n",
        "    mask = []\n",
        "    for user_id in user_id_li:\n",
        "        _df = df[df['userId'] == user_id]\n",
        "        mask += [True if x == 1 else False for x in np.random.uniform(0, 1, (len(_df))) < 1 - test_ratio]\n",
        "    neg_mask = [not x for x in mask]\n",
        "\n",
        "    train_data, test_data = df[mask], df[neg_mask]\n",
        "    return train_data, test_data\n",
        "\n",
        "train_df, val_df = split_data(df = ratings_df)"
      ],
      "metadata": {
        "id": "RB3UYZR672JL"
      },
      "execution_count": 5,
      "outputs": []
    },
    {
      "cell_type": "code",
      "source": [
        "not_in_val_user_num = len(set(val_df['userId'].unique().tolist()) - set(train_df['userId'].unique().tolist()))\n",
        "not_in_val_item_num = len(set(val_df['movieId'].unique().tolist()) - set(train_df['movieId'].unique().tolist()))\n",
        "\n",
        "print(f'학습용 데이터에 없는 유저의 수 : {not_in_val_user_num}')\n",
        "print(f'학습용 데이터에 없는 영화의 수 : {not_in_val_item_num}')\n",
        "print(f'학습용 데이터의 수: {len(train_df)}, 평가용 데이터의 수: {len(val_df)}')"
      ],
      "metadata": {
        "colab": {
          "base_uri": "https://localhost:8080/"
        },
        "id": "xumdEP6S91Fu",
        "outputId": "d4bcd969-22d6-45a6-8243-12e734f758da"
      },
      "execution_count": 6,
      "outputs": [
        {
          "output_type": "stream",
          "name": "stdout",
          "text": [
            "학습용 데이터에 없는 유저의 수 : 0\n",
            "학습용 데이터에 없는 영화의 수 : 297\n",
            "학습용 데이터의 수: 90078, 평가용 데이터의 수: 9926\n"
          ]
        }
      ]
    },
    {
      "cell_type": "code",
      "source": [
        "user_encoder, user_decoder = {}, {}\n",
        "for idx, user_id in enumerate(ratings_df['userId'].unique()):\n",
        "    user_encoder[user_id] = idx\n",
        "    user_decoder[idx] = user_id\n",
        "\n",
        "item_encoder, item_decoder = {}, {}\n",
        "for idx, item_id in enumerate(ratings_df['movieId'].unique()):\n",
        "    item_encoder[item_id] = idx\n",
        "    item_decoder[idx] = item_id"
      ],
      "metadata": {
        "id": "ykXlVDHrBhnj"
      },
      "execution_count": 7,
      "outputs": []
    },
    {
      "cell_type": "code",
      "source": [
        "from torch.utils.data import Dataset\n",
        "from torch.utils.data import DataLoader\n",
        "\n",
        "class CustomDataset(Dataset):\n",
        "    def __init__(self, df, user_encoder, item_encoder):\n",
        "        self.df = df\n",
        "        self.user_encoder, self.item_encoder, = user_encoder, item_encoder\n",
        "        self.num_user, self.num_item = len(self.user_encoder), len(self.item_encoder)\n",
        "        self.user = [self.user_encoder[i] for i in self.df['userId'].tolist()]\n",
        "        self.item = [self.item_encoder[i] for i in self.df['movieId'].tolist()]\n",
        "        self.rating = self.df['rating'].tolist()\n",
        "        self.mat = self.make_mat()\n",
        "\n",
        "    def make_mat(self):\n",
        "        mat = np.zeros((self.num_item, self.num_user)) - 1\n",
        "        for user, item, rating in zip(self.user, self.item, self.rating):\n",
        "            mat[item][user] = rating\n",
        "\n",
        "        return mat\n",
        "\n",
        "    def __len__(self):\n",
        "        return len(self.mat)\n",
        "\n",
        "    def __getitem__(self, idx):\n",
        "        mat = torch.tensor(self.mat[idx]).float()\n",
        "\n",
        "        return mat"
      ],
      "metadata": {
        "id": "nedmoGy55Xj1"
      },
      "execution_count": 8,
      "outputs": []
    },
    {
      "cell_type": "markdown",
      "source": [
        "# 모델 정의"
      ],
      "metadata": {
        "id": "qL2AqX_g51Nq"
      }
    },
    {
      "cell_type": "code",
      "source": [
        "class AutoRec(nn.Module):\n",
        "    def __init__(self, num, num_factor):\n",
        "        super(AutoRec, self).__init__()\n",
        "        self.encoder = nn.Sequential(\n",
        "            nn.Linear(num, num_factor),\n",
        "            nn.Sigmoid(),\n",
        "            nn.Linear(num_factor, num_factor // 2),\n",
        "        )\n",
        "        self.decoder = nn.Sequential(\n",
        "            nn.Linear(num_factor // 2, num_factor),\n",
        "            nn.Sigmoid(),\n",
        "            nn.Linear(num_factor, num),\n",
        "        )\n",
        "\n",
        "    def forward(self, mat):\n",
        "        latent = self.encoder(mat)\n",
        "        recont_mat = self.decoder(latent)\n",
        "\n",
        "        return recont_mat"
      ],
      "metadata": {
        "id": "DxuOh_Fp53HR"
      },
      "execution_count": 31,
      "outputs": []
    },
    {
      "cell_type": "markdown",
      "source": [
        "# 학습 설정"
      ],
      "metadata": {
        "id": "SdSqKIp_52h0"
      }
    },
    {
      "cell_type": "code",
      "source": [
        "def train(model, train_loader):\n",
        "    model.train()\n",
        "    train_loss = 0\n",
        "\n",
        "    for mat in train_loader:\n",
        "        mat = mat.to(device)\n",
        "        mask = mat >= 0\n",
        "        one_mask = mat == -1\n",
        "        mat[one_mask] = 3.0\n",
        "\n",
        "        optimizer.zero_grad()\n",
        "        output = model(mat)\n",
        "\n",
        "        loss = criterion(output[mask], mat[mask])\n",
        "\n",
        "        loss.backward()\n",
        "        optimizer.step()\n",
        "\n",
        "        train_loss += loss.item()\n",
        "    \n",
        "    train_loss = train_loss / len(train_loader)\n",
        "\n",
        "    return train_loss\n",
        "\n",
        "\n",
        "def evaluate(model, test_loader):\n",
        "    model.eval()\n",
        "    test_loss = 0\n",
        "\n",
        "    with torch.no_grad():\n",
        "        for mat in test_loader:\n",
        "            mat = mat.to(device)\n",
        "            mask = mat >= 0\n",
        "            one_mask = mat == -1\n",
        "            mat[one_mask] = 3.0\n",
        "\n",
        "            output = model(mat)\n",
        "\n",
        "            loss = criterion(output[mask], mat[mask])\n",
        "\n",
        "            test_loss += loss.item()\n",
        "\n",
        "    test_loss = test_loss / len(test_loader)\n",
        "\n",
        "    return test_loss"
      ],
      "metadata": {
        "id": "qS0cV36d57Mc"
      },
      "execution_count": 76,
      "outputs": []
    },
    {
      "cell_type": "markdown",
      "source": [
        "# 학습"
      ],
      "metadata": {
        "id": "iejEFFED56s7"
      }
    },
    {
      "cell_type": "code",
      "source": [
        "num_factor = 64\n",
        "batch_size = 512\n",
        "epochs = 100\n",
        "device = torch.device('cuda') if torch.cuda.is_available() else torch.device('cpu')\n",
        "lr = 0.005"
      ],
      "metadata": {
        "id": "M7071jRhJZh_"
      },
      "execution_count": 136,
      "outputs": []
    },
    {
      "cell_type": "code",
      "source": [
        "model = AutoRec(num = num_user, num_factor = num_factor).to(device)\n",
        "criterion = nn.MSELoss()\n",
        "optimizer = torch.optim.Adam(model.parameters(), lr = lr)\n",
        "\n",
        "train_dataset = CustomDataset(df = ratings_df, user_encoder = user_encoder, item_encoder = item_encoder)\n",
        "val_dataset = CustomDataset(df = val_df, user_encoder = user_encoder, item_encoder = item_encoder)\n",
        "\n",
        "train_loader = DataLoader(train_dataset, batch_size = batch_size, shuffle = True, drop_last = False)\n",
        "val_loader = DataLoader(val_dataset, batch_size = batch_size, shuffle = False, drop_last = False)"
      ],
      "metadata": {
        "id": "LDyroQIN5Xl5"
      },
      "execution_count": 137,
      "outputs": []
    },
    {
      "cell_type": "code",
      "source": [
        "best_metric = 1\n",
        "\n",
        "for epoch in range(1, epochs + 1):\n",
        "    train_loss = train(model, train_loader)\n",
        "    val_loss = evaluate(model, val_loader)\n",
        "\n",
        "    print(f\"[EPOCH: {epoch}], Train Loss: {train_loss:.4f}, Val Loss: {val_loss:.4f}\")\n",
        "\n",
        "    if val_loss < best_metric:\n",
        "        best_metric = val_loss\n",
        "        torch.save(model.state_dict(), model_dir + f'AutoRec.pt')"
      ],
      "metadata": {
        "colab": {
          "base_uri": "https://localhost:8080/"
        },
        "id": "3Hv2NfRrKa8t",
        "outputId": "1f800984-9b86-4430-bada-ebeaee3f1283"
      },
      "execution_count": 138,
      "outputs": [
        {
          "output_type": "stream",
          "name": "stdout",
          "text": [
            "[EPOCH: 1], Train Loss: 5.2871, Val Loss: 1.9630\n",
            "[EPOCH: 2], Train Loss: 1.2911, Val Loss: 0.9983\n",
            "[EPOCH: 3], Train Loss: 0.9737, Val Loss: 1.0126\n",
            "[EPOCH: 4], Train Loss: 0.9363, Val Loss: 0.9861\n",
            "[EPOCH: 5], Train Loss: 0.9313, Val Loss: 0.9888\n",
            "[EPOCH: 6], Train Loss: 0.9325, Val Loss: 0.9775\n",
            "[EPOCH: 7], Train Loss: 0.9326, Val Loss: 0.9775\n",
            "[EPOCH: 8], Train Loss: 0.9356, Val Loss: 0.9863\n",
            "[EPOCH: 9], Train Loss: 0.9371, Val Loss: 0.9841\n",
            "[EPOCH: 10], Train Loss: 0.9353, Val Loss: 0.9954\n",
            "[EPOCH: 11], Train Loss: 0.9364, Val Loss: 0.9890\n",
            "[EPOCH: 12], Train Loss: 0.9385, Val Loss: 0.9669\n",
            "[EPOCH: 13], Train Loss: 0.9410, Val Loss: 0.9955\n",
            "[EPOCH: 14], Train Loss: 0.9373, Val Loss: 0.9899\n",
            "[EPOCH: 15], Train Loss: 0.9410, Val Loss: 0.9816\n",
            "[EPOCH: 16], Train Loss: 0.9375, Val Loss: 0.9966\n",
            "[EPOCH: 17], Train Loss: 0.9410, Val Loss: 0.9957\n",
            "[EPOCH: 18], Train Loss: 0.9417, Val Loss: 1.0095\n",
            "[EPOCH: 19], Train Loss: 0.9406, Val Loss: 0.9947\n",
            "[EPOCH: 20], Train Loss: 0.9402, Val Loss: 1.0004\n",
            "[EPOCH: 21], Train Loss: 0.9404, Val Loss: 0.9887\n",
            "[EPOCH: 22], Train Loss: 0.9416, Val Loss: 0.9894\n",
            "[EPOCH: 23], Train Loss: 0.9412, Val Loss: 0.9763\n",
            "[EPOCH: 24], Train Loss: 0.9424, Val Loss: 0.9933\n",
            "[EPOCH: 25], Train Loss: 0.9448, Val Loss: 0.9746\n",
            "[EPOCH: 26], Train Loss: 0.9404, Val Loss: 0.9987\n",
            "[EPOCH: 27], Train Loss: 0.9427, Val Loss: 1.0123\n",
            "[EPOCH: 28], Train Loss: 0.9444, Val Loss: 0.9905\n",
            "[EPOCH: 29], Train Loss: 0.9419, Val Loss: 0.9911\n",
            "[EPOCH: 30], Train Loss: 0.9427, Val Loss: 1.0081\n",
            "[EPOCH: 31], Train Loss: 0.9413, Val Loss: 1.0041\n",
            "[EPOCH: 32], Train Loss: 0.9427, Val Loss: 0.9775\n",
            "[EPOCH: 33], Train Loss: 0.9457, Val Loss: 0.9871\n",
            "[EPOCH: 34], Train Loss: 0.9450, Val Loss: 1.0033\n",
            "[EPOCH: 35], Train Loss: 0.9432, Val Loss: 0.9963\n",
            "[EPOCH: 36], Train Loss: 0.9453, Val Loss: 0.9916\n",
            "[EPOCH: 37], Train Loss: 0.9437, Val Loss: 0.9870\n",
            "[EPOCH: 38], Train Loss: 0.9429, Val Loss: 1.0169\n",
            "[EPOCH: 39], Train Loss: 0.9443, Val Loss: 1.0162\n",
            "[EPOCH: 40], Train Loss: 0.9433, Val Loss: 1.0083\n",
            "[EPOCH: 41], Train Loss: 0.9472, Val Loss: 1.0114\n",
            "[EPOCH: 42], Train Loss: 0.9459, Val Loss: 0.9989\n",
            "[EPOCH: 43], Train Loss: 0.9439, Val Loss: 0.9888\n",
            "[EPOCH: 44], Train Loss: 0.9436, Val Loss: 1.0003\n",
            "[EPOCH: 45], Train Loss: 0.9447, Val Loss: 0.9946\n",
            "[EPOCH: 46], Train Loss: 0.9435, Val Loss: 0.9960\n",
            "[EPOCH: 47], Train Loss: 0.9456, Val Loss: 1.0112\n",
            "[EPOCH: 48], Train Loss: 0.9442, Val Loss: 0.9972\n",
            "[EPOCH: 49], Train Loss: 0.9413, Val Loss: 1.0197\n",
            "[EPOCH: 50], Train Loss: 0.9448, Val Loss: 0.9892\n",
            "[EPOCH: 51], Train Loss: 0.9443, Val Loss: 0.9747\n",
            "[EPOCH: 52], Train Loss: 0.9455, Val Loss: 0.9938\n",
            "[EPOCH: 53], Train Loss: 0.9429, Val Loss: 0.9978\n",
            "[EPOCH: 54], Train Loss: 0.9415, Val Loss: 1.0101\n",
            "[EPOCH: 55], Train Loss: 0.9425, Val Loss: 0.9906\n",
            "[EPOCH: 56], Train Loss: 0.9447, Val Loss: 0.9990\n",
            "[EPOCH: 57], Train Loss: 0.9453, Val Loss: 1.0129\n",
            "[EPOCH: 58], Train Loss: 0.9449, Val Loss: 1.0024\n",
            "[EPOCH: 59], Train Loss: 0.9441, Val Loss: 1.0273\n",
            "[EPOCH: 60], Train Loss: 0.9422, Val Loss: 1.0003\n",
            "[EPOCH: 61], Train Loss: 0.9412, Val Loss: 0.9983\n",
            "[EPOCH: 62], Train Loss: 0.9429, Val Loss: 0.9930\n",
            "[EPOCH: 63], Train Loss: 0.9409, Val Loss: 1.0058\n",
            "[EPOCH: 64], Train Loss: 0.9405, Val Loss: 1.0200\n",
            "[EPOCH: 65], Train Loss: 0.9482, Val Loss: 0.9943\n",
            "[EPOCH: 66], Train Loss: 0.9421, Val Loss: 0.9878\n",
            "[EPOCH: 67], Train Loss: 0.9412, Val Loss: 0.9829\n",
            "[EPOCH: 68], Train Loss: 0.9408, Val Loss: 1.0013\n",
            "[EPOCH: 69], Train Loss: 0.9381, Val Loss: 0.9738\n",
            "[EPOCH: 70], Train Loss: 0.9382, Val Loss: 1.0031\n",
            "[EPOCH: 71], Train Loss: 0.9408, Val Loss: 0.9662\n",
            "[EPOCH: 72], Train Loss: 0.9402, Val Loss: 1.0013\n",
            "[EPOCH: 73], Train Loss: 0.9395, Val Loss: 0.9981\n",
            "[EPOCH: 74], Train Loss: 0.9422, Val Loss: 1.0003\n",
            "[EPOCH: 75], Train Loss: 0.9405, Val Loss: 1.0066\n",
            "[EPOCH: 76], Train Loss: 0.9380, Val Loss: 0.9799\n",
            "[EPOCH: 77], Train Loss: 0.9390, Val Loss: 0.9887\n",
            "[EPOCH: 78], Train Loss: 0.9418, Val Loss: 0.9788\n",
            "[EPOCH: 79], Train Loss: 0.9384, Val Loss: 1.0263\n",
            "[EPOCH: 80], Train Loss: 0.9411, Val Loss: 0.9758\n",
            "[EPOCH: 81], Train Loss: 0.9375, Val Loss: 1.0200\n",
            "[EPOCH: 82], Train Loss: 0.9448, Val Loss: 1.0023\n",
            "[EPOCH: 83], Train Loss: 0.9431, Val Loss: 0.9771\n",
            "[EPOCH: 84], Train Loss: 0.9400, Val Loss: 0.9968\n",
            "[EPOCH: 85], Train Loss: 0.9378, Val Loss: 1.0094\n",
            "[EPOCH: 86], Train Loss: 0.9357, Val Loss: 0.9770\n",
            "[EPOCH: 87], Train Loss: 0.9384, Val Loss: 0.9778\n",
            "[EPOCH: 88], Train Loss: 0.9413, Val Loss: 0.9864\n",
            "[EPOCH: 89], Train Loss: 0.9387, Val Loss: 0.9776\n",
            "[EPOCH: 90], Train Loss: 0.9390, Val Loss: 1.0000\n",
            "[EPOCH: 91], Train Loss: 0.9385, Val Loss: 0.9923\n",
            "[EPOCH: 92], Train Loss: 0.9400, Val Loss: 0.9895\n",
            "[EPOCH: 93], Train Loss: 0.9367, Val Loss: 0.9992\n",
            "[EPOCH: 94], Train Loss: 0.9385, Val Loss: 0.9762\n",
            "[EPOCH: 95], Train Loss: 0.9375, Val Loss: 0.9985\n",
            "[EPOCH: 96], Train Loss: 0.9357, Val Loss: 0.9876\n",
            "[EPOCH: 97], Train Loss: 0.9362, Val Loss: 0.9796\n",
            "[EPOCH: 98], Train Loss: 0.9377, Val Loss: 0.9816\n",
            "[EPOCH: 99], Train Loss: 0.9373, Val Loss: 0.9931\n",
            "[EPOCH: 100], Train Loss: 0.9395, Val Loss: 1.0003\n"
          ]
        }
      ]
    },
    {
      "cell_type": "markdown",
      "source": [
        "현재 만들어진 모델은 user-based 이며 행렬을 전치하여 모델을 학습시키면 item-based 모델을 만들 수 있다. "
      ],
      "metadata": {
        "id": "hYZbmcPfDQV1"
      }
    },
    {
      "cell_type": "code",
      "source": [
        "for mat in val_loader:\n",
        "    mat = mat.to(device)\n",
        "    mat[mat == -1] = 0\n",
        "    output = model(mat)\n",
        "    print(output)\n",
        "    break"
      ],
      "metadata": {
        "id": "gR_eqI2ysPKb"
      },
      "execution_count": null,
      "outputs": []
    },
    {
      "cell_type": "code",
      "source": [
        "true_max_idx = np.argmax(mat[0].detach().cpu().numpy().reshape(-1), axis = 0)"
      ],
      "metadata": {
        "id": "ra3rwbtc3D3U"
      },
      "execution_count": 140,
      "outputs": []
    },
    {
      "cell_type": "code",
      "source": [
        "pred_max_idx = np.argmax(output[0].detach().cpu().numpy().reshape(-1), axis = 0)"
      ],
      "metadata": {
        "id": "NOPk4cef2kGi"
      },
      "execution_count": 141,
      "outputs": []
    },
    {
      "cell_type": "code",
      "source": [
        "mat[0].detach().cpu().numpy().reshape(-1)[true_max_idx]"
      ],
      "metadata": {
        "colab": {
          "base_uri": "https://localhost:8080/"
        },
        "id": "QvVArhBY3bGC",
        "outputId": "97e5167f-4629-46d2-b983-c746db0c125c"
      },
      "execution_count": 142,
      "outputs": [
        {
          "output_type": "execute_result",
          "data": {
            "text/plain": [
              "4.0"
            ]
          },
          "metadata": {},
          "execution_count": 142
        }
      ]
    },
    {
      "cell_type": "code",
      "source": [
        "mat[0].detach().cpu().numpy().reshape(-1)[pred_max_idx]"
      ],
      "metadata": {
        "colab": {
          "base_uri": "https://localhost:8080/"
        },
        "id": "YQYo06yt3eHr",
        "outputId": "58d65a39-5aac-4776-879a-2116b53703b1"
      },
      "execution_count": 143,
      "outputs": [
        {
          "output_type": "execute_result",
          "data": {
            "text/plain": [
              "0.0"
            ]
          },
          "metadata": {},
          "execution_count": 143
        }
      ]
    },
    {
      "cell_type": "code",
      "source": [
        "output[0].detach().cpu().numpy().reshape(-1)[true_max_idx]"
      ],
      "metadata": {
        "colab": {
          "base_uri": "https://localhost:8080/"
        },
        "id": "dqXvxp6A3g4X",
        "outputId": "2ef983c6-8b74-485f-f1e9-3d4a181d3e15"
      },
      "execution_count": 144,
      "outputs": [
        {
          "output_type": "execute_result",
          "data": {
            "text/plain": [
              "4.3162775"
            ]
          },
          "metadata": {},
          "execution_count": 144
        }
      ]
    },
    {
      "cell_type": "code",
      "source": [
        "output[0].detach().cpu().numpy().reshape(-1)[pred_max_idx]"
      ],
      "metadata": {
        "colab": {
          "base_uri": "https://localhost:8080/"
        },
        "id": "Q00BfXrS3kJJ",
        "outputId": "d77243d2-1457-4379-c641-aeb2fd497212"
      },
      "execution_count": 145,
      "outputs": [
        {
          "output_type": "execute_result",
          "data": {
            "text/plain": [
              "5.1821327"
            ]
          },
          "metadata": {},
          "execution_count": 145
        }
      ]
    },
    {
      "cell_type": "code",
      "source": [
        ""
      ],
      "metadata": {
        "id": "aYJV_tue59jv"
      },
      "execution_count": null,
      "outputs": []
    }
  ]
}