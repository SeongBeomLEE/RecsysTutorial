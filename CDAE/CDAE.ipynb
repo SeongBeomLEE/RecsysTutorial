{
  "nbformat": 4,
  "nbformat_minor": 0,
  "metadata": {
    "colab": {
      "name": "CDAE.ipynb",
      "provenance": [],
      "collapsed_sections": [],
      "mount_file_id": "13Xsup9xhUtDAcsBlzmT4GEkRUr1ZscDK",
      "authorship_tag": "ABX9TyPGnkx0QB11mHCm7DlICatq",
      "include_colab_link": true
    },
    "kernelspec": {
      "name": "python3",
      "display_name": "Python 3"
    },
    "language_info": {
      "name": "python"
    },
    "accelerator": "GPU"
  },
  "cells": [
    {
      "cell_type": "markdown",
      "metadata": {
        "id": "view-in-github",
        "colab_type": "text"
      },
      "source": [
        "<a href=\"https://colab.research.google.com/github/SeongBeomLEE/RecsysTutorial/blob/main/CDAE/CDAE.ipynb\" target=\"_parent\"><img src=\"https://colab.research.google.com/assets/colab-badge.svg\" alt=\"Open In Colab\"/></a>"
      ]
    },
    {
      "cell_type": "code",
      "source": [
        "!pip install python-box"
      ],
      "metadata": {
        "colab": {
          "base_uri": "https://localhost:8080/"
        },
        "id": "xzJgxsrewLBy",
        "outputId": "598bac10-2f10-4f03-e7fc-33b9b0dc94f5"
      },
      "execution_count": 1,
      "outputs": [
        {
          "output_type": "stream",
          "name": "stdout",
          "text": [
            "Collecting python-box\n",
            "  Downloading python_box-6.0.2-cp37-cp37m-manylinux_2_17_x86_64.manylinux2014_x86_64.whl (3.0 MB)\n",
            "\u001b[K     |████████████████████████████████| 3.0 MB 13.9 MB/s \n",
            "\u001b[?25hInstalling collected packages: python-box\n",
            "Successfully installed python-box-6.0.2\n"
          ]
        }
      ]
    },
    {
      "cell_type": "code",
      "execution_count": 2,
      "metadata": {
        "id": "Ug-br-pPu9vZ"
      },
      "outputs": [],
      "source": [
        "import math\n",
        "import numpy as np\n",
        "import pandas as pd\n",
        "from tqdm import tqdm\n",
        "from collections import defaultdict\n",
        "import os\n",
        "\n",
        "import torch\n",
        "import torch.nn as nn\n",
        "import torch.nn.functional as F\n",
        "from torch.utils.data import Dataset, DataLoader\n",
        "\n",
        "from box import Box\n",
        "\n",
        "import warnings\n",
        "\n",
        "warnings.filterwarnings(action='ignore')\n",
        "torch.set_printoptions(sci_mode=True)"
      ]
    },
    {
      "cell_type": "markdown",
      "metadata": {
        "id": "pbRKDSg4u9vc"
      },
      "source": [
        "# 1. 학습 설정"
      ]
    },
    {
      "cell_type": "code",
      "execution_count": 3,
      "metadata": {
        "id": "mlm1UrKvoC_O"
      },
      "outputs": [],
      "source": [
        "config = {\n",
        "    'data_path' : \"/content/drive/MyDrive/RecsysTutorial/Data/MovieLens\" , # 데이터 경로\n",
        "\n",
        "    'p_dims': [200, 600], \n",
        "    'dropout_rate' : 0.5,\n",
        "    'weight_decay' : 0.01,\n",
        "    'valid_samples' : 10, # 검증에 사용할 sample 수\n",
        "    'seed' : 22,\n",
        "\n",
        "    'lr' : 0.001,\n",
        "    'batch_size' : 500,\n",
        "    'num_epochs' : 200,\n",
        "    'num_workers' : 2,\n",
        "}\n",
        "\n",
        "device = 'cuda' if torch.cuda.is_available() else 'cpu'\n",
        "\n",
        "config = Box(config)"
      ]
    },
    {
      "cell_type": "markdown",
      "metadata": {
        "id": "wjDxy0fJu9vf"
      },
      "source": [
        "# 2. 데이터 전처리"
      ]
    },
    {
      "cell_type": "code",
      "execution_count": 4,
      "metadata": {
        "id": "W64BYWl0u9vg"
      },
      "outputs": [],
      "source": [
        "class MakeMatrixDataSet():\n",
        "    \"\"\"\n",
        "    MatrixDataSet 생성\n",
        "    \"\"\"\n",
        "    def __init__(self, config):\n",
        "        self.config = config\n",
        "        self.df = pd.read_csv(os.path.join(self.config.data_path, 'ratings.csv'))\n",
        "        \n",
        "        self.item_encoder, self.item_decoder = self.generate_encoder_decoder('movieId')\n",
        "        self.user_encoder, self.user_decoder = self.generate_encoder_decoder('userId')\n",
        "        self.num_item, self.num_user = len(self.item_encoder), len(self.user_encoder)\n",
        "\n",
        "        self.df['item_idx'] = self.df['movieId'].apply(lambda x : self.item_encoder[x])\n",
        "        self.df['user_idx'] = self.df['userId'].apply(lambda x : self.user_encoder[x])\n",
        "\n",
        "        self.user_train, self.user_valid = self.generate_sequence_data()\n",
        "\n",
        "    def generate_encoder_decoder(self, col : str) -> dict:\n",
        "        \"\"\"\n",
        "        encoder, decoder 생성\n",
        "\n",
        "        Args:\n",
        "            col (str): 생성할 columns 명\n",
        "        Returns:\n",
        "            dict: 생성된 user encoder, decoder\n",
        "        \"\"\"\n",
        "\n",
        "        encoder = {}\n",
        "        decoder = {}\n",
        "        ids = self.df[col].unique()\n",
        "\n",
        "        for idx, _id in enumerate(ids):\n",
        "            encoder[_id] = idx\n",
        "            decoder[idx] = _id\n",
        "\n",
        "        return encoder, decoder\n",
        "    \n",
        "    def generate_sequence_data(self) -> dict:\n",
        "        \"\"\"\n",
        "        sequence_data 생성\n",
        "\n",
        "        Returns:\n",
        "            dict: train user sequence / valid user sequence\n",
        "        \"\"\"\n",
        "        users = defaultdict(list)\n",
        "        user_train = {}\n",
        "        user_valid = {}\n",
        "        for user, item, time in zip(self.df['user_idx'], self.df['item_idx'], self.df['timestamp']):\n",
        "            users[user].append(item)\n",
        "        \n",
        "        for user in users:\n",
        "            np.random.seed(self.config.seed)\n",
        "\n",
        "            user_total = users[user]\n",
        "            valid = np.random.choice(user_total, size = self.config.valid_samples, replace = False).tolist()\n",
        "            train = list(set(user_total) - set(valid))\n",
        "\n",
        "            user_train[user] = train\n",
        "            user_valid[user] = valid # valid_samples 개수 만큼 검증에 활용 (현재 Task와 가장 유사하게)\n",
        "\n",
        "        return user_train, user_valid\n",
        "    \n",
        "    def get_train_valid_data(self):\n",
        "        return self.user_train, self.user_valid\n",
        "\n",
        "    def make_matrix(self, user_list, train = True):\n",
        "        \"\"\"\n",
        "        user_item_dict를 바탕으로 행렬 생성\n",
        "        \"\"\"\n",
        "        mat = torch.zeros(size = (user_list.size(0), self.num_item))\n",
        "        for idx, user in enumerate(user_list):\n",
        "            if train:\n",
        "                mat[idx, self.user_train[user.item()]] = 1\n",
        "            else:\n",
        "                mat[idx, self.user_train[user.item()] + self.user_valid[user.item()]] = 1\n",
        "        return mat"
      ]
    },
    {
      "cell_type": "code",
      "execution_count": 5,
      "metadata": {
        "id": "IldCGmY8u9vh"
      },
      "outputs": [],
      "source": [
        "class AEDataSet(Dataset):\n",
        "    def __init__(self, num_user):\n",
        "        self.num_user = num_user\n",
        "        self.users = [i for i in range(num_user)]\n",
        "\n",
        "    def __len__(self):\n",
        "        return self.num_user\n",
        "\n",
        "    def __getitem__(self, idx): \n",
        "        user = self.users[idx]\n",
        "        return torch.LongTensor([user])"
      ]
    },
    {
      "cell_type": "markdown",
      "metadata": {
        "id": "Jtf1I824nx5V"
      },
      "source": [
        "# 3. 모델"
      ]
    },
    {
      "cell_type": "code",
      "source": [
        "class CDAE(nn.Module):\n",
        "\n",
        "    def __init__(self, p_dims, user_num, item_num, dropout_rate = 0.5):\n",
        "        super(CDAE, self).__init__()\n",
        "        self.p_dims = p_dims\n",
        "        self.q_dims = p_dims[::-1]\n",
        "\n",
        "        self.dims = self.q_dims + self.p_dims[1:]\n",
        "        self.layers = nn.ModuleList([nn.Linear(d_in, d_out) for\n",
        "            d_in, d_out in zip(self.dims[:-1], self.dims[1:])])\n",
        "        self.drop = nn.Dropout(dropout_rate)\n",
        "        self.user_embedding = nn.Embedding(user_num, item_num)\n",
        "        \n",
        "        self.init_weights()\n",
        "    \n",
        "    def forward(self, input, user):\n",
        "        h = F.normalize(input)\n",
        "        h = self.drop(h)\n",
        "        h += self.user_embedding(user)\n",
        "\n",
        "        for i, layer in enumerate(self.layers):\n",
        "            h = layer(h)\n",
        "            if i != len(self.layers) - 1:\n",
        "                h = F.tanh(h)\n",
        "        return h\n",
        "\n",
        "    def init_weights(self):\n",
        "        for layer in self.layers:\n",
        "            # Xavier Initialization for weights\n",
        "            size = layer.weight.size()\n",
        "            fan_out = size[0]\n",
        "            fan_in = size[1]\n",
        "            std = np.sqrt(2.0/(fan_in + fan_out))\n",
        "            layer.weight.data.normal_(0.0, std)\n",
        "\n",
        "            # Normal Initialization for Biases\n",
        "            layer.bias.data.normal_(0.0, 0.001)"
      ],
      "metadata": {
        "id": "Q4MKBcN1DM3K"
      },
      "execution_count": 6,
      "outputs": []
    },
    {
      "cell_type": "code",
      "source": [
        "class LossFunc(nn.Module):\n",
        "\n",
        "    def __init__(self, loss_type = 'Multinomial', model_type = None):\n",
        "        super(LossFunc, self).__init__()\n",
        "        self.loss_type = loss_type\n",
        "        self.model_type = model_type\n",
        "\n",
        "    def forward(self, recon_x = None, x = None, mu = None, logvar = None, anneal = None):\n",
        "        if self.loss_type == 'Gaussian':\n",
        "            loss = self.Gaussian(recon_x, x)\n",
        "        elif self.loss_type == 'Logistic':\n",
        "            loss = self.Logistic(recon_x, x)\n",
        "        elif self.loss_type == 'Multinomial':\n",
        "            loss = self.Multinomial(recon_x, x)\n",
        "        \n",
        "        if self.model_type == 'VAE':\n",
        "            KLD = -0.5 * torch.mean(torch.sum(1 + logvar - mu.pow(2) - logvar.exp(), dim=1))\n",
        "            loss = loss + anneal * KLD\n",
        "        \n",
        "        return loss\n",
        "\n",
        "    def Gaussian(self, recon_x, x):\n",
        "        gaussian = F.mse_loss(recon_x, x)\n",
        "        return gaussian\n",
        "\n",
        "    def Logistic(self, recon_x, x):\n",
        "        logistic = F.binary_cross_entropy(recon_x.sigmoid(), x, reduction='none').sum(1).mean()\n",
        "        return logistic\n",
        "\n",
        "    def Multinomial(self, recon_x, x):\n",
        "        multinomial = -torch.mean(torch.sum(F.log_softmax(recon_x, 1) * x, -1))\n",
        "        return multinomial"
      ],
      "metadata": {
        "id": "VtqiAf62DV2d"
      },
      "execution_count": 7,
      "outputs": []
    },
    {
      "cell_type": "markdown",
      "metadata": {
        "id": "dk-bL5p4nx5W"
      },
      "source": [
        "# 4. 학습 함수"
      ]
    },
    {
      "cell_type": "code",
      "source": [
        "def train(model, criterion, optimizer, data_loader, make_matrix_data_set):\n",
        "    model.train()\n",
        "    loss_val = 0\n",
        "    for users in data_loader:\n",
        "        mat = make_matrix_data_set.make_matrix(users)\n",
        "        mat = mat.to(device)\n",
        "        recon_mat = model(mat, users.view(-1).to(device))\n",
        "\n",
        "        optimizer.zero_grad()\n",
        "        loss = criterion(recon_x = recon_mat, x = mat)\n",
        "\n",
        "        loss_val += loss.item()\n",
        "\n",
        "        loss.backward()\n",
        "        optimizer.step()\n",
        "    \n",
        "    loss_val /= len(data_loader)\n",
        "\n",
        "    return loss_val\n",
        "\n",
        "def get_ndcg(pred_list, true_list):\n",
        "    idcg = sum((1 / np.log2(rank + 2) for rank in range(1, len(pred_list))))\n",
        "    dcg = 0\n",
        "    for rank, pred in enumerate(pred_list):\n",
        "        if pred in true_list:\n",
        "            dcg += 1 / np.log2(rank + 2)\n",
        "    ndcg = dcg / idcg\n",
        "    return ndcg\n",
        "\n",
        "# hit == recall == precision\n",
        "def get_hit(pred_list, true_list):\n",
        "    hit_list = set(true_list) & set(pred_list)\n",
        "    hit = len(hit_list) / len(true_list)\n",
        "    return hit\n",
        "\n",
        "def evaluate(model, data_loader, user_train, user_valid, make_matrix_data_set):\n",
        "    model.eval()\n",
        "\n",
        "    NDCG = 0.0 # NDCG@10\n",
        "    HIT = 0.0 # HIT@10\n",
        "\n",
        "    with torch.no_grad():\n",
        "        for users in data_loader:\n",
        "            mat = make_matrix_data_set.make_matrix(users)\n",
        "            mat = mat.to(device)\n",
        "\n",
        "            recon_mat = model(mat, users.view(-1).to(device))\n",
        "            recon_mat[mat == 1] = -np.inf\n",
        "            rec_list = recon_mat.argsort(dim = 1)\n",
        "\n",
        "            for user, rec in zip(users, rec_list):\n",
        "                uv = user_valid[user.item()]\n",
        "                up = rec[-10:].cpu().numpy().tolist()[::-1]\n",
        "                NDCG += get_ndcg(pred_list = up, true_list = uv)\n",
        "                HIT += get_hit(pred_list = up, true_list = uv)\n",
        "\n",
        "    NDCG /= len(data_loader.dataset)\n",
        "    HIT /= len(data_loader.dataset)\n",
        "\n",
        "    return NDCG, HIT"
      ],
      "metadata": {
        "id": "hmJ40xRDDjcX"
      },
      "execution_count": 8,
      "outputs": []
    },
    {
      "cell_type": "markdown",
      "metadata": {
        "id": "ozBvgarCnx5W"
      },
      "source": [
        "# 5. 학습"
      ]
    },
    {
      "cell_type": "code",
      "execution_count": 9,
      "metadata": {
        "id": "Cnq1T8S6nx5X"
      },
      "outputs": [],
      "source": [
        "make_matrix_data_set = MakeMatrixDataSet(config = config)\n",
        "user_train, user_valid = make_matrix_data_set.get_train_valid_data()"
      ]
    },
    {
      "cell_type": "code",
      "execution_count": 10,
      "metadata": {
        "id": "RKHjKcKinx5X"
      },
      "outputs": [],
      "source": [
        "ae_dataset = AEDataSet(\n",
        "    num_user = make_matrix_data_set.num_user,\n",
        "    )"
      ]
    },
    {
      "cell_type": "code",
      "execution_count": 11,
      "metadata": {
        "id": "r0k5yCsSnx5X"
      },
      "outputs": [],
      "source": [
        "data_loader = DataLoader(\n",
        "    ae_dataset,\n",
        "    batch_size = config.batch_size, \n",
        "    shuffle = True, \n",
        "    pin_memory = True,\n",
        "    num_workers = config.num_workers,\n",
        "    )"
      ]
    },
    {
      "cell_type": "code",
      "execution_count": 13,
      "metadata": {
        "id": "o2sFDKhFnx5X"
      },
      "outputs": [],
      "source": [
        "model = CDAE(\n",
        "    p_dims = config.p_dims + [make_matrix_data_set.num_item],\n",
        "    user_num = make_matrix_data_set.num_user, \n",
        "    item_num = make_matrix_data_set.num_item,\n",
        "    dropout_rate = config.dropout_rate).to(device)\n",
        "\n",
        "criterion = LossFunc(loss_type = 'Logistic')\n",
        "optimizer = torch.optim.Adam(model.parameters(), lr=config.lr)"
      ]
    },
    {
      "cell_type": "code",
      "execution_count": 15,
      "metadata": {
        "id": "8RaWc3b1nx5X",
        "outputId": "dd13a4aa-c9d0-4fe0-8f30-c06870a5334c",
        "colab": {
          "base_uri": "https://localhost:8080/"
        }
      },
      "outputs": [
        {
          "output_type": "stream",
          "name": "stdout",
          "text": [
            "Epoch:   1| Train loss: 6299.56372| NDCG@10: 0.00142| HIT@10: 0.00119\n",
            "Epoch:   2| Train loss: 5858.32788| NDCG@10: 0.00672| HIT@10: 0.00447\n",
            "Epoch:   3| Train loss: 4141.33923| NDCG@10: 0.04243| HIT@10: 0.02459\n",
            "Epoch:   4| Train loss: 2177.48639| NDCG@10: 0.08929| HIT@10: 0.05782\n",
            "Epoch:   5| Train loss: 1037.86902| NDCG@10: 0.09614| HIT@10: 0.06408\n",
            "Epoch:   6| Train loss: 680.61462| NDCG@10: 0.08980| HIT@10: 0.06408\n",
            "Epoch:   7| Train loss: 673.86795| NDCG@10: 0.07894| HIT@10: 0.05678\n",
            "Epoch:   8| Train loss: 602.94702| NDCG@10: 0.08115| HIT@10: 0.06080\n",
            "Epoch:   9| Train loss: 625.77512| NDCG@10: 0.08847| HIT@10: 0.05797\n",
            "Epoch:  10| Train loss: 638.10101| NDCG@10: 0.08404| HIT@10: 0.05186\n",
            "Epoch:  11| Train loss: 632.25745| NDCG@10: 0.08436| HIT@10: 0.05827\n",
            "Epoch:  12| Train loss: 638.31732| NDCG@10: 0.08856| HIT@10: 0.06170\n",
            "Epoch:  13| Train loss: 756.10059| NDCG@10: 0.09339| HIT@10: 0.06185\n",
            "Epoch:  14| Train loss: 590.67993| NDCG@10: 0.09570| HIT@10: 0.06259\n",
            "Epoch:  15| Train loss: 629.18268| NDCG@10: 0.09372| HIT@10: 0.06021\n",
            "Epoch:  16| Train loss: 633.61487| NDCG@10: 0.09406| HIT@10: 0.06155\n",
            "Epoch:  17| Train loss: 610.05081| NDCG@10: 0.09110| HIT@10: 0.06230\n",
            "Epoch:  18| Train loss: 593.83936| NDCG@10: 0.08863| HIT@10: 0.06244\n",
            "Epoch:  19| Train loss: 570.54993| NDCG@10: 0.09236| HIT@10: 0.06066\n",
            "Epoch:  20| Train loss: 620.93903| NDCG@10: 0.09716| HIT@10: 0.06304\n",
            "Epoch:  21| Train loss: 554.59943| NDCG@10: 0.09357| HIT@10: 0.06140\n",
            "Epoch:  22| Train loss: 574.88416| NDCG@10: 0.09100| HIT@10: 0.06021\n",
            "Epoch:  23| Train loss: 545.70882| NDCG@10: 0.08768| HIT@10: 0.06095\n",
            "Epoch:  24| Train loss: 557.45068| NDCG@10: 0.09488| HIT@10: 0.06259\n",
            "Epoch:  25| Train loss: 560.69647| NDCG@10: 0.09932| HIT@10: 0.06557\n",
            "Epoch:  26| Train loss: 542.76804| NDCG@10: 0.09650| HIT@10: 0.06289\n",
            "Epoch:  27| Train loss: 572.93527| NDCG@10: 0.09212| HIT@10: 0.06230\n",
            "Epoch:  28| Train loss: 547.06192| NDCG@10: 0.09077| HIT@10: 0.06185\n",
            "Epoch:  29| Train loss: 558.19849| NDCG@10: 0.09403| HIT@10: 0.06230\n",
            "Epoch:  30| Train loss: 556.21622| NDCG@10: 0.09404| HIT@10: 0.06185\n",
            "Epoch:  31| Train loss: 507.42256| NDCG@10: 0.09608| HIT@10: 0.06379\n",
            "Epoch:  32| Train loss: 528.92970| NDCG@10: 0.09423| HIT@10: 0.06319\n",
            "Epoch:  33| Train loss: 552.00778| NDCG@10: 0.09528| HIT@10: 0.06259\n",
            "Epoch:  34| Train loss: 536.09412| NDCG@10: 0.09630| HIT@10: 0.06304\n",
            "Epoch:  35| Train loss: 560.39230| NDCG@10: 0.09331| HIT@10: 0.06230\n",
            "Epoch:  36| Train loss: 568.60825| NDCG@10: 0.08882| HIT@10: 0.06036\n",
            "Epoch:  37| Train loss: 552.15482| NDCG@10: 0.08964| HIT@10: 0.06170\n",
            "Epoch:  38| Train loss: 526.17487| NDCG@10: 0.09517| HIT@10: 0.06274\n",
            "Epoch:  39| Train loss: 515.17023| NDCG@10: 0.09647| HIT@10: 0.06349\n",
            "Epoch:  40| Train loss: 544.35028| NDCG@10: 0.09639| HIT@10: 0.06453\n",
            "Epoch:  41| Train loss: 536.68100| NDCG@10: 0.09467| HIT@10: 0.06319\n",
            "Epoch:  42| Train loss: 569.04185| NDCG@10: 0.09535| HIT@10: 0.06259\n",
            "Epoch:  43| Train loss: 557.92767| NDCG@10: 0.09304| HIT@10: 0.06006\n",
            "Epoch:  44| Train loss: 498.56287| NDCG@10: 0.09402| HIT@10: 0.06080\n",
            "Epoch:  45| Train loss: 524.33942| NDCG@10: 0.09427| HIT@10: 0.06274\n",
            "Epoch:  46| Train loss: 553.03865| NDCG@10: 0.09443| HIT@10: 0.06319\n",
            "Epoch:  47| Train loss: 546.23856| NDCG@10: 0.09327| HIT@10: 0.06319\n",
            "Epoch:  48| Train loss: 517.45596| NDCG@10: 0.09232| HIT@10: 0.06230\n",
            "Epoch:  49| Train loss: 521.58099| NDCG@10: 0.09275| HIT@10: 0.06095\n",
            "Epoch:  50| Train loss: 522.19275| NDCG@10: 0.09612| HIT@10: 0.06334\n",
            "Epoch:  51| Train loss: 521.91904| NDCG@10: 0.09731| HIT@10: 0.06334\n",
            "Epoch:  52| Train loss: 508.25700| NDCG@10: 0.09723| HIT@10: 0.06468\n",
            "Epoch:  53| Train loss: 500.84712| NDCG@10: 0.09287| HIT@10: 0.06393\n",
            "Epoch:  54| Train loss: 516.77953| NDCG@10: 0.09236| HIT@10: 0.06215\n",
            "Epoch:  55| Train loss: 497.29222| NDCG@10: 0.09406| HIT@10: 0.06110\n",
            "Epoch:  56| Train loss: 481.06583| NDCG@10: 0.09850| HIT@10: 0.06453\n",
            "Epoch:  57| Train loss: 490.17392| NDCG@10: 0.09832| HIT@10: 0.06483\n",
            "Epoch:  58| Train loss: 500.81290| NDCG@10: 0.09887| HIT@10: 0.06841\n",
            "Epoch:  59| Train loss: 479.17664| NDCG@10: 0.09692| HIT@10: 0.06706\n",
            "Epoch:  60| Train loss: 485.84747| NDCG@10: 0.09605| HIT@10: 0.06393\n",
            "Epoch:  61| Train loss: 470.66435| NDCG@10: 0.09627| HIT@10: 0.06334\n",
            "Epoch:  62| Train loss: 470.09679| NDCG@10: 0.09815| HIT@10: 0.06468\n",
            "Epoch:  63| Train loss: 476.66269| NDCG@10: 0.10052| HIT@10: 0.06721\n",
            "Epoch:  64| Train loss: 455.70132| NDCG@10: 0.09965| HIT@10: 0.06841\n",
            "Epoch:  65| Train loss: 464.32961| NDCG@10: 0.10022| HIT@10: 0.06945\n",
            "Epoch:  66| Train loss: 452.98401| NDCG@10: 0.09868| HIT@10: 0.06632\n",
            "Epoch:  67| Train loss: 440.46170| NDCG@10: 0.09856| HIT@10: 0.06528\n",
            "Epoch:  68| Train loss: 448.86555| NDCG@10: 0.09873| HIT@10: 0.06692\n",
            "Epoch:  69| Train loss: 453.47702| NDCG@10: 0.10097| HIT@10: 0.06870\n",
            "Epoch:  70| Train loss: 464.88029| NDCG@10: 0.10383| HIT@10: 0.07079\n",
            "Epoch:  71| Train loss: 457.95920| NDCG@10: 0.10283| HIT@10: 0.07079\n",
            "Epoch:  72| Train loss: 451.91881| NDCG@10: 0.10245| HIT@10: 0.07019\n",
            "Epoch:  73| Train loss: 435.91293| NDCG@10: 0.10157| HIT@10: 0.06811\n",
            "Epoch:  74| Train loss: 438.91974| NDCG@10: 0.09910| HIT@10: 0.06855\n",
            "Epoch:  75| Train loss: 454.03705| NDCG@10: 0.09978| HIT@10: 0.06781\n",
            "Epoch:  76| Train loss: 441.50581| NDCG@10: 0.10468| HIT@10: 0.07183\n",
            "Epoch:  77| Train loss: 441.62997| NDCG@10: 0.10527| HIT@10: 0.07213\n",
            "Epoch:  78| Train loss: 457.82611| NDCG@10: 0.10224| HIT@10: 0.07049\n",
            "Epoch:  79| Train loss: 411.43137| NDCG@10: 0.09866| HIT@10: 0.06796\n",
            "Epoch:  80| Train loss: 426.53355| NDCG@10: 0.09696| HIT@10: 0.07004\n",
            "Epoch:  81| Train loss: 451.29266| NDCG@10: 0.10478| HIT@10: 0.07168\n",
            "Epoch:  82| Train loss: 433.77954| NDCG@10: 0.10787| HIT@10: 0.07392\n",
            "Epoch:  83| Train loss: 446.19878| NDCG@10: 0.10766| HIT@10: 0.07332\n",
            "Epoch:  84| Train loss: 409.89981| NDCG@10: 0.10016| HIT@10: 0.06721\n",
            "Epoch:  85| Train loss: 430.57109| NDCG@10: 0.09937| HIT@10: 0.06796\n",
            "Epoch:  86| Train loss: 421.12582| NDCG@10: 0.10054| HIT@10: 0.06900\n",
            "Epoch:  87| Train loss: 442.28513| NDCG@10: 0.10470| HIT@10: 0.07109\n",
            "Epoch:  88| Train loss: 416.38765| NDCG@10: 0.10776| HIT@10: 0.07407\n",
            "Epoch:  89| Train loss: 445.51564| NDCG@10: 0.10940| HIT@10: 0.07541\n",
            "Epoch:  90| Train loss: 441.82562| NDCG@10: 0.10378| HIT@10: 0.07303\n",
            "Epoch:  91| Train loss: 427.26630| NDCG@10: 0.10176| HIT@10: 0.07168\n",
            "Epoch:  92| Train loss: 434.40608| NDCG@10: 0.10009| HIT@10: 0.06855\n",
            "Epoch:  93| Train loss: 411.96262| NDCG@10: 0.10476| HIT@10: 0.07183\n",
            "Epoch:  94| Train loss: 424.09370| NDCG@10: 0.10346| HIT@10: 0.07034\n",
            "Epoch:  95| Train loss: 437.13049| NDCG@10: 0.10343| HIT@10: 0.07154\n",
            "Epoch:  96| Train loss: 427.89859| NDCG@10: 0.10098| HIT@10: 0.07019\n",
            "Epoch:  97| Train loss: 419.71556| NDCG@10: 0.10055| HIT@10: 0.07198\n",
            "Epoch:  98| Train loss: 404.29303| NDCG@10: 0.10411| HIT@10: 0.07154\n",
            "Epoch:  99| Train loss: 419.99510| NDCG@10: 0.10550| HIT@10: 0.07303\n",
            "Epoch: 100| Train loss: 434.48032| NDCG@10: 0.10635| HIT@10: 0.07273\n",
            "Epoch: 101| Train loss: 419.98936| NDCG@10: 0.10456| HIT@10: 0.07273\n",
            "Epoch: 102| Train loss: 416.37364| NDCG@10: 0.10639| HIT@10: 0.07407\n",
            "Epoch: 103| Train loss: 398.31926| NDCG@10: 0.10580| HIT@10: 0.07660\n",
            "Epoch: 104| Train loss: 410.52397| NDCG@10: 0.10704| HIT@10: 0.07526\n",
            "Epoch: 105| Train loss: 408.24815| NDCG@10: 0.10652| HIT@10: 0.07481\n",
            "Epoch: 106| Train loss: 423.07727| NDCG@10: 0.10508| HIT@10: 0.07139\n",
            "Epoch: 107| Train loss: 405.99438| NDCG@10: 0.10651| HIT@10: 0.07422\n",
            "Epoch: 108| Train loss: 411.00853| NDCG@10: 0.11028| HIT@10: 0.07630\n",
            "Epoch: 109| Train loss: 409.87297| NDCG@10: 0.10928| HIT@10: 0.07630\n",
            "Epoch: 110| Train loss: 402.47696| NDCG@10: 0.10548| HIT@10: 0.07601\n",
            "Epoch: 111| Train loss: 395.53951| NDCG@10: 0.10723| HIT@10: 0.07645\n",
            "Epoch: 112| Train loss: 409.09650| NDCG@10: 0.11160| HIT@10: 0.07765\n",
            "Epoch: 113| Train loss: 399.05681| NDCG@10: 0.11226| HIT@10: 0.07615\n",
            "Epoch: 114| Train loss: 391.07201| NDCG@10: 0.11445| HIT@10: 0.07854\n",
            "Epoch: 115| Train loss: 419.80905| NDCG@10: 0.11331| HIT@10: 0.08063\n",
            "Epoch: 116| Train loss: 397.04491| NDCG@10: 0.11414| HIT@10: 0.08241\n",
            "Epoch: 117| Train loss: 401.94881| NDCG@10: 0.11436| HIT@10: 0.08167\n",
            "Epoch: 118| Train loss: 381.03987| NDCG@10: 0.11968| HIT@10: 0.08361\n",
            "Epoch: 119| Train loss: 390.76334| NDCG@10: 0.12151| HIT@10: 0.08286\n",
            "Epoch: 120| Train loss: 393.57755| NDCG@10: 0.11872| HIT@10: 0.08167\n",
            "Epoch: 121| Train loss: 375.91875| NDCG@10: 0.11978| HIT@10: 0.08256\n",
            "Epoch: 122| Train loss: 388.75197| NDCG@10: 0.12227| HIT@10: 0.08480\n",
            "Epoch: 123| Train loss: 375.46475| NDCG@10: 0.11914| HIT@10: 0.08405\n",
            "Epoch: 124| Train loss: 385.39061| NDCG@10: 0.12204| HIT@10: 0.08703\n",
            "Epoch: 125| Train loss: 380.94601| NDCG@10: 0.12705| HIT@10: 0.08689\n",
            "Epoch: 126| Train loss: 375.44601| NDCG@10: 0.12743| HIT@10: 0.08644\n",
            "Epoch: 127| Train loss: 377.28528| NDCG@10: 0.12944| HIT@10: 0.08763\n",
            "Epoch: 128| Train loss: 372.66959| NDCG@10: 0.12753| HIT@10: 0.08703\n",
            "Epoch: 129| Train loss: 368.42513| NDCG@10: 0.12848| HIT@10: 0.08957\n",
            "Epoch: 130| Train loss: 360.52159| NDCG@10: 0.12935| HIT@10: 0.09031\n",
            "Epoch: 131| Train loss: 352.78003| NDCG@10: 0.13416| HIT@10: 0.09091\n",
            "Epoch: 132| Train loss: 376.22162| NDCG@10: 0.13427| HIT@10: 0.09210\n",
            "Epoch: 133| Train loss: 366.21141| NDCG@10: 0.13677| HIT@10: 0.09314\n",
            "Epoch: 134| Train loss: 353.08838| NDCG@10: 0.13752| HIT@10: 0.09359\n",
            "Epoch: 135| Train loss: 364.52733| NDCG@10: 0.13627| HIT@10: 0.09419\n",
            "Epoch: 136| Train loss: 353.99185| NDCG@10: 0.13680| HIT@10: 0.09478\n",
            "Epoch: 137| Train loss: 359.89095| NDCG@10: 0.13918| HIT@10: 0.09598\n",
            "Epoch: 138| Train loss: 358.80479| NDCG@10: 0.14545| HIT@10: 0.09866\n",
            "Epoch: 139| Train loss: 369.80315| NDCG@10: 0.14854| HIT@10: 0.09866\n",
            "Epoch: 140| Train loss: 347.54503| NDCG@10: 0.14378| HIT@10: 0.09717\n",
            "Epoch: 141| Train loss: 351.53075| NDCG@10: 0.14154| HIT@10: 0.09523\n",
            "Epoch: 142| Train loss: 348.72702| NDCG@10: 0.14461| HIT@10: 0.09821\n",
            "Epoch: 143| Train loss: 347.74350| NDCG@10: 0.15125| HIT@10: 0.10253\n",
            "Epoch: 144| Train loss: 362.33572| NDCG@10: 0.15194| HIT@10: 0.10253\n",
            "Epoch: 145| Train loss: 357.73146| NDCG@10: 0.14949| HIT@10: 0.10119\n",
            "Epoch: 146| Train loss: 358.97707| NDCG@10: 0.14575| HIT@10: 0.10075\n",
            "Epoch: 147| Train loss: 340.07538| NDCG@10: 0.14468| HIT@10: 0.09970\n",
            "Epoch: 148| Train loss: 336.31017| NDCG@10: 0.14745| HIT@10: 0.10119\n",
            "Epoch: 149| Train loss: 346.55341| NDCG@10: 0.15291| HIT@10: 0.10343\n",
            "Epoch: 150| Train loss: 347.93318| NDCG@10: 0.15224| HIT@10: 0.10343\n",
            "Epoch: 151| Train loss: 353.07555| NDCG@10: 0.15210| HIT@10: 0.10462\n",
            "Epoch: 152| Train loss: 338.84834| NDCG@10: 0.15268| HIT@10: 0.10611\n",
            "Epoch: 153| Train loss: 349.79756| NDCG@10: 0.15550| HIT@10: 0.10626\n",
            "Epoch: 154| Train loss: 341.04913| NDCG@10: 0.15570| HIT@10: 0.10611\n",
            "Epoch: 155| Train loss: 335.89038| NDCG@10: 0.15929| HIT@10: 0.10820\n",
            "Epoch: 156| Train loss: 337.53630| NDCG@10: 0.15935| HIT@10: 0.10864\n",
            "Epoch: 157| Train loss: 338.18057| NDCG@10: 0.15785| HIT@10: 0.10879\n",
            "Epoch: 158| Train loss: 336.21248| NDCG@10: 0.15949| HIT@10: 0.10894\n",
            "Epoch: 159| Train loss: 347.46831| NDCG@10: 0.16315| HIT@10: 0.11118\n",
            "Epoch: 160| Train loss: 328.62657| NDCG@10: 0.16553| HIT@10: 0.11177\n",
            "Epoch: 161| Train loss: 334.81230| NDCG@10: 0.16376| HIT@10: 0.11088\n",
            "Epoch: 162| Train loss: 318.32588| NDCG@10: 0.15927| HIT@10: 0.10924\n",
            "Epoch: 163| Train loss: 326.80717| NDCG@10: 0.16119| HIT@10: 0.11088\n",
            "Epoch: 164| Train loss: 334.44348| NDCG@10: 0.16237| HIT@10: 0.11013\n",
            "Epoch: 165| Train loss: 322.28802| NDCG@10: 0.16840| HIT@10: 0.11326\n",
            "Epoch: 166| Train loss: 327.01892| NDCG@10: 0.17050| HIT@10: 0.11475\n",
            "Epoch: 167| Train loss: 324.89891| NDCG@10: 0.17193| HIT@10: 0.11729\n",
            "Epoch: 168| Train loss: 322.24762| NDCG@10: 0.16816| HIT@10: 0.11639\n",
            "Epoch: 169| Train loss: 322.31377| NDCG@10: 0.16705| HIT@10: 0.11565\n",
            "Epoch: 170| Train loss: 319.08194| NDCG@10: 0.16679| HIT@10: 0.11431\n",
            "Epoch: 171| Train loss: 323.00430| NDCG@10: 0.17280| HIT@10: 0.11729\n",
            "Epoch: 172| Train loss: 314.47598| NDCG@10: 0.17545| HIT@10: 0.11967\n",
            "Epoch: 173| Train loss: 312.77271| NDCG@10: 0.17609| HIT@10: 0.11952\n",
            "Epoch: 174| Train loss: 312.13454| NDCG@10: 0.17503| HIT@10: 0.11893\n",
            "Epoch: 175| Train loss: 326.99194| NDCG@10: 0.17179| HIT@10: 0.11624\n",
            "Epoch: 176| Train loss: 303.33405| NDCG@10: 0.17261| HIT@10: 0.11699\n",
            "Epoch: 177| Train loss: 320.68925| NDCG@10: 0.17509| HIT@10: 0.11759\n",
            "Epoch: 178| Train loss: 316.36319| NDCG@10: 0.17809| HIT@10: 0.12161\n",
            "Epoch: 179| Train loss: 294.29175| NDCG@10: 0.18068| HIT@10: 0.12355\n",
            "Epoch: 180| Train loss: 313.95796| NDCG@10: 0.18193| HIT@10: 0.12414\n",
            "Epoch: 181| Train loss: 303.63264| NDCG@10: 0.18436| HIT@10: 0.12519\n",
            "Epoch: 182| Train loss: 307.85094| NDCG@10: 0.18345| HIT@10: 0.12370\n",
            "Epoch: 183| Train loss: 309.91031| NDCG@10: 0.17823| HIT@10: 0.12250\n",
            "Epoch: 184| Train loss: 306.32278| NDCG@10: 0.17851| HIT@10: 0.12191\n",
            "Epoch: 185| Train loss: 304.24670| NDCG@10: 0.18060| HIT@10: 0.12101\n",
            "Epoch: 186| Train loss: 308.76556| NDCG@10: 0.18286| HIT@10: 0.12295\n",
            "Epoch: 187| Train loss: 306.31293| NDCG@10: 0.18557| HIT@10: 0.12519\n",
            "Epoch: 188| Train loss: 290.40344| NDCG@10: 0.18794| HIT@10: 0.12846\n",
            "Epoch: 189| Train loss: 307.66068| NDCG@10: 0.18582| HIT@10: 0.12712\n",
            "Epoch: 190| Train loss: 298.93097| NDCG@10: 0.18454| HIT@10: 0.12653\n",
            "Epoch: 191| Train loss: 283.59618| NDCG@10: 0.18667| HIT@10: 0.12742\n",
            "Epoch: 192| Train loss: 288.31516| NDCG@10: 0.18835| HIT@10: 0.12742\n",
            "Epoch: 193| Train loss: 293.02892| NDCG@10: 0.19139| HIT@10: 0.12846\n",
            "Epoch: 194| Train loss: 288.59947| NDCG@10: 0.19360| HIT@10: 0.13174\n",
            "Epoch: 195| Train loss: 285.72737| NDCG@10: 0.19175| HIT@10: 0.13159\n",
            "Epoch: 196| Train loss: 293.02901| NDCG@10: 0.19122| HIT@10: 0.13219\n",
            "Epoch: 197| Train loss: 282.74678| NDCG@10: 0.19047| HIT@10: 0.12996\n",
            "Epoch: 198| Train loss: 281.59261| NDCG@10: 0.19535| HIT@10: 0.13145\n",
            "Epoch: 199| Train loss: 291.47733| NDCG@10: 0.20097| HIT@10: 0.13502\n",
            "Epoch: 200| Train loss: 282.77171| NDCG@10: 0.20171| HIT@10: 0.13651\n"
          ]
        }
      ],
      "source": [
        "loss_list = []\n",
        "ndcg_list = []\n",
        "hit_list = []\n",
        "for epoch in range(1, config.num_epochs + 1):\n",
        "    \n",
        "    train_loss = train(\n",
        "        model = model, \n",
        "        criterion = criterion, \n",
        "        optimizer = optimizer, \n",
        "        data_loader = data_loader,\n",
        "        make_matrix_data_set = make_matrix_data_set,\n",
        "        )\n",
        "    \n",
        "    ndcg, hit = evaluate(\n",
        "        model = model, \n",
        "        data_loader = data_loader,\n",
        "        user_train = user_train,\n",
        "        user_valid = user_valid,\n",
        "        make_matrix_data_set = make_matrix_data_set,\n",
        "        )\n",
        "\n",
        "    loss_list.append(train_loss)\n",
        "    ndcg_list.append(ndcg)\n",
        "    hit_list.append(hit)\n",
        "\n",
        "    print(f'Epoch: {epoch:3d}| Train loss: {train_loss:.5f}| NDCG@10: {ndcg:.5f}| HIT@10: {hit:.5f}')"
      ]
    },
    {
      "cell_type": "code",
      "source": [
        "import matplotlib.pyplot as plt\n",
        "\n",
        "fig, ax = plt.subplots(1, 3, figsize = (15, 5))\n",
        "ax = ax.flatten()\n",
        "epochs = [i for i in range(1, config.num_epochs + 1)]\n",
        "\n",
        "ax[0].plot(epochs, loss_list)\n",
        "ax[0].set_title('Loss')\n",
        "\n",
        "ax[1].plot(epochs, ndcg_list)\n",
        "ax[1].set_title('NDCG')\n",
        "\n",
        "ax[2].plot(epochs, hit_list)\n",
        "ax[2].set_title('HIT')\n",
        "plt.show()"
      ],
      "metadata": {
        "colab": {
          "base_uri": "https://localhost:8080/",
          "height": 336
        },
        "id": "OtJEHXSYEdRc",
        "outputId": "0fc92569-5203-4519-e3ed-0e7b82b80f92"
      },
      "execution_count": 17,
      "outputs": [
        {
          "output_type": "display_data",
          "data": {
            "text/plain": [
              "<Figure size 1080x360 with 3 Axes>"
            ],
            "image/png": "[encoded data removed]"
          },
          "metadata": {
            "needs_background": "light"
          }
        }
      ]
    }
  ]
}