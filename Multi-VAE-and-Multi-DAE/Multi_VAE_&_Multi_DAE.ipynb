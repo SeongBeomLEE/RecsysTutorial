{
  "nbformat": 4,
  "nbformat_minor": 0,
  "metadata": {
    "colab": {
      "name": "Multi-VAE & Multi-DAE.ipynb",
      "provenance": [],
      "collapsed_sections": [],
      "mount_file_id": "1_mAoZDMCVoDoYUfYqMrCDeh2aXveeaXm",
      "authorship_tag": "ABX9TyOYrDRxhVi3A/qZc4fcqmPs",
      "include_colab_link": true
    },
    "kernelspec": {
      "name": "python3",
      "display_name": "Python 3"
    },
    "language_info": {
      "name": "python"
    },
    "accelerator": "GPU"
  },
  "cells": [
    {
      "cell_type": "markdown",
      "metadata": {
        "id": "view-in-github",
        "colab_type": "text"
      },
      "source": [
        "<a href=\"https://colab.research.google.com/github/SeongBeomLEE/RecsysTutorial/blob/main/Multi-VAE-and-Multi-DAE/Multi_VAE_%26_Multi_DAE.ipynb\" target=\"_parent\"><img src=\"https://colab.research.google.com/assets/colab-badge.svg\" alt=\"Open In Colab\"/></a>"
      ]
    },
    {
      "cell_type": "code",
      "source": [
        "!pip install python-box"
      ],
      "metadata": {
        "colab": {
          "base_uri": "https://localhost:8080/"
        },
        "id": "xzJgxsrewLBy",
        "outputId": "9528f621-13f8-4127-f52c-4c6aa3cc1df0"
      },
      "execution_count": 1,
      "outputs": [
        {
          "output_type": "stream",
          "name": "stdout",
          "text": [
            "Requirement already satisfied: python-box in /usr/local/lib/python3.7/dist-packages (6.0.2)\n"
          ]
        }
      ]
    },
    {
      "cell_type": "code",
      "execution_count": 2,
      "metadata": {
        "id": "Ug-br-pPu9vZ"
      },
      "outputs": [],
      "source": [
        "import math\n",
        "import numpy as np\n",
        "import pandas as pd\n",
        "from tqdm import tqdm\n",
        "from collections import defaultdict\n",
        "import os\n",
        "\n",
        "import torch\n",
        "import torch.nn as nn\n",
        "import torch.nn.functional as F\n",
        "from torch.utils.data import Dataset, DataLoader\n",
        "\n",
        "from box import Box\n",
        "\n",
        "import warnings\n",
        "\n",
        "warnings.filterwarnings(action='ignore')\n",
        "torch.set_printoptions(sci_mode=True)"
      ]
    },
    {
      "cell_type": "markdown",
      "metadata": {
        "id": "pbRKDSg4u9vc"
      },
      "source": [
        "# 1. 학습 설정"
      ]
    },
    {
      "cell_type": "code",
      "execution_count": 3,
      "metadata": {
        "id": "mlm1UrKvoC_O"
      },
      "outputs": [],
      "source": [
        "config = {\n",
        "    'data_path' : \"/content/drive/MyDrive/RecsysTutorial/Data/MovieLens\" , # 데이터 경로\n",
        "\n",
        "    'p_dims': [200, 600],\n",
        "    'dropout_rate' : 0.5,\n",
        "    'weight_decay' : 0.01,\n",
        "    'valid_samples' : 10,\n",
        "    'seed' : 22,\n",
        "    'anneal_cap' : 0.2,\n",
        "    'total_anneal_steps' : 200000,\n",
        "\n",
        "    'lr' : 0.005,\n",
        "    'batch_size' : 500,\n",
        "    'num_epochs' : 50,\n",
        "    'num_workers' : 2,\n",
        "}\n",
        "\n",
        "device = 'cuda' if torch.cuda.is_available() else 'cpu'\n",
        "\n",
        "config = Box(config)"
      ]
    },
    {
      "cell_type": "markdown",
      "metadata": {
        "id": "wjDxy0fJu9vf"
      },
      "source": [
        "# 2. 데이터 전처리"
      ]
    },
    {
      "cell_type": "code",
      "execution_count": 4,
      "metadata": {
        "id": "W64BYWl0u9vg"
      },
      "outputs": [],
      "source": [
        "class MakeMatrixDataSet():\n",
        "    \"\"\"\n",
        "    MatrixDataSet 생성\n",
        "    \"\"\"\n",
        "    def __init__(self, config):\n",
        "        self.config = config\n",
        "        self.df = pd.read_csv(os.path.join(self.config.data_path, 'ratings.csv'))\n",
        "        \n",
        "        self.item_encoder, self.item_decoder = self.generate_encoder_decoder('movieId')\n",
        "        self.user_encoder, self.user_decoder = self.generate_encoder_decoder('userId')\n",
        "        self.num_item, self.num_user = len(self.item_encoder), len(self.user_encoder)\n",
        "\n",
        "        self.df['item_idx'] = self.df['movieId'].apply(lambda x : self.item_encoder[x])\n",
        "        self.df['user_idx'] = self.df['userId'].apply(lambda x : self.user_encoder[x])\n",
        "\n",
        "        self.user_train, self.user_valid = self.generate_sequence_data()\n",
        "\n",
        "    def generate_encoder_decoder(self, col : str) -> dict:\n",
        "        \"\"\"\n",
        "        encoder, decoder 생성\n",
        "\n",
        "        Args:\n",
        "            col (str): 생성할 columns 명\n",
        "        Returns:\n",
        "            dict: 생성된 user encoder, decoder\n",
        "        \"\"\"\n",
        "\n",
        "        encoder = {}\n",
        "        decoder = {}\n",
        "        ids = self.df[col].unique()\n",
        "\n",
        "        for idx, _id in enumerate(ids):\n",
        "            encoder[_id] = idx\n",
        "            decoder[idx] = _id\n",
        "\n",
        "        return encoder, decoder\n",
        "    \n",
        "    def generate_sequence_data(self) -> dict:\n",
        "        \"\"\"\n",
        "        sequence_data 생성\n",
        "\n",
        "        Returns:\n",
        "            dict: train user sequence / valid user sequence\n",
        "        \"\"\"\n",
        "        users = defaultdict(list)\n",
        "        user_train = {}\n",
        "        user_valid = {}\n",
        "        for user, item, time in zip(self.df['user_idx'], self.df['item_idx'], self.df['timestamp']):\n",
        "            users[user].append(item)\n",
        "        \n",
        "        for user in users:\n",
        "            np.random.seed(self.config.seed)\n",
        "\n",
        "            user_total = users[user]\n",
        "            valid = np.random.choice(user_total, size = self.config.valid_samples, replace = False).tolist()\n",
        "            train = list(set(user_total) - set(valid))\n",
        "\n",
        "            user_train[user] = train\n",
        "            user_valid[user] = valid # valid_samples 개수 만큼 검증에 활용 (현재 Task와 가장 유사하게)\n",
        "\n",
        "        return user_train, user_valid\n",
        "    \n",
        "    def get_train_valid_data(self):\n",
        "        return self.user_train, self.user_valid\n",
        "\n",
        "    def make_matrix(self, user_list, train = True):\n",
        "        \"\"\"\n",
        "        user_item_dict를 바탕으로 행렬 생성\n",
        "        \"\"\"\n",
        "        mat = torch.zeros(size = (user_list.size(0), self.num_item))\n",
        "        for idx, user in enumerate(user_list):\n",
        "            if train:\n",
        "                mat[idx, self.user_train[user.item()]] = 1\n",
        "            else:\n",
        "                mat[idx, self.user_train[user.item()] + self.user_valid[user.item()]] = 1\n",
        "        return mat"
      ]
    },
    {
      "cell_type": "code",
      "execution_count": 5,
      "metadata": {
        "id": "IldCGmY8u9vh"
      },
      "outputs": [],
      "source": [
        "class AEDataSet(Dataset):\n",
        "    def __init__(self, num_user):\n",
        "        self.num_user = num_user\n",
        "        self.users = [i for i in range(num_user)]\n",
        "\n",
        "    def __len__(self):\n",
        "        return self.num_user\n",
        "\n",
        "    def __getitem__(self, idx): \n",
        "        user = self.users[idx]\n",
        "        return torch.LongTensor([user])"
      ]
    },
    {
      "cell_type": "markdown",
      "metadata": {
        "id": "Jtf1I824nx5V"
      },
      "source": [
        "# 3. 모델"
      ]
    },
    {
      "cell_type": "markdown",
      "source": [
        "## 3-1. Multi-VAE"
      ],
      "metadata": {
        "id": "SGNmERekglz2"
      }
    },
    {
      "cell_type": "code",
      "execution_count": 6,
      "metadata": {
        "id": "i4YlaXHVnx5V"
      },
      "outputs": [],
      "source": [
        "class MultiVAE(nn.Module):\n",
        "\n",
        "    def __init__(self, p_dims, dropout_rate = 0.5):\n",
        "        super(MultiVAE, self).__init__()\n",
        "        self.p_dims = p_dims\n",
        "        self.q_dims = p_dims[::-1]\n",
        "\n",
        "        temp_q_dims = self.q_dims[:-1] + [self.q_dims[-1] * 2]\n",
        "\n",
        "        self.q_layers = nn.ModuleList([nn.Linear(d_in, d_out) for\n",
        "            d_in, d_out in zip(temp_q_dims[:-1], temp_q_dims[1:])])\n",
        "\n",
        "        self.p_layers = nn.ModuleList([nn.Linear(d_in, d_out) for\n",
        "            d_in, d_out in zip(self.p_dims[:-1], self.p_dims[1:])])\n",
        "\n",
        "        self.drop = nn.Dropout(dropout_rate)\n",
        "        self.init_weights()\n",
        "    \n",
        "    def forward(self, input, loss = False):\n",
        "        mu, logvar = self.encode(input)\n",
        "        z = self.reparameterize(mu, logvar)\n",
        "        h = self.decode(z)\n",
        "        if loss:\n",
        "            return h, mu, logvar\n",
        "        else:\n",
        "            return h\n",
        "    \n",
        "    def encode(self, input):\n",
        "        h = F.normalize(input)\n",
        "        h = self.drop(h)\n",
        "\n",
        "        for i, layer in enumerate(self.q_layers):\n",
        "            h = layer(h)\n",
        "            if i != len(self.q_layers) - 1:\n",
        "                h = F.tanh(h)\n",
        "            else:\n",
        "                mu = h[:, :self.q_dims[-1]]\n",
        "                logvar = h[:, self.q_dims[-1]:]\n",
        "        return mu, logvar\n",
        "\n",
        "    def reparameterize(self, mu, logvar):\n",
        "        if self.training:\n",
        "            std = torch.exp(0.5 * logvar)\n",
        "            eps = torch.randn_like(std)\n",
        "            return eps.mul(std).add_(mu)\n",
        "        else:\n",
        "            return mu\n",
        "    \n",
        "    def decode(self, z):\n",
        "        h = z\n",
        "        for i, layer in enumerate(self.p_layers):\n",
        "            h = layer(h)\n",
        "            if i != len(self.p_layers) - 1:\n",
        "                h = F.tanh(h)\n",
        "        return h\n",
        "\n",
        "    def init_weights(self):\n",
        "        for layer in self.q_layers:\n",
        "            # Xavier Initialization for weights\n",
        "            size = layer.weight.size()\n",
        "            fan_out = size[0]\n",
        "            fan_in = size[1]\n",
        "            std = np.sqrt(2.0/(fan_in + fan_out))\n",
        "            layer.weight.data.normal_(0.0, std)\n",
        "\n",
        "            # Normal Initialization for Biases\n",
        "            layer.bias.data.normal_(0.0, 0.001)\n",
        "        \n",
        "        for layer in self.p_layers:\n",
        "            # Xavier Initialization for weights\n",
        "            size = layer.weight.size()\n",
        "            fan_out = size[0]\n",
        "            fan_in = size[1]\n",
        "            std = np.sqrt(2.0/(fan_in + fan_out))\n",
        "            layer.weight.data.normal_(0.0, std)\n",
        "\n",
        "            # Normal Initialization for Biases\n",
        "            layer.bias.data.normal_(0.0, 0.001)"
      ]
    },
    {
      "cell_type": "markdown",
      "source": [
        "## 3-2. Multi-DAE"
      ],
      "metadata": {
        "id": "cVALj8pEg1p_"
      }
    },
    {
      "cell_type": "code",
      "execution_count": 7,
      "metadata": {
        "id": "_EgjAJ-ju9vj"
      },
      "outputs": [],
      "source": [
        "class MultiDAE(nn.Module):\n",
        "    \n",
        "    def __init__(self, p_dims, dropout_rate = 0.5):\n",
        "        super(MultiDAE, self).__init__()\n",
        "        self.p_dims = p_dims\n",
        "        self.q_dims = p_dims[::-1]\n",
        "\n",
        "        self.dims = self.q_dims + self.p_dims[1:]\n",
        "        self.layers = nn.ModuleList([nn.Linear(d_in, d_out) for\n",
        "            d_in, d_out in zip(self.dims[:-1], self.dims[1:])])\n",
        "        self.drop = nn.Dropout(dropout_rate)\n",
        "        \n",
        "        self.init_weights()\n",
        "    \n",
        "    def forward(self, input):\n",
        "        h = F.normalize(input)\n",
        "        h = self.drop(h)\n",
        "\n",
        "        for i, layer in enumerate(self.layers):\n",
        "            h = layer(h)\n",
        "            if i != len(self.layers) - 1:\n",
        "                h = F.tanh(h)\n",
        "        return h\n",
        "\n",
        "    def init_weights(self):\n",
        "        for layer in self.layers:\n",
        "            # Xavier Initialization for weights\n",
        "            size = layer.weight.size()\n",
        "            fan_out = size[0]\n",
        "            fan_in = size[1]\n",
        "            std = np.sqrt(2.0/(fan_in + fan_out))\n",
        "            layer.weight.data.normal_(0.0, std)\n",
        "\n",
        "            # Normal Initialization for Biases\n",
        "            layer.bias.data.normal_(0.0, 0.001)"
      ]
    },
    {
      "cell_type": "markdown",
      "metadata": {
        "id": "dk-bL5p4nx5W"
      },
      "source": [
        "# 4. 학습 함수"
      ]
    },
    {
      "cell_type": "code",
      "source": [
        "class LossFunc(nn.Module):\n",
        "\n",
        "    def __init__(self, loss_type = 'Multinomial', model_type = None):\n",
        "        super(LossFunc, self).__init__()\n",
        "        self.loss_type = loss_type\n",
        "        self.model_type = model_type\n",
        "\n",
        "    def forward(self, recon_x = None, x = None, mu = None, logvar = None, anneal = None):\n",
        "        if self.loss_type == 'Gaussian':\n",
        "            loss = self.Gaussian(recon_x, x)\n",
        "        elif self.loss_type == 'Logistic':\n",
        "            loss = self.Logistic(recon_x, x)\n",
        "        elif self.loss_type == 'Multinomial':\n",
        "            loss = self.Multinomial(recon_x, x)\n",
        "        \n",
        "        if self.model_type == 'VAE':\n",
        "            KLD = -0.5 * torch.mean(torch.sum(1 + logvar - mu.pow(2) - logvar.exp(), dim=1))\n",
        "            loss = loss + anneal * KLD\n",
        "        \n",
        "        return loss\n",
        "\n",
        "    def Gaussian(self, recon_x, x):\n",
        "        gaussian = F.mse_loss(recon_x, x)\n",
        "        return gaussian\n",
        "\n",
        "    def Logistic(self, recon_x, x):\n",
        "        logistic = F.binary_cross_entropy(recon_x.sigmoid(), x, reduction='none').sum(1).mean()\n",
        "        return logistic\n",
        "\n",
        "    def Multinomial(self, recon_x, x):\n",
        "        multinomial = -torch.mean(torch.sum(F.log_softmax(recon_x, 1) * x, -1))\n",
        "        return multinomial"
      ],
      "metadata": {
        "id": "9YGrj0ztii9u"
      },
      "execution_count": 8,
      "outputs": []
    },
    {
      "cell_type": "code",
      "execution_count": 9,
      "metadata": {
        "id": "3rxZnTRrnx5W"
      },
      "outputs": [],
      "source": [
        "def get_ndcg(pred_list, true_list):\n",
        "    idcg = sum((1 / np.log2(rank + 2) for rank in range(1, len(pred_list))))\n",
        "    dcg = 0\n",
        "    for rank, pred in enumerate(pred_list):\n",
        "        if pred in true_list:\n",
        "            dcg += 1 / np.log2(rank + 2)\n",
        "    ndcg = dcg / idcg\n",
        "    return ndcg\n",
        "\n",
        "def get_hit(pred_list, true_list):\n",
        "    hit_list = set(true_list) & set(pred_list)\n",
        "    hit = len(hit_list) / len(true_list)\n",
        "    return hit\n",
        "\n",
        "\n",
        "def train(model, criterion, optimizer, data_loader, make_matrix_data_set, config):\n",
        "    global update_count\n",
        "    model.train()\n",
        "    loss_val = 0\n",
        "    for users in data_loader:\n",
        "        mat = make_matrix_data_set.make_matrix(users)\n",
        "        mat = mat.to(device)\n",
        "\n",
        "        if criterion.model_type == 'VAE':\n",
        "            anneal = min(config.anneal_cap, 1. * update_count / config.total_anneal_steps)\n",
        "            update_count += 1\n",
        "            recon_mat, mu, logvar = model(mat, loss = True)\n",
        "            \n",
        "            optimizer.zero_grad()\n",
        "            loss = criterion(recon_x = recon_mat, x = mat, mu = mu, logvar = logvar, anneal = anneal)\n",
        "\n",
        "        else:\n",
        "            recon_mat = model(mat)\n",
        "            optimizer.zero_grad()\n",
        "            loss = criterion(recon_x = recon_mat, x = mat)\n",
        "\n",
        "        loss_val += loss.item()\n",
        "\n",
        "        loss.backward()\n",
        "        optimizer.step()\n",
        "\n",
        "    loss_val /= len(data_loader)\n",
        "\n",
        "    return loss_val\n",
        "\n",
        "def evaluate(model, data_loader, user_train, user_valid, make_matrix_data_set):\n",
        "    model.eval()\n",
        "\n",
        "    NDCG = 0.0 # NDCG@10\n",
        "    HIT = 0.0 # HIT@10\n",
        "\n",
        "    with torch.no_grad():\n",
        "        for users in data_loader:\n",
        "            mat = make_matrix_data_set.make_matrix(users)\n",
        "            mat = mat.to(device)\n",
        "\n",
        "            recon_mat = model(mat)\n",
        "            recon_mat[mat == 1] = -np.inf\n",
        "            rec_list = recon_mat.argsort(dim = 1)\n",
        "\n",
        "            for user, rec in zip(users, rec_list):\n",
        "                uv = user_valid[user.item()]\n",
        "                up = rec[-10:].cpu().numpy().tolist()\n",
        "                NDCG += get_ndcg(pred_list = up, true_list = uv)\n",
        "                HIT += get_hit(pred_list = up, true_list = uv)\n",
        "\n",
        "    NDCG /= len(data_loader.dataset)\n",
        "    HIT /= len(data_loader.dataset)\n",
        "\n",
        "    return NDCG, HIT"
      ]
    },
    {
      "cell_type": "markdown",
      "metadata": {
        "id": "ozBvgarCnx5W"
      },
      "source": [
        "# 5. 학습"
      ]
    },
    {
      "cell_type": "code",
      "execution_count": 10,
      "metadata": {
        "id": "Cnq1T8S6nx5X"
      },
      "outputs": [],
      "source": [
        "make_matrix_data_set = MakeMatrixDataSet(config = config)\n",
        "user_train, user_valid = make_matrix_data_set.get_train_valid_data()"
      ]
    },
    {
      "cell_type": "code",
      "execution_count": 11,
      "metadata": {
        "id": "RKHjKcKinx5X"
      },
      "outputs": [],
      "source": [
        "ae_dataset = AEDataSet(\n",
        "    num_user = make_matrix_data_set.num_user,\n",
        "    )"
      ]
    },
    {
      "cell_type": "code",
      "execution_count": 12,
      "metadata": {
        "id": "r0k5yCsSnx5X"
      },
      "outputs": [],
      "source": [
        "data_loader = DataLoader(\n",
        "    ae_dataset,\n",
        "    batch_size = config.batch_size, \n",
        "    shuffle = True, \n",
        "    pin_memory = True,\n",
        "    num_workers = config.num_workers,\n",
        "    )"
      ]
    },
    {
      "cell_type": "code",
      "source": [
        "loss_dict = {}\n",
        "ndcg_dict = {}\n",
        "hit_dict = {}"
      ],
      "metadata": {
        "id": "6NzgBhCWsHO3"
      },
      "execution_count": 13,
      "outputs": []
    },
    {
      "cell_type": "markdown",
      "source": [
        "## 5-1. Multi-VAE"
      ],
      "metadata": {
        "id": "ipsRbgppmUdZ"
      }
    },
    {
      "cell_type": "code",
      "execution_count": 14,
      "metadata": {
        "id": "o2sFDKhFnx5X"
      },
      "outputs": [],
      "source": [
        "model = MultiVAE(\n",
        "    p_dims = config.p_dims + [make_matrix_data_set.num_item], \n",
        "    dropout_rate = config.dropout_rate).to(device)\n",
        "\n",
        "criterion = LossFunc(loss_type = 'Multinomial', model_type = 'VAE')\n",
        "optimizer = torch.optim.Adam(model.parameters(), lr=config.lr)"
      ]
    },
    {
      "cell_type": "code",
      "execution_count": 15,
      "metadata": {
        "id": "8RaWc3b1nx5X",
        "outputId": "f6d10263-b2a6-473d-cbc7-af1f445e8e76",
        "colab": {
          "base_uri": "https://localhost:8080/"
        }
      },
      "outputs": [
        {
          "output_type": "stream",
          "name": "stdout",
          "text": [
            "Epoch:   1| Train loss: 1287.99127| NDCG@10: 0.03649| HIT@10: 0.03025\n",
            "Epoch:   2| Train loss: 1208.22418| NDCG@10: 0.06583| HIT@10: 0.05663\n",
            "Epoch:   3| Train loss: 1141.78729| NDCG@10: 0.04170| HIT@10: 0.03770\n",
            "Epoch:   4| Train loss: 1127.41046| NDCG@10: 0.07958| HIT@10: 0.06483\n",
            "Epoch:   5| Train loss: 1060.97070| NDCG@10: 0.08059| HIT@10: 0.06677\n",
            "Epoch:   6| Train loss: 1051.10156| NDCG@10: 0.08239| HIT@10: 0.06945\n",
            "Epoch:   7| Train loss: 1045.01584| NDCG@10: 0.09448| HIT@10: 0.07824\n",
            "Epoch:   8| Train loss: 1034.38965| NDCG@10: 0.09329| HIT@10: 0.07958\n",
            "Epoch:   9| Train loss: 1104.75409| NDCG@10: 0.12218| HIT@10: 0.10030\n",
            "Epoch:  10| Train loss: 1087.04572| NDCG@10: 0.11916| HIT@10: 0.09896\n",
            "Epoch:  11| Train loss: 1144.35043| NDCG@10: 0.11320| HIT@10: 0.09836\n",
            "Epoch:  12| Train loss: 1064.54254| NDCG@10: 0.11906| HIT@10: 0.10104\n",
            "Epoch:  13| Train loss: 1099.89218| NDCG@10: 0.12427| HIT@10: 0.10343\n",
            "Epoch:  14| Train loss: 1013.50473| NDCG@10: 0.12228| HIT@10: 0.10119\n",
            "Epoch:  15| Train loss: 1110.24170| NDCG@10: 0.12546| HIT@10: 0.10656\n",
            "Epoch:  16| Train loss: 1014.10904| NDCG@10: 0.12802| HIT@10: 0.10984\n",
            "Epoch:  17| Train loss: 1110.03015| NDCG@10: 0.13294| HIT@10: 0.11550\n",
            "Epoch:  18| Train loss: 985.51160| NDCG@10: 0.13829| HIT@10: 0.11952\n",
            "Epoch:  19| Train loss: 1094.48514| NDCG@10: 0.14517| HIT@10: 0.12519\n",
            "Epoch:  20| Train loss: 1031.96506| NDCG@10: 0.14780| HIT@10: 0.12653\n",
            "Epoch:  21| Train loss: 954.70285| NDCG@10: 0.15035| HIT@10: 0.12712\n",
            "Epoch:  22| Train loss: 1007.06250| NDCG@10: 0.15660| HIT@10: 0.13219\n",
            "Epoch:  23| Train loss: 974.59299| NDCG@10: 0.15515| HIT@10: 0.13308\n",
            "Epoch:  24| Train loss: 1006.29111| NDCG@10: 0.15069| HIT@10: 0.12712\n",
            "Epoch:  25| Train loss: 950.63040| NDCG@10: 0.15198| HIT@10: 0.12921\n",
            "Epoch:  26| Train loss: 1060.41660| NDCG@10: 0.16031| HIT@10: 0.13711\n",
            "Epoch:  27| Train loss: 975.27582| NDCG@10: 0.15642| HIT@10: 0.13398\n",
            "Epoch:  28| Train loss: 920.83560| NDCG@10: 0.16280| HIT@10: 0.13338\n",
            "Epoch:  29| Train loss: 964.15756| NDCG@10: 0.16105| HIT@10: 0.13562\n",
            "Epoch:  30| Train loss: 967.92023| NDCG@10: 0.15942| HIT@10: 0.13458\n",
            "Epoch:  31| Train loss: 925.94760| NDCG@10: 0.15589| HIT@10: 0.13279\n",
            "Epoch:  32| Train loss: 930.30554| NDCG@10: 0.16170| HIT@10: 0.13830\n",
            "Epoch:  33| Train loss: 926.64935| NDCG@10: 0.15276| HIT@10: 0.12772\n",
            "Epoch:  34| Train loss: 871.74136| NDCG@10: 0.15870| HIT@10: 0.13413\n",
            "Epoch:  35| Train loss: 930.95859| NDCG@10: 0.15115| HIT@10: 0.12787\n",
            "Epoch:  36| Train loss: 953.21277| NDCG@10: 0.15581| HIT@10: 0.13249\n",
            "Epoch:  37| Train loss: 952.77777| NDCG@10: 0.15848| HIT@10: 0.13413\n",
            "Epoch:  38| Train loss: 902.67996| NDCG@10: 0.16014| HIT@10: 0.13443\n",
            "Epoch:  39| Train loss: 981.78577| NDCG@10: 0.15630| HIT@10: 0.13294\n",
            "Epoch:  40| Train loss: 926.07385| NDCG@10: 0.15309| HIT@10: 0.12802\n",
            "Epoch:  41| Train loss: 914.68729| NDCG@10: 0.16589| HIT@10: 0.13890\n",
            "Epoch:  42| Train loss: 909.72784| NDCG@10: 0.15915| HIT@10: 0.13726\n",
            "Epoch:  43| Train loss: 902.41885| NDCG@10: 0.16123| HIT@10: 0.13830\n",
            "Epoch:  44| Train loss: 955.50079| NDCG@10: 0.16764| HIT@10: 0.14009\n",
            "Epoch:  45| Train loss: 884.24301| NDCG@10: 0.16355| HIT@10: 0.14009\n",
            "Epoch:  46| Train loss: 873.07504| NDCG@10: 0.16386| HIT@10: 0.13994\n",
            "Epoch:  47| Train loss: 894.37106| NDCG@10: 0.16499| HIT@10: 0.13905\n",
            "Epoch:  48| Train loss: 899.08536| NDCG@10: 0.16510| HIT@10: 0.13651\n",
            "Epoch:  49| Train loss: 929.91592| NDCG@10: 0.15873| HIT@10: 0.13532\n",
            "Epoch:  50| Train loss: 853.83551| NDCG@10: 0.16603| HIT@10: 0.13815\n"
          ]
        }
      ],
      "source": [
        "best_hit = 0\n",
        "update_count = 1\n",
        "loss_list = []\n",
        "ndcg_list = []\n",
        "hit_list = []\n",
        "for epoch in range(1, config.num_epochs + 1):\n",
        "    \n",
        "    train_loss = train(\n",
        "        model = model, \n",
        "        criterion = criterion, \n",
        "        optimizer = optimizer, \n",
        "        data_loader = data_loader,\n",
        "        make_matrix_data_set = make_matrix_data_set,\n",
        "        config = config,\n",
        "        )\n",
        "    \n",
        "    ndcg, hit = evaluate(\n",
        "        model = model, \n",
        "        data_loader = data_loader,\n",
        "        user_train = user_train,\n",
        "        user_valid = user_valid,\n",
        "        make_matrix_data_set = make_matrix_data_set,\n",
        "        )\n",
        "\n",
        "    loss_list.append(train_loss)\n",
        "    ndcg_list.append(ndcg)\n",
        "    hit_list.append(hit)\n",
        "\n",
        "    print(f'Epoch: {epoch:3d}| Train loss: {train_loss:.5f}| NDCG@10: {ndcg:.5f}| HIT@10: {hit:.5f}')"
      ]
    },
    {
      "cell_type": "code",
      "source": [
        "loss_dict['Multi-VAE'] = loss_list\n",
        "ndcg_dict['Multi-VAE'] = ndcg_list\n",
        "hit_dict['Multi-VAE'] = hit_list"
      ],
      "metadata": {
        "id": "AYSHH2bOsC6K"
      },
      "execution_count": 16,
      "outputs": []
    },
    {
      "cell_type": "markdown",
      "source": [
        "## 5-2. Gaussian-VAE"
      ],
      "metadata": {
        "id": "0xescDfTnA3I"
      }
    },
    {
      "cell_type": "code",
      "execution_count": 17,
      "metadata": {
        "id": "Pt3_V0ZinA3J"
      },
      "outputs": [],
      "source": [
        "model = MultiVAE(\n",
        "    p_dims = config.p_dims + [make_matrix_data_set.num_item], \n",
        "    dropout_rate = config.dropout_rate).to(device)\n",
        "\n",
        "criterion = LossFunc(loss_type = 'Gaussian', model_type = 'VAE')\n",
        "optimizer = torch.optim.Adam(model.parameters(), lr=config.lr)"
      ]
    },
    {
      "cell_type": "code",
      "execution_count": 18,
      "metadata": {
        "colab": {
          "base_uri": "https://localhost:8080/"
        },
        "id": "Vm7r6nF6nA3J",
        "outputId": "47ff3831-6327-4c16-d9f1-dde50003e3f9"
      },
      "outputs": [
        {
          "output_type": "stream",
          "name": "stdout",
          "text": [
            "Epoch:   1| Train loss: 0.03963| NDCG@10: 0.03818| HIT@10: 0.03040\n",
            "Epoch:   2| Train loss: 0.02529| NDCG@10: 0.05526| HIT@10: 0.04993\n",
            "Epoch:   3| Train loss: 0.02646| NDCG@10: 0.05536| HIT@10: 0.04665\n",
            "Epoch:   4| Train loss: 0.02353| NDCG@10: 0.08135| HIT@10: 0.06736\n",
            "Epoch:   5| Train loss: 0.02207| NDCG@10: 0.07840| HIT@10: 0.06647\n",
            "Epoch:   6| Train loss: 0.02309| NDCG@10: 0.10416| HIT@10: 0.08599\n",
            "Epoch:   7| Train loss: 0.02145| NDCG@10: 0.10621| HIT@10: 0.08927\n",
            "Epoch:   8| Train loss: 0.01909| NDCG@10: 0.11235| HIT@10: 0.09598\n",
            "Epoch:   9| Train loss: 0.01845| NDCG@10: 0.10854| HIT@10: 0.09449\n",
            "Epoch:  10| Train loss: 0.01816| NDCG@10: 0.11416| HIT@10: 0.09538\n",
            "Epoch:  11| Train loss: 0.01831| NDCG@10: 0.11944| HIT@10: 0.10000\n",
            "Epoch:  12| Train loss: 0.01659| NDCG@10: 0.12141| HIT@10: 0.10060\n",
            "Epoch:  13| Train loss: 0.01677| NDCG@10: 0.12070| HIT@10: 0.10030\n",
            "Epoch:  14| Train loss: 0.01662| NDCG@10: 0.12497| HIT@10: 0.10224\n",
            "Epoch:  15| Train loss: 0.01584| NDCG@10: 0.12724| HIT@10: 0.10387\n",
            "Epoch:  16| Train loss: 0.01518| NDCG@10: 0.12804| HIT@10: 0.10611\n",
            "Epoch:  17| Train loss: 0.01575| NDCG@10: 0.12790| HIT@10: 0.10671\n",
            "Epoch:  18| Train loss: 0.01495| NDCG@10: 0.12585| HIT@10: 0.10581\n",
            "Epoch:  19| Train loss: 0.01559| NDCG@10: 0.12652| HIT@10: 0.10641\n",
            "Epoch:  20| Train loss: 0.01526| NDCG@10: 0.12109| HIT@10: 0.10358\n",
            "Epoch:  21| Train loss: 0.01504| NDCG@10: 0.12144| HIT@10: 0.10328\n",
            "Epoch:  22| Train loss: 0.01510| NDCG@10: 0.11974| HIT@10: 0.10209\n",
            "Epoch:  23| Train loss: 0.01481| NDCG@10: 0.12002| HIT@10: 0.10119\n",
            "Epoch:  24| Train loss: 0.01449| NDCG@10: 0.12012| HIT@10: 0.10119\n",
            "Epoch:  25| Train loss: 0.01478| NDCG@10: 0.11916| HIT@10: 0.09970\n",
            "Epoch:  26| Train loss: 0.01438| NDCG@10: 0.11853| HIT@10: 0.09851\n",
            "Epoch:  27| Train loss: 0.01489| NDCG@10: 0.12028| HIT@10: 0.09851\n",
            "Epoch:  28| Train loss: 0.01489| NDCG@10: 0.12240| HIT@10: 0.09896\n",
            "Epoch:  29| Train loss: 0.01447| NDCG@10: 0.11683| HIT@10: 0.09702\n",
            "Epoch:  30| Train loss: 0.01503| NDCG@10: 0.11903| HIT@10: 0.09732\n",
            "Epoch:  31| Train loss: 0.01388| NDCG@10: 0.11965| HIT@10: 0.09702\n",
            "Epoch:  32| Train loss: 0.01436| NDCG@10: 0.11975| HIT@10: 0.09642\n",
            "Epoch:  33| Train loss: 0.01497| NDCG@10: 0.11737| HIT@10: 0.09568\n",
            "Epoch:  34| Train loss: 0.01419| NDCG@10: 0.11435| HIT@10: 0.09389\n",
            "Epoch:  35| Train loss: 0.01429| NDCG@10: 0.11132| HIT@10: 0.09270\n",
            "Epoch:  36| Train loss: 0.01376| NDCG@10: 0.11224| HIT@10: 0.09180\n",
            "Epoch:  37| Train loss: 0.01428| NDCG@10: 0.10897| HIT@10: 0.08987\n",
            "Epoch:  38| Train loss: 0.01426| NDCG@10: 0.10954| HIT@10: 0.09001\n",
            "Epoch:  39| Train loss: 0.01518| NDCG@10: 0.10707| HIT@10: 0.08823\n",
            "Epoch:  40| Train loss: 0.01444| NDCG@10: 0.10698| HIT@10: 0.08674\n",
            "Epoch:  41| Train loss: 0.01351| NDCG@10: 0.10277| HIT@10: 0.08435\n",
            "Epoch:  42| Train loss: 0.01474| NDCG@10: 0.09831| HIT@10: 0.08152\n",
            "Epoch:  43| Train loss: 0.01462| NDCG@10: 0.09723| HIT@10: 0.08018\n",
            "Epoch:  44| Train loss: 0.01418| NDCG@10: 0.09422| HIT@10: 0.07899\n",
            "Epoch:  45| Train loss: 0.01390| NDCG@10: 0.09973| HIT@10: 0.08122\n",
            "Epoch:  46| Train loss: 0.01313| NDCG@10: 0.09833| HIT@10: 0.08122\n",
            "Epoch:  47| Train loss: 0.01406| NDCG@10: 0.10057| HIT@10: 0.08301\n",
            "Epoch:  48| Train loss: 0.01389| NDCG@10: 0.10012| HIT@10: 0.08435\n",
            "Epoch:  49| Train loss: 0.01355| NDCG@10: 0.10190| HIT@10: 0.08480\n",
            "Epoch:  50| Train loss: 0.01404| NDCG@10: 0.10286| HIT@10: 0.08480\n"
          ]
        }
      ],
      "source": [
        "best_hit = 0\n",
        "update_count = 1\n",
        "loss_list = []\n",
        "ndcg_list = []\n",
        "hit_list = []\n",
        "for epoch in range(1, config.num_epochs + 1):\n",
        "    \n",
        "    train_loss = train(\n",
        "        model = model, \n",
        "        criterion = criterion, \n",
        "        optimizer = optimizer, \n",
        "        data_loader = data_loader,\n",
        "        make_matrix_data_set = make_matrix_data_set,\n",
        "        config = config,\n",
        "        )\n",
        "    \n",
        "    ndcg, hit = evaluate(\n",
        "        model = model, \n",
        "        data_loader = data_loader,\n",
        "        user_train = user_train,\n",
        "        user_valid = user_valid,\n",
        "        make_matrix_data_set = make_matrix_data_set,\n",
        "        )\n",
        "\n",
        "    loss_list.append(train_loss)\n",
        "    ndcg_list.append(ndcg)\n",
        "    hit_list.append(hit)\n",
        "\n",
        "    print(f'Epoch: {epoch:3d}| Train loss: {train_loss:.5f}| NDCG@10: {ndcg:.5f}| HIT@10: {hit:.5f}')"
      ]
    },
    {
      "cell_type": "code",
      "source": [
        "loss_dict['Gaussian-VAE'] = loss_list\n",
        "ndcg_dict['Gaussian-VAE'] = ndcg_list\n",
        "hit_dict['Gaussian-VAE'] = hit_list"
      ],
      "metadata": {
        "id": "_7cz788dpfcS"
      },
      "execution_count": 19,
      "outputs": []
    },
    {
      "cell_type": "markdown",
      "source": [
        "## 5-3. Logistic-VAE"
      ],
      "metadata": {
        "id": "ATsPYvuAnEjI"
      }
    },
    {
      "cell_type": "code",
      "execution_count": 20,
      "metadata": {
        "id": "Fsbn-xv2nEjI"
      },
      "outputs": [],
      "source": [
        "model = MultiVAE(\n",
        "    p_dims = config.p_dims + [make_matrix_data_set.num_item], \n",
        "    dropout_rate = config.dropout_rate).to(device)\n",
        "\n",
        "criterion = LossFunc(loss_type = 'Logistic', model_type = 'VAE')\n",
        "optimizer = torch.optim.Adam(model.parameters(), lr=config.lr)"
      ]
    },
    {
      "cell_type": "code",
      "execution_count": 21,
      "metadata": {
        "colab": {
          "base_uri": "https://localhost:8080/"
        },
        "id": "AhcP_Sa0nEjI",
        "outputId": "671ae667-c9ea-4e26-8688-f20c81eba1d1"
      },
      "outputs": [
        {
          "output_type": "stream",
          "name": "stdout",
          "text": [
            "Epoch:   1| Train loss: 6255.91895| NDCG@10: 0.06873| HIT@10: 0.05917\n",
            "Epoch:   2| Train loss: 3018.79626| NDCG@10: 0.07108| HIT@10: 0.06080\n",
            "Epoch:   3| Train loss: 798.18787| NDCG@10: 0.02785| HIT@10: 0.02310\n",
            "Epoch:   4| Train loss: 706.46054| NDCG@10: 0.05727| HIT@10: 0.05291\n",
            "Epoch:   5| Train loss: 731.22546| NDCG@10: 0.06808| HIT@10: 0.05291\n",
            "Epoch:   6| Train loss: 714.84833| NDCG@10: 0.05703| HIT@10: 0.04665\n",
            "Epoch:   7| Train loss: 673.24860| NDCG@10: 0.04131| HIT@10: 0.04054\n",
            "Epoch:   8| Train loss: 720.17453| NDCG@10: 0.04989| HIT@10: 0.04128\n",
            "Epoch:   9| Train loss: 661.09064| NDCG@10: 0.07017| HIT@10: 0.05738\n",
            "Epoch:  10| Train loss: 651.49493| NDCG@10: 0.06315| HIT@10: 0.05499\n",
            "Epoch:  11| Train loss: 603.07349| NDCG@10: 0.05938| HIT@10: 0.05112\n",
            "Epoch:  12| Train loss: 650.31268| NDCG@10: 0.06626| HIT@10: 0.05544\n",
            "Epoch:  13| Train loss: 591.32309| NDCG@10: 0.07026| HIT@10: 0.06080\n",
            "Epoch:  14| Train loss: 592.53299| NDCG@10: 0.06224| HIT@10: 0.05365\n",
            "Epoch:  15| Train loss: 625.23230| NDCG@10: 0.07327| HIT@10: 0.06140\n",
            "Epoch:  16| Train loss: 606.16550| NDCG@10: 0.07050| HIT@10: 0.06200\n",
            "Epoch:  17| Train loss: 608.16064| NDCG@10: 0.06603| HIT@10: 0.05678\n",
            "Epoch:  18| Train loss: 597.65448| NDCG@10: 0.06365| HIT@10: 0.05782\n",
            "Epoch:  19| Train loss: 566.64099| NDCG@10: 0.07281| HIT@10: 0.06259\n",
            "Epoch:  20| Train loss: 539.63692| NDCG@10: 0.07610| HIT@10: 0.06304\n",
            "Epoch:  21| Train loss: 559.91531| NDCG@10: 0.07275| HIT@10: 0.06453\n",
            "Epoch:  22| Train loss: 590.49014| NDCG@10: 0.07354| HIT@10: 0.06319\n",
            "Epoch:  23| Train loss: 572.86002| NDCG@10: 0.07427| HIT@10: 0.06244\n",
            "Epoch:  24| Train loss: 549.24585| NDCG@10: 0.07343| HIT@10: 0.06349\n",
            "Epoch:  25| Train loss: 604.77917| NDCG@10: 0.07543| HIT@10: 0.06349\n",
            "Epoch:  26| Train loss: 603.52335| NDCG@10: 0.07132| HIT@10: 0.05872\n",
            "Epoch:  27| Train loss: 548.10231| NDCG@10: 0.07263| HIT@10: 0.06185\n",
            "Epoch:  28| Train loss: 559.52747| NDCG@10: 0.06578| HIT@10: 0.06185\n",
            "Epoch:  29| Train loss: 550.12227| NDCG@10: 0.07623| HIT@10: 0.06230\n",
            "Epoch:  30| Train loss: 562.66013| NDCG@10: 0.06919| HIT@10: 0.05902\n",
            "Epoch:  31| Train loss: 571.02811| NDCG@10: 0.06539| HIT@10: 0.05917\n",
            "Epoch:  32| Train loss: 593.57251| NDCG@10: 0.07381| HIT@10: 0.06051\n",
            "Epoch:  33| Train loss: 583.28955| NDCG@10: 0.07077| HIT@10: 0.06274\n",
            "Epoch:  34| Train loss: 560.08990| NDCG@10: 0.07241| HIT@10: 0.06036\n",
            "Epoch:  35| Train loss: 582.39560| NDCG@10: 0.06766| HIT@10: 0.05708\n",
            "Epoch:  36| Train loss: 604.78036| NDCG@10: 0.07343| HIT@10: 0.06319\n",
            "Epoch:  37| Train loss: 556.26698| NDCG@10: 0.06939| HIT@10: 0.05931\n",
            "Epoch:  38| Train loss: 579.33557| NDCG@10: 0.07312| HIT@10: 0.06125\n",
            "Epoch:  39| Train loss: 601.86136| NDCG@10: 0.07601| HIT@10: 0.06393\n",
            "Epoch:  40| Train loss: 541.21040| NDCG@10: 0.06453| HIT@10: 0.05648\n",
            "Epoch:  41| Train loss: 582.77328| NDCG@10: 0.07257| HIT@10: 0.06125\n",
            "Epoch:  42| Train loss: 577.03378| NDCG@10: 0.06825| HIT@10: 0.06021\n",
            "Epoch:  43| Train loss: 591.73996| NDCG@10: 0.07033| HIT@10: 0.05872\n",
            "Epoch:  44| Train loss: 607.57520| NDCG@10: 0.07008| HIT@10: 0.06036\n",
            "Epoch:  45| Train loss: 580.73355| NDCG@10: 0.07061| HIT@10: 0.06200\n",
            "Epoch:  46| Train loss: 579.45816| NDCG@10: 0.07261| HIT@10: 0.06155\n",
            "Epoch:  47| Train loss: 567.59219| NDCG@10: 0.07230| HIT@10: 0.06080\n",
            "Epoch:  48| Train loss: 588.99310| NDCG@10: 0.07582| HIT@10: 0.06557\n",
            "Epoch:  49| Train loss: 541.35854| NDCG@10: 0.06854| HIT@10: 0.05842\n",
            "Epoch:  50| Train loss: 560.75128| NDCG@10: 0.07258| HIT@10: 0.06185\n"
          ]
        }
      ],
      "source": [
        "best_hit = 0\n",
        "update_count = 1\n",
        "loss_list = []\n",
        "ndcg_list = []\n",
        "hit_list = []\n",
        "for epoch in range(1, config.num_epochs + 1):\n",
        "    \n",
        "    train_loss = train(\n",
        "        model = model, \n",
        "        criterion = criterion, \n",
        "        optimizer = optimizer, \n",
        "        data_loader = data_loader,\n",
        "        make_matrix_data_set = make_matrix_data_set,\n",
        "        config = config,\n",
        "        )\n",
        "    \n",
        "    ndcg, hit = evaluate(\n",
        "        model = model, \n",
        "        data_loader = data_loader,\n",
        "        user_train = user_train,\n",
        "        user_valid = user_valid,\n",
        "        make_matrix_data_set = make_matrix_data_set,\n",
        "        )\n",
        "\n",
        "    loss_list.append(train_loss)\n",
        "    ndcg_list.append(ndcg)\n",
        "    hit_list.append(hit)\n",
        "\n",
        "    print(f'Epoch: {epoch:3d}| Train loss: {train_loss:.5f}| NDCG@10: {ndcg:.5f}| HIT@10: {hit:.5f}')"
      ]
    },
    {
      "cell_type": "code",
      "source": [
        "loss_dict['Logistic-VAE'] = loss_list\n",
        "ndcg_dict['Logistic-VAE'] = ndcg_list\n",
        "hit_dict['Logistic-VAE'] = hit_list"
      ],
      "metadata": {
        "id": "JLrS8H6Hpn9F"
      },
      "execution_count": 22,
      "outputs": []
    },
    {
      "cell_type": "markdown",
      "source": [
        "## 5-4. Multi-DAE"
      ],
      "metadata": {
        "id": "X6Q_60c9nFYQ"
      }
    },
    {
      "cell_type": "code",
      "execution_count": 23,
      "metadata": {
        "id": "ktXUrukjnFYR"
      },
      "outputs": [],
      "source": [
        "model = MultiDAE(\n",
        "    p_dims = config.p_dims + [make_matrix_data_set.num_item], \n",
        "    dropout_rate = config.dropout_rate).to(device)\n",
        "\n",
        "criterion = LossFunc(loss_type = 'Multinomial')\n",
        "optimizer = torch.optim.Adam(model.parameters(), lr=config.lr, weight_decay = config.weight_decay)"
      ]
    },
    {
      "cell_type": "code",
      "execution_count": 24,
      "metadata": {
        "colab": {
          "base_uri": "https://localhost:8080/"
        },
        "id": "yXXOAYmMnFYR",
        "outputId": "b7dcdee9-464e-43a1-d466-ca7c8d143282"
      },
      "outputs": [
        {
          "output_type": "stream",
          "name": "stdout",
          "text": [
            "Epoch:   1| Train loss: 1313.90179| NDCG@10: 0.04338| HIT@10: 0.03487\n",
            "Epoch:   2| Train loss: 1211.96533| NDCG@10: 0.06809| HIT@10: 0.05797\n",
            "Epoch:   3| Train loss: 1183.91583| NDCG@10: 0.04004| HIT@10: 0.03353\n",
            "Epoch:   4| Train loss: 1161.74841| NDCG@10: 0.05326| HIT@10: 0.04575\n",
            "Epoch:   5| Train loss: 1071.92197| NDCG@10: 0.09335| HIT@10: 0.08152\n",
            "Epoch:   6| Train loss: 1163.18909| NDCG@10: 0.09810| HIT@10: 0.08197\n",
            "Epoch:   7| Train loss: 1064.37369| NDCG@10: 0.07858| HIT@10: 0.06408\n",
            "Epoch:   8| Train loss: 1143.36691| NDCG@10: 0.07797| HIT@10: 0.06244\n",
            "Epoch:   9| Train loss: 1034.44922| NDCG@10: 0.10320| HIT@10: 0.08763\n",
            "Epoch:  10| Train loss: 1030.07864| NDCG@10: 0.10302| HIT@10: 0.08912\n",
            "Epoch:  11| Train loss: 984.52261| NDCG@10: 0.10976| HIT@10: 0.09225\n",
            "Epoch:  12| Train loss: 1039.91095| NDCG@10: 0.10248| HIT@10: 0.08539\n",
            "Epoch:  13| Train loss: 1073.04828| NDCG@10: 0.10703| HIT@10: 0.08838\n",
            "Epoch:  14| Train loss: 1096.51028| NDCG@10: 0.12425| HIT@10: 0.10447\n",
            "Epoch:  15| Train loss: 1041.13995| NDCG@10: 0.12380| HIT@10: 0.10194\n",
            "Epoch:  16| Train loss: 1067.58691| NDCG@10: 0.13849| HIT@10: 0.11595\n",
            "Epoch:  17| Train loss: 1027.84885| NDCG@10: 0.12555| HIT@10: 0.10745\n",
            "Epoch:  18| Train loss: 1074.69257| NDCG@10: 0.13865| HIT@10: 0.11699\n",
            "Epoch:  19| Train loss: 967.42212| NDCG@10: 0.13227| HIT@10: 0.11505\n",
            "Epoch:  20| Train loss: 984.44385| NDCG@10: 0.13330| HIT@10: 0.11401\n",
            "Epoch:  21| Train loss: 1037.32385| NDCG@10: 0.14488| HIT@10: 0.12221\n",
            "Epoch:  22| Train loss: 1112.95343| NDCG@10: 0.14574| HIT@10: 0.12459\n",
            "Epoch:  23| Train loss: 1023.26938| NDCG@10: 0.14069| HIT@10: 0.12235\n",
            "Epoch:  24| Train loss: 1026.51495| NDCG@10: 0.14866| HIT@10: 0.12712\n",
            "Epoch:  25| Train loss: 1038.81375| NDCG@10: 0.15235| HIT@10: 0.12861\n",
            "Epoch:  26| Train loss: 1077.50955| NDCG@10: 0.14441| HIT@10: 0.12638\n",
            "Epoch:  27| Train loss: 976.39041| NDCG@10: 0.16179| HIT@10: 0.13592\n",
            "Epoch:  28| Train loss: 936.29468| NDCG@10: 0.16065| HIT@10: 0.13815\n",
            "Epoch:  29| Train loss: 977.30847| NDCG@10: 0.16089| HIT@10: 0.13785\n",
            "Epoch:  30| Train loss: 982.86673| NDCG@10: 0.16416| HIT@10: 0.14009\n",
            "Epoch:  31| Train loss: 1040.03296| NDCG@10: 0.15710| HIT@10: 0.13741\n",
            "Epoch:  32| Train loss: 886.59869| NDCG@10: 0.16100| HIT@10: 0.13756\n",
            "Epoch:  33| Train loss: 962.59274| NDCG@10: 0.16354| HIT@10: 0.13949\n",
            "Epoch:  34| Train loss: 1006.22321| NDCG@10: 0.16120| HIT@10: 0.13934\n",
            "Epoch:  35| Train loss: 931.47015| NDCG@10: 0.16258| HIT@10: 0.13890\n",
            "Epoch:  36| Train loss: 1026.60614| NDCG@10: 0.16447| HIT@10: 0.14203\n",
            "Epoch:  37| Train loss: 1032.88138| NDCG@10: 0.16787| HIT@10: 0.14471\n",
            "Epoch:  38| Train loss: 1003.06735| NDCG@10: 0.17003| HIT@10: 0.14411\n",
            "Epoch:  39| Train loss: 912.32166| NDCG@10: 0.16691| HIT@10: 0.14277\n",
            "Epoch:  40| Train loss: 893.98306| NDCG@10: 0.16923| HIT@10: 0.14218\n",
            "Epoch:  41| Train loss: 992.17453| NDCG@10: 0.16442| HIT@10: 0.14173\n",
            "Epoch:  42| Train loss: 945.13943| NDCG@10: 0.16099| HIT@10: 0.14158\n",
            "Epoch:  43| Train loss: 937.44415| NDCG@10: 0.16708| HIT@10: 0.14337\n",
            "Epoch:  44| Train loss: 930.54346| NDCG@10: 0.16704| HIT@10: 0.14262\n",
            "Epoch:  45| Train loss: 958.54031| NDCG@10: 0.16284| HIT@10: 0.14232\n",
            "Epoch:  46| Train loss: 902.47699| NDCG@10: 0.17257| HIT@10: 0.14650\n",
            "Epoch:  47| Train loss: 949.24362| NDCG@10: 0.17289| HIT@10: 0.14829\n",
            "Epoch:  48| Train loss: 943.25735| NDCG@10: 0.17132| HIT@10: 0.14337\n",
            "Epoch:  49| Train loss: 912.79236| NDCG@10: 0.17157| HIT@10: 0.14456\n",
            "Epoch:  50| Train loss: 907.21729| NDCG@10: 0.17445| HIT@10: 0.14680\n"
          ]
        }
      ],
      "source": [
        "best_hit = 0\n",
        "update_count = 1\n",
        "loss_list = []\n",
        "ndcg_list = []\n",
        "hit_list = []\n",
        "for epoch in range(1, config.num_epochs + 1):\n",
        "    \n",
        "    train_loss = train(\n",
        "        model = model, \n",
        "        criterion = criterion, \n",
        "        optimizer = optimizer, \n",
        "        data_loader = data_loader,\n",
        "        make_matrix_data_set = make_matrix_data_set,\n",
        "        config = config,\n",
        "        )\n",
        "    \n",
        "    ndcg, hit = evaluate(\n",
        "        model = model, \n",
        "        data_loader = data_loader,\n",
        "        user_train = user_train,\n",
        "        user_valid = user_valid,\n",
        "        make_matrix_data_set = make_matrix_data_set,\n",
        "        )\n",
        "\n",
        "    loss_list.append(train_loss)\n",
        "    ndcg_list.append(ndcg)\n",
        "    hit_list.append(hit)\n",
        "\n",
        "    print(f'Epoch: {epoch:3d}| Train loss: {train_loss:.5f}| NDCG@10: {ndcg:.5f}| HIT@10: {hit:.5f}')"
      ]
    },
    {
      "cell_type": "code",
      "source": [
        "loss_dict['Multi-DAE'] = loss_list\n",
        "ndcg_dict['Multi-DAE'] = ndcg_list\n",
        "hit_dict['Multi-DAE'] = hit_list"
      ],
      "metadata": {
        "id": "cy-VQ89optpu"
      },
      "execution_count": 25,
      "outputs": []
    },
    {
      "cell_type": "markdown",
      "source": [
        "## 5-5. Gaussian-DAE"
      ],
      "metadata": {
        "id": "vmhmWjuNnlxy"
      }
    },
    {
      "cell_type": "code",
      "execution_count": 26,
      "metadata": {
        "id": "RSdIlmlnnlx4"
      },
      "outputs": [],
      "source": [
        "model = MultiDAE(\n",
        "    p_dims = config.p_dims + [make_matrix_data_set.num_item], \n",
        "    dropout_rate = config.dropout_rate).to(device)\n",
        "\n",
        "criterion = LossFunc(loss_type = 'Gaussian')\n",
        "optimizer = torch.optim.Adam(model.parameters(), lr=config.lr, weight_decay = config.weight_decay)"
      ]
    },
    {
      "cell_type": "code",
      "execution_count": 27,
      "metadata": {
        "colab": {
          "base_uri": "https://localhost:8080/"
        },
        "id": "KdI5Uqmunlx4",
        "outputId": "a35e91a5-b527-4434-d13c-8335c2b84f8d"
      },
      "outputs": [
        {
          "output_type": "stream",
          "name": "stdout",
          "text": [
            "Epoch:   1| Train loss: 0.01509| NDCG@10: 0.06287| HIT@10: 0.05410\n",
            "Epoch:   2| Train loss: 0.01532| NDCG@10: 0.06676| HIT@10: 0.05887\n",
            "Epoch:   3| Train loss: 0.01504| NDCG@10: 0.06782| HIT@10: 0.05887\n",
            "Epoch:   4| Train loss: 0.01441| NDCG@10: 0.05914| HIT@10: 0.05440\n",
            "Epoch:   5| Train loss: 0.01510| NDCG@10: 0.06006| HIT@10: 0.05186\n",
            "Epoch:   6| Train loss: 0.01541| NDCG@10: 0.06061| HIT@10: 0.05171\n",
            "Epoch:   7| Train loss: 0.01497| NDCG@10: 0.06068| HIT@10: 0.04814\n",
            "Epoch:   8| Train loss: 0.01523| NDCG@10: 0.06470| HIT@10: 0.05291\n",
            "Epoch:   9| Train loss: 0.01529| NDCG@10: 0.07090| HIT@10: 0.06080\n",
            "Epoch:  10| Train loss: 0.01498| NDCG@10: 0.06778| HIT@10: 0.05976\n",
            "Epoch:  11| Train loss: 0.01568| NDCG@10: 0.07146| HIT@10: 0.05946\n",
            "Epoch:  12| Train loss: 0.01561| NDCG@10: 0.07003| HIT@10: 0.06155\n",
            "Epoch:  13| Train loss: 0.01574| NDCG@10: 0.07421| HIT@10: 0.06393\n",
            "Epoch:  14| Train loss: 0.01583| NDCG@10: 0.07033| HIT@10: 0.05708\n",
            "Epoch:  15| Train loss: 0.01593| NDCG@10: 0.07200| HIT@10: 0.06036\n",
            "Epoch:  16| Train loss: 0.01660| NDCG@10: 0.07255| HIT@10: 0.06185\n",
            "Epoch:  17| Train loss: 0.01567| NDCG@10: 0.07113| HIT@10: 0.06125\n",
            "Epoch:  18| Train loss: 0.01544| NDCG@10: 0.07488| HIT@10: 0.06364\n",
            "Epoch:  19| Train loss: 0.01532| NDCG@10: 0.07054| HIT@10: 0.06230\n",
            "Epoch:  20| Train loss: 0.01483| NDCG@10: 0.07216| HIT@10: 0.06274\n",
            "Epoch:  21| Train loss: 0.01488| NDCG@10: 0.06979| HIT@10: 0.06095\n",
            "Epoch:  22| Train loss: 0.01534| NDCG@10: 0.07336| HIT@10: 0.06259\n",
            "Epoch:  23| Train loss: 0.01542| NDCG@10: 0.06855| HIT@10: 0.06051\n",
            "Epoch:  24| Train loss: 0.01569| NDCG@10: 0.07041| HIT@10: 0.06125\n",
            "Epoch:  25| Train loss: 0.01507| NDCG@10: 0.07254| HIT@10: 0.06289\n",
            "Epoch:  26| Train loss: 0.01540| NDCG@10: 0.07065| HIT@10: 0.06274\n",
            "Epoch:  27| Train loss: 0.01558| NDCG@10: 0.07339| HIT@10: 0.06244\n",
            "Epoch:  28| Train loss: 0.01547| NDCG@10: 0.07123| HIT@10: 0.06200\n",
            "Epoch:  29| Train loss: 0.01443| NDCG@10: 0.07447| HIT@10: 0.06259\n",
            "Epoch:  30| Train loss: 0.01494| NDCG@10: 0.06998| HIT@10: 0.06185\n",
            "Epoch:  31| Train loss: 0.01655| NDCG@10: 0.07285| HIT@10: 0.06349\n",
            "Epoch:  32| Train loss: 0.01471| NDCG@10: 0.06954| HIT@10: 0.06155\n",
            "Epoch:  33| Train loss: 0.01541| NDCG@10: 0.07096| HIT@10: 0.06155\n",
            "Epoch:  34| Train loss: 0.01526| NDCG@10: 0.06923| HIT@10: 0.06066\n",
            "Epoch:  35| Train loss: 0.01566| NDCG@10: 0.07339| HIT@10: 0.06334\n",
            "Epoch:  36| Train loss: 0.01497| NDCG@10: 0.07139| HIT@10: 0.06200\n",
            "Epoch:  37| Train loss: 0.01603| NDCG@10: 0.07192| HIT@10: 0.06185\n",
            "Epoch:  38| Train loss: 0.01508| NDCG@10: 0.07146| HIT@10: 0.06200\n",
            "Epoch:  39| Train loss: 0.01531| NDCG@10: 0.07483| HIT@10: 0.06319\n",
            "Epoch:  40| Train loss: 0.01469| NDCG@10: 0.07315| HIT@10: 0.06230\n",
            "Epoch:  41| Train loss: 0.01427| NDCG@10: 0.07081| HIT@10: 0.06080\n",
            "Epoch:  42| Train loss: 0.01540| NDCG@10: 0.07314| HIT@10: 0.06140\n",
            "Epoch:  43| Train loss: 0.01533| NDCG@10: 0.07025| HIT@10: 0.06200\n",
            "Epoch:  44| Train loss: 0.01529| NDCG@10: 0.07200| HIT@10: 0.06244\n",
            "Epoch:  45| Train loss: 0.01517| NDCG@10: 0.06990| HIT@10: 0.06185\n",
            "Epoch:  46| Train loss: 0.01524| NDCG@10: 0.07467| HIT@10: 0.06259\n",
            "Epoch:  47| Train loss: 0.01543| NDCG@10: 0.07153| HIT@10: 0.06125\n",
            "Epoch:  48| Train loss: 0.01482| NDCG@10: 0.07567| HIT@10: 0.06379\n",
            "Epoch:  49| Train loss: 0.01430| NDCG@10: 0.07497| HIT@10: 0.06349\n",
            "Epoch:  50| Train loss: 0.01489| NDCG@10: 0.07376| HIT@10: 0.06334\n"
          ]
        }
      ],
      "source": [
        "best_hit = 0\n",
        "update_count = 1\n",
        "loss_list = []\n",
        "ndcg_list = []\n",
        "hit_list = []\n",
        "for epoch in range(1, config.num_epochs + 1):\n",
        "    \n",
        "    train_loss = train(\n",
        "        model = model, \n",
        "        criterion = criterion, \n",
        "        optimizer = optimizer, \n",
        "        data_loader = data_loader,\n",
        "        make_matrix_data_set = make_matrix_data_set,\n",
        "        config = config,\n",
        "        )\n",
        "    \n",
        "    ndcg, hit = evaluate(\n",
        "        model = model, \n",
        "        data_loader = data_loader,\n",
        "        user_train = user_train,\n",
        "        user_valid = user_valid,\n",
        "        make_matrix_data_set = make_matrix_data_set,\n",
        "        )\n",
        "\n",
        "    loss_list.append(train_loss)\n",
        "    ndcg_list.append(ndcg)\n",
        "    hit_list.append(hit)\n",
        "\n",
        "    print(f'Epoch: {epoch:3d}| Train loss: {train_loss:.5f}| NDCG@10: {ndcg:.5f}| HIT@10: {hit:.5f}')"
      ]
    },
    {
      "cell_type": "code",
      "source": [
        "loss_dict['Gaussian-DAE'] = loss_list\n",
        "ndcg_dict['Gaussian-DAE'] = ndcg_list\n",
        "hit_dict['Gaussian-DAE'] = hit_list"
      ],
      "metadata": {
        "id": "ligCw_thsfq8"
      },
      "execution_count": 28,
      "outputs": []
    },
    {
      "cell_type": "markdown",
      "source": [
        "## 5-6. Logistic-DAE"
      ],
      "metadata": {
        "id": "gHPg1XEJnmVE"
      }
    },
    {
      "cell_type": "code",
      "execution_count": 29,
      "metadata": {
        "id": "8-5VdZ2AnmVF"
      },
      "outputs": [],
      "source": [
        "model = MultiDAE(\n",
        "    p_dims = config.p_dims + [make_matrix_data_set.num_item], \n",
        "    dropout_rate = config.dropout_rate).to(device)\n",
        "\n",
        "criterion = LossFunc(loss_type = 'Logistic')\n",
        "optimizer = torch.optim.Adam(model.parameters(), lr=config.lr, weight_decay = config.weight_decay)"
      ]
    },
    {
      "cell_type": "code",
      "execution_count": 30,
      "metadata": {
        "colab": {
          "base_uri": "https://localhost:8080/"
        },
        "id": "07erv1jBnmVF",
        "outputId": "bbff837d-c17e-4300-9e47-070ea9a14f32"
      },
      "outputs": [
        {
          "output_type": "stream",
          "name": "stdout",
          "text": [
            "Epoch:   1| Train loss: 6247.66382| NDCG@10: 0.06128| HIT@10: 0.05514\n",
            "Epoch:   2| Train loss: 2368.59265| NDCG@10: 0.06855| HIT@10: 0.05514\n",
            "Epoch:   3| Train loss: 724.25391| NDCG@10: 0.03026| HIT@10: 0.02444\n",
            "Epoch:   4| Train loss: 688.85620| NDCG@10: 0.05304| HIT@10: 0.04769\n",
            "Epoch:   5| Train loss: 710.41351| NDCG@10: 0.06463| HIT@10: 0.05082\n",
            "Epoch:   6| Train loss: 704.05035| NDCG@10: 0.06723| HIT@10: 0.05618\n",
            "Epoch:   7| Train loss: 638.58655| NDCG@10: 0.05669| HIT@10: 0.04903\n",
            "Epoch:   8| Train loss: 621.49774| NDCG@10: 0.04409| HIT@10: 0.03815\n",
            "Epoch:   9| Train loss: 618.61069| NDCG@10: 0.05981| HIT@10: 0.05201\n",
            "Epoch:  10| Train loss: 611.23157| NDCG@10: 0.06812| HIT@10: 0.05887\n",
            "Epoch:  11| Train loss: 606.52310| NDCG@10: 0.05687| HIT@10: 0.04948\n",
            "Epoch:  12| Train loss: 572.57137| NDCG@10: 0.06506| HIT@10: 0.05633\n",
            "Epoch:  13| Train loss: 592.19907| NDCG@10: 0.06958| HIT@10: 0.05917\n",
            "Epoch:  14| Train loss: 595.53967| NDCG@10: 0.06448| HIT@10: 0.05544\n",
            "Epoch:  15| Train loss: 570.89795| NDCG@10: 0.07809| HIT@10: 0.06483\n",
            "Epoch:  16| Train loss: 576.94717| NDCG@10: 0.06928| HIT@10: 0.06006\n",
            "Epoch:  17| Train loss: 570.73581| NDCG@10: 0.06859| HIT@10: 0.06066\n",
            "Epoch:  18| Train loss: 584.06296| NDCG@10: 0.06995| HIT@10: 0.05991\n",
            "Epoch:  19| Train loss: 582.30734| NDCG@10: 0.07739| HIT@10: 0.06393\n",
            "Epoch:  20| Train loss: 577.53412| NDCG@10: 0.07005| HIT@10: 0.06066\n",
            "Epoch:  21| Train loss: 578.82095| NDCG@10: 0.06679| HIT@10: 0.05768\n",
            "Epoch:  22| Train loss: 576.62390| NDCG@10: 0.07323| HIT@10: 0.06423\n",
            "Epoch:  23| Train loss: 535.12117| NDCG@10: 0.07626| HIT@10: 0.06393\n",
            "Epoch:  24| Train loss: 545.75433| NDCG@10: 0.07162| HIT@10: 0.06259\n",
            "Epoch:  25| Train loss: 538.83914| NDCG@10: 0.08160| HIT@10: 0.06766\n",
            "Epoch:  26| Train loss: 550.11792| NDCG@10: 0.07301| HIT@10: 0.06334\n",
            "Epoch:  27| Train loss: 546.75024| NDCG@10: 0.07446| HIT@10: 0.06349\n",
            "Epoch:  28| Train loss: 509.52846| NDCG@10: 0.06945| HIT@10: 0.06304\n",
            "Epoch:  29| Train loss: 508.40051| NDCG@10: 0.08538| HIT@10: 0.06736\n",
            "Epoch:  30| Train loss: 505.91402| NDCG@10: 0.08143| HIT@10: 0.06632\n",
            "Epoch:  31| Train loss: 481.39038| NDCG@10: 0.07644| HIT@10: 0.06528\n",
            "Epoch:  32| Train loss: 470.95288| NDCG@10: 0.07869| HIT@10: 0.06602\n",
            "Epoch:  33| Train loss: 492.14255| NDCG@10: 0.07438| HIT@10: 0.06453\n",
            "Epoch:  34| Train loss: 475.39995| NDCG@10: 0.08228| HIT@10: 0.06826\n",
            "Epoch:  35| Train loss: 459.03647| NDCG@10: 0.07521| HIT@10: 0.06528\n",
            "Epoch:  36| Train loss: 456.61012| NDCG@10: 0.08671| HIT@10: 0.07303\n",
            "Epoch:  37| Train loss: 454.58694| NDCG@10: 0.08907| HIT@10: 0.07139\n",
            "Epoch:  38| Train loss: 458.38431| NDCG@10: 0.07943| HIT@10: 0.06692\n",
            "Epoch:  39| Train loss: 460.28407| NDCG@10: 0.08236| HIT@10: 0.06990\n",
            "Epoch:  40| Train loss: 465.98891| NDCG@10: 0.08140| HIT@10: 0.06781\n",
            "Epoch:  41| Train loss: 456.58815| NDCG@10: 0.08355| HIT@10: 0.06855\n",
            "Epoch:  42| Train loss: 458.36681| NDCG@10: 0.08115| HIT@10: 0.06841\n",
            "Epoch:  43| Train loss: 449.21060| NDCG@10: 0.08520| HIT@10: 0.06975\n",
            "Epoch:  44| Train loss: 466.77472| NDCG@10: 0.07825| HIT@10: 0.06706\n",
            "Epoch:  45| Train loss: 440.95441| NDCG@10: 0.07975| HIT@10: 0.06677\n",
            "Epoch:  46| Train loss: 450.97752| NDCG@10: 0.08105| HIT@10: 0.06855\n",
            "Epoch:  47| Train loss: 449.23595| NDCG@10: 0.08466| HIT@10: 0.07004\n",
            "Epoch:  48| Train loss: 420.42068| NDCG@10: 0.08278| HIT@10: 0.06781\n",
            "Epoch:  49| Train loss: 442.77753| NDCG@10: 0.08908| HIT@10: 0.07154\n",
            "Epoch:  50| Train loss: 463.84087| NDCG@10: 0.08827| HIT@10: 0.07154\n"
          ]
        }
      ],
      "source": [
        "best_hit = 0\n",
        "update_count = 1\n",
        "loss_list = []\n",
        "ndcg_list = []\n",
        "hit_list = []\n",
        "for epoch in range(1, config.num_epochs + 1):\n",
        "    \n",
        "    train_loss = train(\n",
        "        model = model, \n",
        "        criterion = criterion, \n",
        "        optimizer = optimizer, \n",
        "        data_loader = data_loader,\n",
        "        make_matrix_data_set = make_matrix_data_set,\n",
        "        config = config,\n",
        "        )\n",
        "    \n",
        "    ndcg, hit = evaluate(\n",
        "        model = model, \n",
        "        data_loader = data_loader,\n",
        "        user_train = user_train,\n",
        "        user_valid = user_valid,\n",
        "        make_matrix_data_set = make_matrix_data_set,\n",
        "        )\n",
        "\n",
        "    loss_list.append(train_loss)\n",
        "    ndcg_list.append(ndcg)\n",
        "    hit_list.append(hit)\n",
        "\n",
        "    print(f'Epoch: {epoch:3d}| Train loss: {train_loss:.5f}| NDCG@10: {ndcg:.5f}| HIT@10: {hit:.5f}')"
      ]
    },
    {
      "cell_type": "code",
      "source": [
        "loss_dict['Logistic-DAE'] = loss_list\n",
        "ndcg_dict['Logistic-DAE'] = ndcg_list\n",
        "hit_dict['Logistic-DAE'] = hit_list"
      ],
      "metadata": {
        "id": "YbXTGNijsgZO"
      },
      "execution_count": 31,
      "outputs": []
    },
    {
      "cell_type": "markdown",
      "source": [
        "# 시각화"
      ],
      "metadata": {
        "id": "u6L3PZr1sPTN"
      }
    },
    {
      "cell_type": "code",
      "source": [
        "import matplotlib.pyplot as plt\n",
        "\n",
        "fig, ax = plt.subplots(1, 3, figsize = (15, 5))\n",
        "ax = ax.flatten()\n",
        "epochs = [i for i in range(1, config.num_epochs + 1)]\n",
        "\n",
        "for k in loss_dict.keys():\n",
        "    ax[0].plot(epochs, loss_dict[k], label = k)\n",
        "ax[0].set_title('Loss')\n",
        "ax[0].legend()\n",
        "\n",
        "for k in ndcg_dict.keys():\n",
        "    ax[1].plot(epochs, ndcg_dict[k], label = k)\n",
        "ax[1].set_title('NDCG')\n",
        "ax[1].legend()\n",
        "\n",
        "for k in hit_dict.keys():\n",
        "    ax[2].plot(epochs, hit_dict[k], label = k)\n",
        "ax[2].set_title('HIT')\n",
        "ax[2].legend()\n",
        "plt.show()"
      ],
      "metadata": {
        "colab": {
          "base_uri": "https://localhost:8080/",
          "height": 336
        },
        "id": "pI33PJ-SpFmn",
        "outputId": "c4e8c2ca-d7c4-4766-c807-4e004727d972"
      },
      "execution_count": 33,
      "outputs": [
        {
          "output_type": "display_data",
          "data": {
            "text/plain": [
              "<Figure size 1080x360 with 3 Axes>"
            ],
            "image/png": "[encoded data removed]"
          },
          "metadata": {
            "needs_background": "light"
          }
        }
      ]
    }
  ]
}