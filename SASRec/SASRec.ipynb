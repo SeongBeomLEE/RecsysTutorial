{
  "nbformat": 4,
  "nbformat_minor": 0,
  "metadata": {
    "colab": {
      "name": "SASRec.ipynb",
      "provenance": [],
      "collapsed_sections": [],
      "mount_file_id": "12pOZ6F-YNjOA9K4jahzHnppyHAddjYdq",
      "authorship_tag": "ABX9TyMSu0yI1VZ6WW0+k+rZ4LNV",
      "include_colab_link": true
    },
    "kernelspec": {
      "name": "python3",
      "display_name": "Python 3"
    },
    "language_info": {
      "name": "python"
    },
    "accelerator": "GPU"
  },
  "cells": [
    {
      "cell_type": "markdown",
      "metadata": {
        "id": "view-in-github",
        "colab_type": "text"
      },
      "source": [
        "<a href=\"https://colab.research.google.com/github/SeongBeomLEE/RecsysTutorial/blob/main/SASRec/SASRec.ipynb\" target=\"_parent\"><img src=\"https://colab.research.google.com/assets/colab-badge.svg\" alt=\"Open In Colab\"/></a>"
      ]
    },
    {
      "cell_type": "code",
      "source": [
        "!pip install python-box"
      ],
      "metadata": {
        "colab": {
          "base_uri": "https://localhost:8080/"
        },
        "id": "xzJgxsrewLBy",
        "outputId": "1d027ec6-3056-43ac-801d-59c5ff6c8d9a"
      },
      "execution_count": 1,
      "outputs": [
        {
          "output_type": "stream",
          "name": "stdout",
          "text": [
            "Requirement already satisfied: python-box in /usr/local/lib/python3.7/dist-packages (6.0.2)\n"
          ]
        }
      ]
    },
    {
      "cell_type": "code",
      "execution_count": 2,
      "metadata": {
        "id": "Ug-br-pPu9vZ"
      },
      "outputs": [],
      "source": [
        "import math\n",
        "import random\n",
        "import numpy as np\n",
        "import pandas as pd\n",
        "from tqdm import tqdm\n",
        "from collections import defaultdict\n",
        "import os\n",
        "\n",
        "import torch\n",
        "import torch.nn as nn\n",
        "import torch.nn.functional as F\n",
        "from torch.utils.data import Dataset, DataLoader\n",
        "\n",
        "from box import Box\n",
        "\n",
        "import warnings\n",
        "\n",
        "warnings.filterwarnings(action='ignore')\n",
        "torch.set_printoptions(sci_mode=True)"
      ]
    },
    {
      "cell_type": "markdown",
      "metadata": {
        "id": "pbRKDSg4u9vc"
      },
      "source": [
        "# 1. 학습 설정"
      ]
    },
    {
      "cell_type": "code",
      "execution_count": 3,
      "metadata": {
        "id": "mlm1UrKvoC_O"
      },
      "outputs": [],
      "source": [
        "config = {\n",
        "    'data_path' : \"/content/drive/MyDrive/RecsysTutorial/Data/MovieLens\" , # 데이터 경로\n",
        "\n",
        "    'max_len' : 50,\n",
        "    'hidden_units' : 50, # Embedding size\n",
        "    'num_heads' : 1, # Multi-head layer 의 수 (병렬 처리)\n",
        "    'num_layers': 2, # block의 개수 (encoder layer의 개수)\n",
        "    'dropout_rate' : 0.5, # dropout 비율\n",
        "    'lr' : 0.001,\n",
        "    'batch_size' : 128,\n",
        "    'num_epochs' : 50,\n",
        "    'num_workers' : 2,\n",
        "}\n",
        "\n",
        "device = 'cuda' if torch.cuda.is_available() else 'cpu'\n",
        "\n",
        "config = Box(config)"
      ]
    },
    {
      "cell_type": "markdown",
      "metadata": {
        "id": "wjDxy0fJu9vf"
      },
      "source": [
        "# 2. 데이터 전처리"
      ]
    },
    {
      "cell_type": "code",
      "execution_count": 4,
      "metadata": {
        "id": "W64BYWl0u9vg"
      },
      "outputs": [],
      "source": [
        "class MakeSequenceDataSet():\n",
        "    \"\"\"\n",
        "    SequenceData 생성\n",
        "    \"\"\"\n",
        "    def __init__(self, config):\n",
        "        self.config = config\n",
        "        self.df = pd.read_csv(os.path.join(self.config.data_path, 'ratings.csv'))\n",
        "        \n",
        "        self.item_encoder, self.item_decoder = self.generate_encoder_decoder('movieId')\n",
        "        self.user_encoder, self.user_decoder = self.generate_encoder_decoder('userId')\n",
        "        self.num_item, self.num_user = len(self.item_encoder), len(self.user_encoder)\n",
        "\n",
        "        self.df['item_idx'] = self.df['movieId'].apply(lambda x : self.item_encoder[x] + 1)\n",
        "        self.df['user_idx'] = self.df['userId'].apply(lambda x : self.user_encoder[x])\n",
        "        self.df = self.df.sort_values(['user_idx', 'timestamp']) # 시간에 따라 정렬\n",
        "        self.user_train, self.user_valid = self.generate_sequence_data()\n",
        "\n",
        "    def generate_encoder_decoder(self, col : str) -> dict:\n",
        "        \"\"\"\n",
        "        encoder, decoder 생성\n",
        "\n",
        "        Args:\n",
        "            col (str): 생성할 columns 명\n",
        "        Returns:\n",
        "            dict: 생성된 user encoder, decoder\n",
        "        \"\"\"\n",
        "\n",
        "        encoder = {}\n",
        "        decoder = {}\n",
        "        ids = self.df[col].unique()\n",
        "\n",
        "        for idx, _id in enumerate(ids):\n",
        "            encoder[_id] = idx\n",
        "            decoder[idx] = _id\n",
        "\n",
        "        return encoder, decoder\n",
        "    \n",
        "    def generate_sequence_data(self) -> dict:\n",
        "        \"\"\"\n",
        "        sequence_data 생성\n",
        "\n",
        "        Returns:\n",
        "            dict: train user sequence / valid user sequence\n",
        "        \"\"\"\n",
        "        users = defaultdict(list)\n",
        "        user_train = {}\n",
        "        user_valid = {}\n",
        "        group_df = self.df.groupby('user_idx')\n",
        "        for user, item in group_df:\n",
        "            users[user].extend(item['item_idx'].tolist())\n",
        "        \n",
        "        for user in users:\n",
        "            user_train[user] = users[user][:-1]\n",
        "            user_valid[user] = [users[user][-1]] # 마지막 아이템을 예측\n",
        "\n",
        "        return user_train, user_valid\n",
        "    \n",
        "    def get_train_valid_data(self):\n",
        "        return self.user_train, self.user_valid"
      ]
    },
    {
      "cell_type": "code",
      "execution_count": 5,
      "metadata": {
        "id": "IldCGmY8u9vh"
      },
      "outputs": [],
      "source": [
        "class SASRecDataSet(Dataset):\n",
        "    def __init__(self, user_train, max_len, num_user, num_item):\n",
        "        self.user_train = user_train\n",
        "        self.max_len = max_len\n",
        "        self.num_user = num_user\n",
        "        self.num_item = num_item\n",
        "        self._all_items = set([i for i in range(1, self.num_item + 1)])\n",
        "\n",
        "    def __len__(self):\n",
        "        # 총 user의 수 = 학습에 사용할 sequence의 수\n",
        "        return self.num_user\n",
        "\n",
        "    def __getitem__(self, user): \n",
        "        \n",
        "        user_seq = self.user_train[user]\n",
        "        user_seq_len = len(user_seq)\n",
        "\n",
        "        seq = user_seq[-(user_seq_len) : -1]\n",
        "        seq = seq[-self.max_len :]\n",
        "\n",
        "        pos = user_seq[-(user_seq_len - 1) : ]\n",
        "        pos = pos[-self.max_len :]\n",
        "        \n",
        "        neg = random.sample(list(self._all_items - set(user_seq)), len(pos))\n",
        "        \n",
        "        seq = [0] * (self.max_len - len(seq)) + seq\n",
        "        pos = [0] * (self.max_len - len(pos)) + pos\n",
        "        neg = [0] * (self.max_len - len(neg)) + neg\n",
        "        \n",
        "        return np.array(seq, dtype=np.int32), np.array(pos, dtype=np.int32), np.array(neg, dtype=np.int32)\n",
        "\n",
        "    def random_neg_sampling(self, rated_item : list, num_item_sample : int):\n",
        "        nge_samples = random.sample(list(self._all_items - set(rated_item)), num_item_sample)\n",
        "        return nge_samples"
      ]
    },
    {
      "cell_type": "markdown",
      "metadata": {
        "id": "Jtf1I824nx5V"
      },
      "source": [
        "# 3. 모델"
      ]
    },
    {
      "cell_type": "code",
      "source": [
        "class ScaledDotProductAttention(nn.Module):\n",
        "    def __init__(self, hidden_units, dropout_rate):\n",
        "        super(ScaledDotProductAttention, self).__init__()\n",
        "        self.hidden_units = hidden_units\n",
        "        self.dropout = nn.Dropout(dropout_rate)\n",
        "\n",
        "    def forward(self, Q, K, V, mask):\n",
        "        \"\"\"\n",
        "        Q, K, V : (batch_size, num_heads, max_len, hidden_units)\n",
        "        mask : (batch_size, 1, max_len, max_len)\n",
        "        \"\"\"\n",
        "        attn_score = torch.matmul(Q, K.transpose(2, 3)) / math.sqrt(self.hidden_units) # (batch_size, num_heads, max_len, max_len)\n",
        "        attn_score = attn_score.masked_fill(mask == 0, -1e9)  # 유사도가 0인 지점은 -infinity로 보내 softmax 결과가 0이 되도록 함\n",
        "        attn_dist = self.dropout(F.softmax(attn_score, dim=-1))  # attention distribution\n",
        "        output = torch.matmul(attn_dist, V)  # (batch_size, num_heads, max_len, hidden_units) / # dim of output : batchSize x num_head x seqLen x hidden_units\n",
        "        return output, attn_dist\n",
        "\n",
        "\n",
        "class MultiHeadAttention(nn.Module):\n",
        "    def __init__(self, num_heads, hidden_units, dropout_rate):\n",
        "        super(MultiHeadAttention, self).__init__()\n",
        "        self.num_heads = num_heads # head의 수\n",
        "        self.hidden_units = hidden_units\n",
        "        \n",
        "        # query, key, value, output 생성을 위해 Linear 모델 생성\n",
        "        self.W_Q = nn.Linear(hidden_units, hidden_units * num_heads, bias=False)\n",
        "        self.W_K = nn.Linear(hidden_units, hidden_units * num_heads, bias=False)\n",
        "        self.W_V = nn.Linear(hidden_units, hidden_units * num_heads, bias=False)\n",
        "        self.W_O = nn.Linear(hidden_units * num_heads, hidden_units, bias=False)\n",
        "\n",
        "        self.attention = ScaledDotProductAttention(hidden_units, dropout_rate)\n",
        "        self.dropout = nn.Dropout(dropout_rate) # dropout rate\n",
        "        self.layerNorm = nn.LayerNorm(hidden_units, 1e-6) # layer normalization\n",
        "\n",
        "    def forward(self, enc, mask):\n",
        "        \"\"\"\n",
        "        enc : (batch_size, max_len, hidden_units)\n",
        "        mask : (batch_size, 1, max_len, max_len)\n",
        "        \n",
        "        \"\"\"\n",
        "        residual = enc # residual connection을 위해 residual 부분을 저장\n",
        "        batch_size, seqlen = enc.size(0), enc.size(1)\n",
        "\n",
        "        # Query, Key, Value를 (num_head)개의 Head로 나누어 각기 다른 Linear projection을 통과시킴\n",
        "        Q = self.W_Q(enc).view(batch_size, seqlen, self.num_heads, self.hidden_units) # (batch_size, max_len, num_heads, hidden_units)\n",
        "        K = self.W_K(enc).view(batch_size, seqlen, self.num_heads, self.hidden_units) # (batch_size, max_len, num_heads, hidden_units)\n",
        "        V = self.W_V(enc).view(batch_size, seqlen, self.num_heads, self.hidden_units) # (batch_size, max_len, num_heads, hidden_units)\n",
        "\n",
        "        # Head별로 각기 다른 attention이 가능하도록 Transpose 후 각각 attention에 통과시킴\n",
        "        Q, K, V = Q.transpose(1, 2), K.transpose(1, 2), V.transpose(1, 2) # (batch_size, num_heads, max_len, hidden_units)\n",
        "        output, attn_dist = self.attention(Q, K, V, mask) # output : (batch_size, num_heads, max_len, hidden_units) / attn_dist : (batch_size, num_heads, max_len, max_len)\n",
        "\n",
        "        # 다시 Transpose한 후 모든 head들의 attention 결과를 합칩니다.\n",
        "        output = output.transpose(1, 2).contiguous() # (batch_size, max_len, num_heads, hidden_units) / contiguous() : 가변적 메모리 할당\n",
        "        output = output.view(batch_size, seqlen, -1) # (batch_size, max_len, hidden_units * num_heads)\n",
        "\n",
        "        # Linear Projection, Dropout, Residual sum, and Layer Normalization\n",
        "        output = self.layerNorm(self.dropout(self.W_O(output)) + residual) # (batch_size, max_len, hidden_units)\n",
        "        return output, attn_dist\n",
        "\n",
        "\n",
        "class PositionwiseFeedForward(nn.Module):\n",
        "    def __init__(self, hidden_units, dropout_rate):\n",
        "        super(PositionwiseFeedForward, self).__init__()\n",
        "\n",
        "        self.W_1 = nn.Linear(hidden_units, hidden_units)\n",
        "        self.W_2 = nn.Linear(hidden_units, hidden_units)\n",
        "        self.dropout = nn.Dropout(dropout_rate)\n",
        "        self.layerNorm = nn.LayerNorm(hidden_units, 1e-6) # layer normalization\n",
        "\n",
        "    def forward(self, x):\n",
        "        residual = x\n",
        "        output = self.W_2(F.relu(self.dropout(self.W_1(x))))\n",
        "        output = self.layerNorm(self.dropout(output) + residual)\n",
        "        return output\n",
        "\n",
        "\n",
        "class SASRecBlock(nn.Module):\n",
        "    def __init__(self, num_heads, hidden_units, dropout_rate):\n",
        "        super(SASRecBlock, self).__init__()\n",
        "        self.attention = MultiHeadAttention(num_heads, hidden_units, dropout_rate)\n",
        "        self.pointwise_feedforward = PositionwiseFeedForward(hidden_units, dropout_rate)\n",
        "\n",
        "    def forward(self, input_enc, mask):\n",
        "        \"\"\"\n",
        "        input_enc : (batch_size, max_len, hidden_units)\n",
        "        mask : (batch_size, 1, max_len, max_len)\n",
        "        \"\"\"\n",
        "        output_enc, attn_dist = self.attention(input_enc, mask)\n",
        "        output_enc = self.pointwise_feedforward(output_enc)\n",
        "        return output_enc, attn_dist\n",
        "\n",
        "\n",
        "class SASRec(nn.Module):\n",
        "    def __init__(self, num_user, num_item, hidden_units, num_heads, num_layers, max_len, dropout_rate, device):\n",
        "        super(SASRec, self).__init__()\n",
        "\n",
        "        self.num_user = num_user\n",
        "        self.num_item = num_item\n",
        "        self.hidden_units = hidden_units\n",
        "        self.num_heads = num_heads\n",
        "        self.num_layers = num_layers \n",
        "        self.device = device\n",
        "        \n",
        "        self.item_emb = nn.Embedding(num_item + 1, hidden_units, padding_idx=0)\n",
        "        self.pos_emb = nn.Embedding(max_len, hidden_units) # learnable positional encoding\n",
        "        self.dropout = nn.Dropout(dropout_rate)\n",
        "        self.emb_layernorm = nn.LayerNorm(hidden_units, eps=1e-6)\n",
        "        \n",
        "        self.blocks = nn.ModuleList([SASRecBlock(num_heads, hidden_units, dropout_rate) for _ in range(num_layers)])\n",
        "    \n",
        "    def feats(self, log_seqs):\n",
        "        \"\"\"\n",
        "        log_seqs : (batch_size, max_len)\n",
        "\n",
        "        ex)\n",
        "        log_seqs = [\n",
        "                [1, 2, 3, 4, 5],\n",
        "                [0, 0, 0, 1, 2],\n",
        "                [0, 0, 1, 2, 3]\n",
        "        ]\n",
        "        \n",
        "        \"\"\"\n",
        "        seqs = self.item_emb(torch.LongTensor(log_seqs).to(self.device)) # (batch_size, max_len, hidden_units)\n",
        "        positions = np.tile(np.array(range(log_seqs.shape[1])), [log_seqs.shape[0], 1]) # (batch_size, max_len)\n",
        "        seqs += self.pos_emb(torch.LongTensor(positions).to(self.device)) # (batch_size, max_len, hidden_units)\n",
        "        seqs = self.emb_layernorm(self.dropout(seqs)) # LayerNorm\n",
        "\n",
        "        # masking \n",
        "        mask_pad = torch.BoolTensor(log_seqs > 0).unsqueeze(1).unsqueeze(1) # (batch_size, 1, 1, max_len)\n",
        "        mask_time = (1 - torch.triu(torch.ones((1, 1, seqs.size(1), seqs.size(1))), diagonal=1)).bool() # (batch_size, 1, max_len, max_len)\n",
        "        mask = (mask_pad & mask_time).to(self.device) # (batch_size, 1, max_len, max_len)\n",
        "        for block in self.blocks: \n",
        "            seqs, attn_dist = block(seqs, mask)\n",
        "\n",
        "        # (batch_size, max_len, hidden_units)\n",
        "        return seqs\n",
        "    \n",
        "    def forward(self, log_seqs, pos_seqs, neg_seqs):\n",
        "        \"\"\"\n",
        "        log_seqs : (batch_size, max_len)\n",
        "        pos_seqs : (batch_size, max_len)\n",
        "        neg_seqs : (batch_size, max_len)\n",
        "\n",
        "        ex)\n",
        "        log_seqs = [\n",
        "                [1, 2, 3, 4, 5],\n",
        "                [0, 0, 0, 1, 2],\n",
        "                [0, 0, 1, 2, 3]\n",
        "        ]\n",
        "        \n",
        "        \"\"\"\n",
        "        # 학습에 사용\n",
        "        feats = self.feats(log_seqs)\n",
        "        pos_embs = self.item_emb(torch.LongTensor(pos_seqs).to(self.device))\n",
        "        neg_embs = self.item_emb(torch.LongTensor(neg_seqs).to(self.device))\n",
        "        \n",
        "        pos_logits = (feats * pos_embs).sum(dim=-1)\n",
        "        neg_logits = (feats * neg_embs).sum(dim=-1)\n",
        "        return pos_logits, neg_logits\n",
        "    \n",
        "    def predict(self, log_seqs, item_indices):\n",
        "        # evaluation에 사용\n",
        "        final_feats = self.feats(log_seqs)[:, -1, :]\n",
        "        item_embs = self.item_emb(torch.LongTensor(item_indices).to(self.device))\n",
        "        logits = item_embs.matmul(final_feats.unsqueeze(-1)).squeeze(-1)\n",
        "        return logits"
      ],
      "metadata": {
        "id": "YHtV72JbFX7M"
      },
      "execution_count": 6,
      "outputs": []
    },
    {
      "cell_type": "markdown",
      "metadata": {
        "id": "dk-bL5p4nx5W"
      },
      "source": [
        "# 4. 학습 함수"
      ]
    },
    {
      "cell_type": "code",
      "source": [
        "def train(model, criterion, optimizer, data_loader):\n",
        "    model.train()\n",
        "    loss_val = 0\n",
        "    for seq, pos, neg in data_loader:\n",
        "        pos_logits, neg_logits = model(seq.cpu().numpy(), pos.cpu().numpy(), neg.cpu().numpy())\n",
        "        pos_labels, neg_labels = torch.ones(pos_logits.shape, device=device), torch.zeros(neg_logits.shape, device=device)\n",
        "\n",
        "        optimizer.zero_grad()\n",
        "        indices = np.where(pos != 0)\n",
        "        loss = criterion(pos_logits[indices], pos_labels[indices])\n",
        "        loss += criterion(neg_logits[indices], neg_labels[indices])\n",
        "\n",
        "        loss_val += loss.item()\n",
        "\n",
        "        loss.backward()\n",
        "        optimizer.step()\n",
        "    \n",
        "    loss_val /= len(data_loader)\n",
        "\n",
        "    return loss_val\n",
        "\n",
        "def evaluate(model, user_train, user_valid, max_len, sasrec_dataset, make_sequence_dataset):\n",
        "    model.eval()\n",
        "\n",
        "    NDCG = 0.0 # NDCG@10\n",
        "    HIT = 0.0 # HIT@10\n",
        "\n",
        "    num_item_sample = 100\n",
        "\n",
        "    users = [user for user in range(make_sequence_dataset.num_user)]\n",
        "\n",
        "    for user in users:\n",
        "        seq = user_train[user][-max_len:]\n",
        "        rated = user_train[user] + user_valid[user]\n",
        "        items = user_valid[user] + sasrec_dataset.random_neg_sampling(rated_item = rated, num_item_sample = num_item_sample)\n",
        "        with torch.no_grad():\n",
        "            predictions = -model.predict(np.array([seq]), np.array(items))\n",
        "            predictions = predictions[0]\n",
        "            rank = predictions.argsort().argsort()[0].item()\n",
        "\n",
        "        if rank < 10: #Top10\n",
        "            NDCG += 1 / np.log2(rank + 2)\n",
        "            HIT += 1\n",
        "\n",
        "    NDCG /= len(users)\n",
        "    HIT /= len(users)\n",
        "\n",
        "    return NDCG, HIT"
      ],
      "metadata": {
        "id": "9YGrj0ztii9u"
      },
      "execution_count": 7,
      "outputs": []
    },
    {
      "cell_type": "markdown",
      "metadata": {
        "id": "ozBvgarCnx5W"
      },
      "source": [
        "# 5. 학습"
      ]
    },
    {
      "cell_type": "code",
      "source": [
        "make_sequence_dataset = MakeSequenceDataSet(config = config)\n",
        "user_train, user_valid = make_sequence_dataset.get_train_valid_data()"
      ],
      "metadata": {
        "id": "tb8nwGb-Lufv"
      },
      "execution_count": 8,
      "outputs": []
    },
    {
      "cell_type": "code",
      "source": [
        "sasrec_dataset = SASRecDataSet(\n",
        "    user_train = user_train, \n",
        "    max_len = config.max_len, \n",
        "    num_user = make_sequence_dataset.num_user, \n",
        "    num_item = make_sequence_dataset.num_item, \n",
        "    )"
      ],
      "metadata": {
        "id": "6mkKkbLtYYJd"
      },
      "execution_count": 9,
      "outputs": []
    },
    {
      "cell_type": "code",
      "source": [
        "data_loader = DataLoader(\n",
        "    sasrec_dataset, \n",
        "    batch_size = config.batch_size, \n",
        "    shuffle = True, \n",
        "    pin_memory = True,\n",
        "    num_workers = config.num_workers,\n",
        "    )"
      ],
      "metadata": {
        "id": "hzMIEy4kYY9l"
      },
      "execution_count": 10,
      "outputs": []
    },
    {
      "cell_type": "code",
      "source": [
        "model = SASRec(\n",
        "    num_user = make_sequence_dataset.num_user, \n",
        "    num_item = make_sequence_dataset.num_item, \n",
        "    hidden_units = config.hidden_units, \n",
        "    num_heads = config.num_heads, \n",
        "    num_layers = config.num_layers, \n",
        "    max_len = config.max_len, \n",
        "    dropout_rate = config.dropout_rate, \n",
        "    device = device,\n",
        "    ).to(device)\n",
        "\n",
        "criterion = torch.nn.BCEWithLogitsLoss()\n",
        "optimizer = torch.optim.Adam(model.parameters(), lr=config.lr)"
      ],
      "metadata": {
        "id": "FrphMwGbYaFK"
      },
      "execution_count": 11,
      "outputs": []
    },
    {
      "cell_type": "code",
      "source": [
        "best_ndcg = 0\n",
        "loss_list = []\n",
        "ndcg_list = []\n",
        "hit_list = []\n",
        "for epoch in range(1, config.num_epochs + 1):\n",
        "    tbar = tqdm(range(1))\n",
        "    for _ in tbar:\n",
        "        train_loss = train(\n",
        "            model = model, \n",
        "            criterion = criterion, \n",
        "            optimizer = optimizer, \n",
        "            data_loader = data_loader)\n",
        "        \n",
        "        ndcg, hit = evaluate(\n",
        "            model = model, \n",
        "            user_train = user_train, \n",
        "            user_valid = user_valid, \n",
        "            max_len = config.max_len,\n",
        "            sasrec_dataset = sasrec_dataset, \n",
        "            make_sequence_dataset = make_sequence_dataset,\n",
        "            )\n",
        "\n",
        "        loss_list.append(train_loss)\n",
        "        ndcg_list.append(ndcg)\n",
        "        hit_list.append(hit)\n",
        "\n",
        "        tbar.set_description(f'Epoch: {epoch:3d}| Train loss: {train_loss:.5f}| NDCG@10: {ndcg:.5f}| HIT@10: {hit:.5f}')"
      ],
      "metadata": {
        "colab": {
          "base_uri": "https://localhost:8080/"
        },
        "id": "OyNfpRIAYdAC",
        "outputId": "e6cc3126-bf47-40a7-fd59-58158f28ef9b"
      },
      "execution_count": 12,
      "outputs": [
        {
          "output_type": "stream",
          "name": "stderr",
          "text": [
            "Epoch:   1| Train loss: 5.89685| NDCG@10: 0.05035| HIT@10: 0.10730: 100%|██████████| 1/1 [00:04<00:00,  4.15s/it]\n",
            "Epoch:   2| Train loss: 5.71095| NDCG@10: 0.04935| HIT@10: 0.11773: 100%|██████████| 1/1 [00:04<00:00,  4.89s/it]\n",
            "Epoch:   3| Train loss: 5.66691| NDCG@10: 0.05093| HIT@10: 0.11773: 100%|██████████| 1/1 [00:05<00:00,  5.40s/it]\n",
            "Epoch:   4| Train loss: 5.56942| NDCG@10: 0.05241| HIT@10: 0.12072: 100%|██████████| 1/1 [00:06<00:00,  6.53s/it]\n",
            "Epoch:   5| Train loss: 5.47815| NDCG@10: 0.05338| HIT@10: 0.12072: 100%|██████████| 1/1 [00:04<00:00,  4.28s/it]\n",
            "Epoch:   6| Train loss: 5.36596| NDCG@10: 0.05840| HIT@10: 0.12519: 100%|██████████| 1/1 [00:03<00:00,  3.25s/it]\n",
            "Epoch:   7| Train loss: 5.30521| NDCG@10: 0.06073| HIT@10: 0.13413: 100%|██████████| 1/1 [00:02<00:00,  2.68s/it]\n",
            "Epoch:   8| Train loss: 5.17374| NDCG@10: 0.05778| HIT@10: 0.12966: 100%|██████████| 1/1 [00:02<00:00,  2.64s/it]\n",
            "Epoch:   9| Train loss: 5.00715| NDCG@10: 0.06416| HIT@10: 0.14307: 100%|██████████| 1/1 [00:02<00:00,  2.60s/it]\n",
            "Epoch:  10| Train loss: 4.82438| NDCG@10: 0.05839| HIT@10: 0.13264: 100%|██████████| 1/1 [00:02<00:00,  2.63s/it]\n",
            "Epoch:  11| Train loss: 4.75734| NDCG@10: 0.06111| HIT@10: 0.13413: 100%|██████████| 1/1 [00:02<00:00,  2.63s/it]\n",
            "Epoch:  12| Train loss: 4.60357| NDCG@10: 0.06400| HIT@10: 0.14009: 100%|██████████| 1/1 [00:02<00:00,  2.70s/it]\n",
            "Epoch:  13| Train loss: 4.46446| NDCG@10: 0.06033| HIT@10: 0.13711: 100%|██████████| 1/1 [00:02<00:00,  2.61s/it]\n",
            "Epoch:  14| Train loss: 4.29970| NDCG@10: 0.06155| HIT@10: 0.14307: 100%|██████████| 1/1 [00:02<00:00,  2.58s/it]\n",
            "Epoch:  15| Train loss: 4.23211| NDCG@10: 0.05911| HIT@10: 0.12966: 100%|██████████| 1/1 [00:02<00:00,  2.60s/it]\n",
            "Epoch:  16| Train loss: 4.11120| NDCG@10: 0.06260| HIT@10: 0.14158: 100%|██████████| 1/1 [00:02<00:00,  2.57s/it]\n",
            "Epoch:  17| Train loss: 4.01084| NDCG@10: 0.06752| HIT@10: 0.15052: 100%|██████████| 1/1 [00:02<00:00,  2.56s/it]\n",
            "Epoch:  18| Train loss: 3.93531| NDCG@10: 0.06590| HIT@10: 0.15350: 100%|██████████| 1/1 [00:03<00:00,  3.49s/it]\n",
            "Epoch:  19| Train loss: 3.79140| NDCG@10: 0.06496| HIT@10: 0.14605: 100%|██████████| 1/1 [00:04<00:00,  4.01s/it]\n",
            "Epoch:  20| Train loss: 3.75893| NDCG@10: 0.06877| HIT@10: 0.15499: 100%|██████████| 1/1 [00:02<00:00,  2.60s/it]\n",
            "Epoch:  21| Train loss: 3.70106| NDCG@10: 0.07032| HIT@10: 0.16990: 100%|██████████| 1/1 [00:02<00:00,  2.59s/it]\n",
            "Epoch:  22| Train loss: 3.62155| NDCG@10: 0.06925| HIT@10: 0.15946: 100%|██████████| 1/1 [00:02<00:00,  2.67s/it]\n",
            "Epoch:  23| Train loss: 3.53007| NDCG@10: 0.07737| HIT@10: 0.16542: 100%|██████████| 1/1 [00:02<00:00,  2.59s/it]\n",
            "Epoch:  24| Train loss: 3.42252| NDCG@10: 0.07782| HIT@10: 0.16990: 100%|██████████| 1/1 [00:02<00:00,  2.54s/it]\n",
            "Epoch:  25| Train loss: 3.38392| NDCG@10: 0.07505| HIT@10: 0.16990: 100%|██████████| 1/1 [00:02<00:00,  2.55s/it]\n",
            "Epoch:  26| Train loss: 3.26112| NDCG@10: 0.08109| HIT@10: 0.18480: 100%|██████████| 1/1 [00:02<00:00,  2.56s/it]\n",
            "Epoch:  27| Train loss: 3.19795| NDCG@10: 0.08290| HIT@10: 0.18927: 100%|██████████| 1/1 [00:02<00:00,  2.57s/it]\n",
            "Epoch:  28| Train loss: 3.08483| NDCG@10: 0.08129| HIT@10: 0.18629: 100%|██████████| 1/1 [00:02<00:00,  2.60s/it]\n",
            "Epoch:  29| Train loss: 3.03383| NDCG@10: 0.08068| HIT@10: 0.18033: 100%|██████████| 1/1 [00:02<00:00,  2.59s/it]\n",
            "Epoch:  30| Train loss: 2.99677| NDCG@10: 0.07987| HIT@10: 0.18629: 100%|██████████| 1/1 [00:02<00:00,  2.58s/it]\n",
            "Epoch:  31| Train loss: 3.00086| NDCG@10: 0.08003| HIT@10: 0.18033: 100%|██████████| 1/1 [00:02<00:00,  2.64s/it]\n",
            "Epoch:  32| Train loss: 2.84085| NDCG@10: 0.08305| HIT@10: 0.19225: 100%|██████████| 1/1 [00:02<00:00,  2.54s/it]\n",
            "Epoch:  33| Train loss: 2.78972| NDCG@10: 0.08979| HIT@10: 0.20864: 100%|██████████| 1/1 [00:02<00:00,  2.55s/it]\n",
            "Epoch:  34| Train loss: 2.77157| NDCG@10: 0.09028| HIT@10: 0.20715: 100%|██████████| 1/1 [00:02<00:00,  2.53s/it]\n",
            "Epoch:  35| Train loss: 2.70224| NDCG@10: 0.08886| HIT@10: 0.20417: 100%|██████████| 1/1 [00:02<00:00,  2.53s/it]\n",
            "Epoch:  36| Train loss: 2.65127| NDCG@10: 0.08578| HIT@10: 0.20119: 100%|██████████| 1/1 [00:02<00:00,  2.58s/it]\n",
            "Epoch:  37| Train loss: 2.55700| NDCG@10: 0.09142| HIT@10: 0.21461: 100%|██████████| 1/1 [00:02<00:00,  2.57s/it]\n",
            "Epoch:  38| Train loss: 2.53042| NDCG@10: 0.09983| HIT@10: 0.22951: 100%|██████████| 1/1 [00:03<00:00,  3.60s/it]\n",
            "Epoch:  39| Train loss: 2.48033| NDCG@10: 0.09652| HIT@10: 0.21908: 100%|██████████| 1/1 [00:02<00:00,  2.96s/it]\n",
            "Epoch:  40| Train loss: 2.43898| NDCG@10: 0.09625| HIT@10: 0.22504: 100%|██████████| 1/1 [00:02<00:00,  2.60s/it]\n",
            "Epoch:  41| Train loss: 2.36879| NDCG@10: 0.10219| HIT@10: 0.23249: 100%|██████████| 1/1 [00:02<00:00,  2.63s/it]\n",
            "Epoch:  42| Train loss: 2.32843| NDCG@10: 0.10554| HIT@10: 0.23398: 100%|██████████| 1/1 [00:02<00:00,  2.61s/it]\n",
            "Epoch:  43| Train loss: 2.29781| NDCG@10: 0.10572| HIT@10: 0.23696: 100%|██████████| 1/1 [00:02<00:00,  2.63s/it]\n",
            "Epoch:  44| Train loss: 2.26583| NDCG@10: 0.11095| HIT@10: 0.24888: 100%|██████████| 1/1 [00:02<00:00,  2.55s/it]\n",
            "Epoch:  45| Train loss: 2.18309| NDCG@10: 0.11156| HIT@10: 0.24590: 100%|██████████| 1/1 [00:03<00:00,  3.30s/it]\n",
            "Epoch:  46| Train loss: 2.14892| NDCG@10: 0.11464| HIT@10: 0.26080: 100%|██████████| 1/1 [00:02<00:00,  2.60s/it]\n",
            "Epoch:  47| Train loss: 2.10067| NDCG@10: 0.12056| HIT@10: 0.27422: 100%|██████████| 1/1 [00:02<00:00,  2.64s/it]\n",
            "Epoch:  48| Train loss: 2.07257| NDCG@10: 0.11939| HIT@10: 0.27422: 100%|██████████| 1/1 [00:02<00:00,  2.63s/it]\n",
            "Epoch:  49| Train loss: 2.03703| NDCG@10: 0.11637| HIT@10: 0.26379: 100%|██████████| 1/1 [00:02<00:00,  2.63s/it]\n",
            "Epoch:  50| Train loss: 2.02767| NDCG@10: 0.11480| HIT@10: 0.26230: 100%|██████████| 1/1 [00:02<00:00,  2.69s/it]\n"
          ]
        }
      ]
    },
    {
      "cell_type": "code",
      "source": [
        "import matplotlib.pyplot as plt\n",
        "\n",
        "fig, ax = plt.subplots(1, 3, figsize = (15, 5))\n",
        "ax = ax.flatten()\n",
        "epochs = [i for i in range(1, config.num_epochs + 1)]\n",
        "\n",
        "ax[0].plot(epochs, loss_list)\n",
        "ax[0].set_title('Loss')\n",
        "\n",
        "ax[1].plot(epochs, ndcg_list)\n",
        "ax[1].set_title('NDCG')\n",
        "\n",
        "ax[2].plot(epochs, hit_list)\n",
        "ax[2].set_title('HIT')\n",
        "plt.show()"
      ],
      "metadata": {
        "colab": {
          "base_uri": "https://localhost:8080/",
          "height": 336
        },
        "id": "QR_pOciFYtT7",
        "outputId": "404c4a3b-df48-4ff8-c9ea-cfb4f7b85b0c"
      },
      "execution_count": 13,
      "outputs": [
        {
          "output_type": "display_data",
          "data": {
            "text/plain": [
              "<Figure size 1080x360 with 3 Axes>"
            ],
            "image/png": "[encoded data removed]"
          },
          "metadata": {
            "needs_background": "light"
          }
        }
      ]
    }
  ]
}